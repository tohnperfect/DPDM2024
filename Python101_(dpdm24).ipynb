{
  "nbformat": 4,
  "nbformat_minor": 0,
  "metadata": {
    "colab": {
      "provenance": [],
      "include_colab_link": true
    },
    "kernelspec": {
      "name": "python3",
      "display_name": "Python 3"
    },
    "language_info": {
      "name": "python"
    }
  },
  "cells": [
    {
      "cell_type": "markdown",
      "metadata": {
        "id": "view-in-github",
        "colab_type": "text"
      },
      "source": [
        "<a href=\"https://colab.research.google.com/github/tohnperfect/DPDM2024/blob/main/Python101_(dpdm24).ipynb\" target=\"_parent\"><img src=\"https://colab.research.google.com/assets/colab-badge.svg\" alt=\"Open In Colab\"/></a>"
      ]
    },
    {
      "cell_type": "markdown",
      "source": [
        "# ใช้  header เพื่อจัดการ เอกสารและการ index\n",
        "\n",
        "# header1\n",
        "\n",
        "## header2"
      ],
      "metadata": {
        "id": "U2yWfZdJ0ajZ"
      }
    },
    {
      "cell_type": "markdown",
      "source": [
        "# Python101"
      ],
      "metadata": {
        "id": "VmGtCcGmO4nt"
      }
    },
    {
      "cell_type": "markdown",
      "source": [
        "## Python example (ตัวอย่าง Python)"
      ],
      "metadata": {
        "id": "JUIWH8idYBIF"
      }
    },
    {
      "cell_type": "code",
      "source": [
        "for i in ['a','b','c'] :\n",
        "  print(i,end=' ')\n",
        "  print('/')\n",
        "  for j in range(10):\n",
        "    ccc=10"
      ],
      "metadata": {
        "colab": {
          "base_uri": "https://localhost:8080/"
        },
        "id": "dyfOsfVnX8zV",
        "outputId": "69c50419-43b0-4900-93a0-8bdf0fb4401f"
      },
      "execution_count": null,
      "outputs": [
        {
          "output_type": "stream",
          "name": "stdout",
          "text": [
            "a /\n",
            "b /\n",
            "c /\n"
          ]
        }
      ]
    },
    {
      "cell_type": "code",
      "execution_count": null,
      "metadata": {
        "colab": {
          "base_uri": "https://localhost:8080/"
        },
        "id": "UkqSZC68X4cg",
        "outputId": "e80db16e-519e-4c67-c147-4c2c8fe2d0ec"
      },
      "outputs": [
        {
          "output_type": "stream",
          "name": "stdout",
          "text": [
            "a /\n",
            "10\n",
            "10\n",
            "10\n",
            "10\n",
            "10\n",
            "10\n",
            "10\n",
            "10\n",
            "10\n",
            "10\n",
            "b /\n",
            "10\n",
            "10\n",
            "10\n",
            "10\n",
            "10\n",
            "10\n",
            "10\n",
            "10\n",
            "10\n",
            "10\n",
            "c /\n",
            "10\n",
            "10\n",
            "10\n",
            "10\n",
            "10\n",
            "10\n",
            "10\n",
            "10\n",
            "10\n",
            "10\n"
          ]
        }
      ],
      "source": [
        "for i in ['a','b','c']:\n",
        "    print(i,end=' ')\n",
        "    print('/')\n",
        "    for j in range (10):\n",
        "        ccc=10\n",
        "        print(ccc)"
      ]
    },
    {
      "cell_type": "markdown",
      "source": [
        "# Intro to string and print statement\n",
        "\n",
        "การจัดการข้อมูลประเภท String"
      ],
      "metadata": {
        "id": "sUmW9DZPX9dY"
      }
    },
    {
      "cell_type": "markdown",
      "source": [
        "\n",
        "วิธีการ define ตัวแปร\n",
        "\n",
        "```\n",
        "variable_a = ข้อมูลที่เราต้องการ\n",
        "```\n",
        "\n"
      ],
      "metadata": {
        "id": "_ulwTs5ZluYY"
      }
    },
    {
      "cell_type": "markdown",
      "source": [
        "## String(text) ข้อมูลประเภท String"
      ],
      "metadata": {
        "id": "mgTqdqC-YbVr"
      }
    },
    {
      "cell_type": "code",
      "source": [
        "text1 = \"Stat\""
      ],
      "metadata": {
        "id": "Aki52LSMYeGR"
      },
      "execution_count": null,
      "outputs": []
    },
    {
      "cell_type": "code",
      "source": [
        "text2 = 'ม.ขอนแก่น'"
      ],
      "metadata": {
        "id": "DXqpcfVVYhNf"
      },
      "execution_count": null,
      "outputs": []
    },
    {
      "cell_type": "code",
      "source": [
        "text3 = '123456'"
      ],
      "metadata": {
        "id": "crjur8eGqQtw"
      },
      "execution_count": null,
      "outputs": []
    },
    {
      "cell_type": "code",
      "source": [
        "print(text1)"
      ],
      "metadata": {
        "colab": {
          "base_uri": "https://localhost:8080/"
        },
        "id": "gYbLncc1Yhwy",
        "outputId": "c96baca6-f735-4b8b-ad4d-82831ee77daf"
      },
      "execution_count": null,
      "outputs": [
        {
          "output_type": "stream",
          "name": "stdout",
          "text": [
            "Stat\n"
          ]
        }
      ]
    },
    {
      "cell_type": "markdown",
      "source": [
        "เราสามารถนำ String + String ได้"
      ],
      "metadata": {
        "id": "w78M592zPNl3"
      }
    },
    {
      "cell_type": "code",
      "source": [
        "print(text1+text2)"
      ],
      "metadata": {
        "colab": {
          "base_uri": "https://localhost:8080/"
        },
        "id": "mZZ3M0wbYkru",
        "outputId": "ace6ee65-cd33-46a7-a1c6-144d2ec40c80"
      },
      "execution_count": null,
      "outputs": [
        {
          "output_type": "stream",
          "name": "stdout",
          "text": [
            "Statม.ขอนแก่น\n"
          ]
        }
      ]
    },
    {
      "cell_type": "code",
      "source": [
        "int1 = 5"
      ],
      "metadata": {
        "id": "E-kEVHKhoo9j"
      },
      "execution_count": null,
      "outputs": []
    },
    {
      "cell_type": "markdown",
      "source": [
        "แต่ไม่สามารถ + ตัวเลขได้"
      ],
      "metadata": {
        "id": "z_z8I5lTPRyK"
      }
    },
    {
      "cell_type": "code",
      "source": [
        "print(text1 + int1)"
      ],
      "metadata": {
        "colab": {
          "base_uri": "https://localhost:8080/",
          "height": 158
        },
        "id": "zRL7x7KpYquR",
        "outputId": "6b522842-af8a-4efa-90b0-ef1776f25f11"
      },
      "execution_count": null,
      "outputs": [
        {
          "output_type": "error",
          "ename": "TypeError",
          "evalue": "can only concatenate str (not \"int\") to str",
          "traceback": [
            "\u001b[0;31m---------------------------------------------------------------------------\u001b[0m",
            "\u001b[0;31mTypeError\u001b[0m                                 Traceback (most recent call last)",
            "\u001b[0;32m<ipython-input-5-1e39db73f82c>\u001b[0m in \u001b[0;36m<cell line: 1>\u001b[0;34m()\u001b[0m\n\u001b[0;32m----> 1\u001b[0;31m \u001b[0mprint\u001b[0m\u001b[0;34m(\u001b[0m\u001b[0mtext1\u001b[0m \u001b[0;34m+\u001b[0m \u001b[0mint1\u001b[0m\u001b[0;34m)\u001b[0m\u001b[0;34m\u001b[0m\u001b[0;34m\u001b[0m\u001b[0m\n\u001b[0m",
            "\u001b[0;31mTypeError\u001b[0m: can only concatenate str (not \"int\") to str"
          ]
        }
      ]
    },
    {
      "cell_type": "code",
      "source": [
        "print(int1 + text1)"
      ],
      "metadata": {
        "colab": {
          "base_uri": "https://localhost:8080/",
          "height": 158
        },
        "id": "-llIefCzYtaH",
        "outputId": "4438a681-f019-4dcf-8405-94d35aee7e46"
      },
      "execution_count": null,
      "outputs": [
        {
          "output_type": "error",
          "ename": "TypeError",
          "evalue": "unsupported operand type(s) for +: 'int' and 'str'",
          "traceback": [
            "\u001b[0;31m---------------------------------------------------------------------------\u001b[0m",
            "\u001b[0;31mTypeError\u001b[0m                                 Traceback (most recent call last)",
            "\u001b[0;32m<ipython-input-6-7d561b838d8e>\u001b[0m in \u001b[0;36m<cell line: 1>\u001b[0;34m()\u001b[0m\n\u001b[0;32m----> 1\u001b[0;31m \u001b[0mprint\u001b[0m\u001b[0;34m(\u001b[0m\u001b[0mint1\u001b[0m \u001b[0;34m+\u001b[0m \u001b[0mtext1\u001b[0m\u001b[0;34m)\u001b[0m\u001b[0;34m\u001b[0m\u001b[0;34m\u001b[0m\u001b[0m\n\u001b[0m",
            "\u001b[0;31mTypeError\u001b[0m: unsupported operand type(s) for +: 'int' and 'str'"
          ]
        }
      ]
    },
    {
      "cell_type": "code",
      "source": [
        "print(int1 + text3)"
      ],
      "metadata": {
        "colab": {
          "base_uri": "https://localhost:8080/",
          "height": 158
        },
        "id": "oYl4m7uDqe6B",
        "outputId": "0d28ca9c-055d-4639-891d-9fa62343ffaa"
      },
      "execution_count": null,
      "outputs": [
        {
          "output_type": "error",
          "ename": "TypeError",
          "evalue": "unsupported operand type(s) for +: 'int' and 'str'",
          "traceback": [
            "\u001b[0;31m---------------------------------------------------------------------------\u001b[0m",
            "\u001b[0;31mTypeError\u001b[0m                                 Traceback (most recent call last)",
            "\u001b[0;32m<ipython-input-8-02effb2cf50b>\u001b[0m in \u001b[0;36m<cell line: 1>\u001b[0;34m()\u001b[0m\n\u001b[0;32m----> 1\u001b[0;31m \u001b[0mprint\u001b[0m\u001b[0;34m(\u001b[0m\u001b[0mint1\u001b[0m \u001b[0;34m+\u001b[0m \u001b[0mtext3\u001b[0m\u001b[0;34m)\u001b[0m\u001b[0;34m\u001b[0m\u001b[0;34m\u001b[0m\u001b[0m\n\u001b[0m",
            "\u001b[0;31mTypeError\u001b[0m: unsupported operand type(s) for +: 'int' and 'str'"
          ]
        }
      ]
    },
    {
      "cell_type": "markdown",
      "source": [
        "## การใช้ generative ai ช่วยในการเขียน code"
      ],
      "metadata": {
        "id": "7kOdaGHD4t4h"
      }
    },
    {
      "cell_type": "code",
      "source": [
        "# prompt: สุ่มตัวเลข 10 ตัว ใส่ตัวแปร x\n",
        "\n",
        "import random\n",
        "x = [random.randint(0, 9) for _ in range(10)]\n"
      ],
      "metadata": {
        "id": "rymqmapxrIya"
      },
      "execution_count": null,
      "outputs": []
    },
    {
      "cell_type": "code",
      "source": [
        "print(x)"
      ],
      "metadata": {
        "colab": {
          "base_uri": "https://localhost:8080/"
        },
        "id": "FHqADOxEs49V",
        "outputId": "b27e4d3c-3238-44bb-bf1d-a3813fe080bd"
      },
      "execution_count": null,
      "outputs": [
        {
          "output_type": "stream",
          "name": "stdout",
          "text": [
            "[7, 0, 6, 5, 4, 1, 4, 1, 2, 0]\n"
          ]
        }
      ]
    },
    {
      "cell_type": "markdown",
      "source": [
        "## เราสามารถจัดการ text แบบพิเศษ (ใช้ตัวแปร หรือ run code ใน text) ได้โดยการใช้\n",
        "\n",
        "```\n",
        "f'ข้อความ1 {ส่วนของ code1} ข้อความ2 {ส่วนของ code2}'\n",
        "```"
      ],
      "metadata": {
        "id": "LLAVvUnFuhe7"
      }
    },
    {
      "cell_type": "code",
      "source": [
        "print(f'six plus five = {6+5}')"
      ],
      "metadata": {
        "colab": {
          "base_uri": "https://localhost:8080/"
        },
        "id": "C5A30Uq5ZmAB",
        "outputId": "2999a632-1746-4596-f7d9-92316f8e5136"
      },
      "execution_count": null,
      "outputs": [
        {
          "output_type": "stream",
          "name": "stdout",
          "text": [
            "six plus five = 11\n"
          ]
        }
      ]
    },
    {
      "cell_type": "code",
      "source": [
        "print(f'six plus five = {6+5:.2f}') # .2f หมายถึงทำเป็นทศนิยม 2 ตำแหน่ง"
      ],
      "metadata": {
        "colab": {
          "base_uri": "https://localhost:8080/"
        },
        "id": "7uE5avqdZ4Lo",
        "outputId": "4ce4a43a-035c-4bdd-f18d-1fccd64862c9"
      },
      "execution_count": null,
      "outputs": [
        {
          "output_type": "stream",
          "name": "stdout",
          "text": [
            "six plus five = 11.00\n"
          ]
        }
      ]
    },
    {
      "cell_type": "code",
      "source": [
        "print(f'six plus five = {6+5:.2f}%') # % หมายถึงเป็น %"
      ],
      "metadata": {
        "colab": {
          "base_uri": "https://localhost:8080/"
        },
        "id": "0bZygJghZnsP",
        "outputId": "cb39ca8b-a445-47d7-9bfd-e3ef9fe138f0"
      },
      "execution_count": null,
      "outputs": [
        {
          "output_type": "stream",
          "name": "stdout",
          "text": [
            "six plus five = 11.00%\n"
          ]
        }
      ]
    },
    {
      "cell_type": "code",
      "source": [
        "print(f'six plus five = {6+5.7:.0f}%') # .0 หมายถึง ไม่เอาทศนิยม"
      ],
      "metadata": {
        "colab": {
          "base_uri": "https://localhost:8080/"
        },
        "id": "YovMbr3zZo4p",
        "outputId": "55e1e901-27e9-4af0-bdd3-5ff1e03a5e7d"
      },
      "execution_count": null,
      "outputs": [
        {
          "output_type": "stream",
          "name": "stdout",
          "text": [
            "six plus five = 12%\n"
          ]
        }
      ]
    },
    {
      "cell_type": "code",
      "source": [
        "print(f'six plus five = {6+5:03d}') #แสดงผลลัพธ์ 3 หลัก"
      ],
      "metadata": {
        "colab": {
          "base_uri": "https://localhost:8080/"
        },
        "id": "ZqEvgTlFZqTi",
        "outputId": "ebb5f574-9953-4aff-d0b4-f95ae062c565"
      },
      "execution_count": null,
      "outputs": [
        {
          "output_type": "stream",
          "name": "stdout",
          "text": [
            "six plus five = 011\n"
          ]
        }
      ]
    },
    {
      "cell_type": "code",
      "source": [
        "st1 = f'six plus five = {6+5:03d}' #เก็บข้อมูลใน st1"
      ],
      "metadata": {
        "id": "Xk6sLHDoZ-5l"
      },
      "execution_count": null,
      "outputs": []
    },
    {
      "cell_type": "code",
      "source": [
        "st1 #แสดงผลออกมา"
      ],
      "metadata": {
        "colab": {
          "base_uri": "https://localhost:8080/",
          "height": 56
        },
        "id": "07IuSmjnaAbw",
        "outputId": "3235da6f-5365-4ff4-8eb1-128385769731"
      },
      "execution_count": null,
      "outputs": [
        {
          "output_type": "execute_result",
          "data": {
            "text/plain": [
              "'six plus five = 011'"
            ],
            "application/vnd.google.colaboratory.intrinsic+json": {
              "type": "string"
            }
          },
          "metadata": {},
          "execution_count": 25
        }
      ]
    },
    {
      "cell_type": "code",
      "source": [
        "f\"six plus five = {'six' + 'five'}\" # การใช้งาน quote และ double quote"
      ],
      "metadata": {
        "colab": {
          "base_uri": "https://localhost:8080/",
          "height": 56
        },
        "id": "dqECkT84wOpF",
        "outputId": "032c2a10-ecb4-4f48-d1e8-149569b640dd"
      },
      "execution_count": null,
      "outputs": [
        {
          "output_type": "execute_result",
          "data": {
            "text/plain": [
              "'six plus five = sixfive'"
            ],
            "application/vnd.google.colaboratory.intrinsic+json": {
              "type": "string"
            }
          },
          "metadata": {},
          "execution_count": 28
        }
      ]
    },
    {
      "cell_type": "markdown",
      "source": [
        "##Advanced printing\n",
        "\n",
        "(การแสดงผลแบบ Advance)"
      ],
      "metadata": {
        "id": "MEflkU7kZRHh"
      }
    },
    {
      "cell_type": "markdown",
      "source": [
        "## Print"
      ],
      "metadata": {
        "id": "5tvoD0Gi19oZ"
      }
    },
    {
      "cell_type": "markdown",
      "source": [
        "\n",
        "```\n",
        "print(object(s), sep=separator, end=end, file=file, flush=flush)\n",
        "```\n",
        "\n"
      ],
      "metadata": {
        "id": "uQcYWHgS9Ob9"
      }
    },
    {
      "cell_type": "markdown",
      "source": [
        "### object(s)\n",
        "\n",
        "(s) สามารถ input object ได้มากกว่า 1 ตัว"
      ],
      "metadata": {
        "id": "IBUxSqwfygLv"
      }
    },
    {
      "cell_type": "code",
      "source": [
        "print(text1,text2,text3)"
      ],
      "metadata": {
        "colab": {
          "base_uri": "https://localhost:8080/"
        },
        "id": "6a_NLUdlyIjd",
        "outputId": "4a25664e-83df-4947-aa3b-72a6852f1a13"
      },
      "execution_count": null,
      "outputs": [
        {
          "output_type": "stream",
          "name": "stdout",
          "text": [
            "Stat ม.ขอนแก่น 123456\n"
          ]
        }
      ]
    },
    {
      "cell_type": "markdown",
      "source": [
        "### separator (sep) คือการแบ่งข้อมูลด้วยคำสั่ง ทั้งช่องว่างและ /\n",
        "\n",
        "\n",
        "```\n",
        "Default is ' '\n",
        "```\n",
        "for example\n"
      ],
      "metadata": {
        "id": "VPmUaNBN-oDq"
      }
    },
    {
      "cell_type": "code",
      "source": [
        "print(text1,text2,text3) #ถ้าไม่กำหนด sep จะใช้ ' ' แบ่ง"
      ],
      "metadata": {
        "colab": {
          "base_uri": "https://localhost:8080/"
        },
        "id": "58d2OykL9uLV",
        "outputId": "ce700bea-d20d-4292-965d-0e5650446476"
      },
      "execution_count": null,
      "outputs": [
        {
          "output_type": "stream",
          "name": "stdout",
          "text": [
            "Stat ม.ขอนแก่น 123456\n"
          ]
        }
      ]
    },
    {
      "cell_type": "code",
      "source": [
        "print(text1,text2,text3, sep ='+') #กำหนด sep เป็น +"
      ],
      "metadata": {
        "colab": {
          "base_uri": "https://localhost:8080/"
        },
        "id": "JKDXwhUu98g8",
        "outputId": "dac65cfb-3c5b-4a98-c077-47a26a47069c"
      },
      "execution_count": null,
      "outputs": [
        {
          "output_type": "stream",
          "name": "stdout",
          "text": [
            "Stat+ม.ขอนแก่น+123456\n"
          ]
        }
      ]
    },
    {
      "cell_type": "markdown",
      "source": [
        "### end (end) ไว้สำหรับการขึ้นบรรทัดใหม่หรือการเพิ่มตัวอักษร\n",
        "\n",
        "\n",
        "\n",
        "```\n",
        "Default is '\\n'\n",
        "```\n",
        "for example\n",
        "\n",
        "\n"
      ],
      "metadata": {
        "id": "SjbKTyhO-sXc"
      }
    },
    {
      "cell_type": "code",
      "source": [
        "print('stat')\n",
        "print('KKU')"
      ],
      "metadata": {
        "colab": {
          "base_uri": "https://localhost:8080/"
        },
        "id": "kBaAmiq_-Dtl",
        "outputId": "2fd70fc6-8e60-42f9-b4cf-2dd803bc9715"
      },
      "execution_count": null,
      "outputs": [
        {
          "output_type": "stream",
          "name": "stdout",
          "text": [
            "stat\n",
            "KKU\n"
          ]
        }
      ]
    },
    {
      "cell_type": "code",
      "source": [
        "print('stat',end='+-+')\n",
        "print('KKU')"
      ],
      "metadata": {
        "colab": {
          "base_uri": "https://localhost:8080/"
        },
        "id": "PUhgDUJC-mGu",
        "outputId": "9aa12f2c-36e3-4133-9d8a-a9b9320524da"
      },
      "execution_count": null,
      "outputs": [
        {
          "output_type": "stream",
          "name": "stdout",
          "text": [
            "stat+-+KKU\n"
          ]
        }
      ]
    },
    {
      "cell_type": "markdown",
      "source": [
        "# Variable (ตัวแปร)\n",
        "\n",
        "ใช้สำหรับการเก็บข้อมูลไว้ในตัวแปรนั้นๆไว้"
      ],
      "metadata": {
        "id": "pnuKktZj_aYP"
      }
    },
    {
      "cell_type": "markdown",
      "source": [
        "### ข้อกำหนดในการตั้งชื่อตัวแปร\n",
        "1. ตั้งให้สื่อความหมาย\n",
        "2. ตั้งให้เป็นภาษาอังกฤษ\n",
        "3. ใช้ตัวเลขผสมกับตัวหนังสือได้ แต่ห้ามขึ้นต้นด้วยตัวเลข\n",
        "4. ห้ามมีเว้นวรรคในชื่อตัวแปร\n",
        "5. ตัวใหญ่ ตัวเล็กค่าไม่เท่ากัน\n",
        "\n",
        "\n",
        "## variable naming rules\n",
        "1. Try to use meaningful word\n",
        "2. Do it in English\n",
        "3. You can use number in variable name the name connot atart with number\n",
        "4. there should be no space in the name\n",
        "5. variable name is case-sensitive (Abc is not equal to ABC)"
      ],
      "metadata": {
        "id": "Y-WakksGY-qa"
      }
    },
    {
      "cell_type": "code",
      "source": [
        "a = 5 #int\n",
        "print(a)"
      ],
      "metadata": {
        "colab": {
          "base_uri": "https://localhost:8080/"
        },
        "id": "sG2g9sdjY43v",
        "outputId": "2a6b95aa-3689-4306-8e80-1a6c59830ed6"
      },
      "execution_count": null,
      "outputs": [
        {
          "output_type": "stream",
          "name": "stdout",
          "text": [
            "5\n"
          ]
        }
      ]
    },
    {
      "cell_type": "code",
      "source": [
        "b = 5.7 #float\n",
        "print(b)"
      ],
      "metadata": {
        "colab": {
          "base_uri": "https://localhost:8080/"
        },
        "id": "4USxTM0QY6fq",
        "outputId": "bf013d17-5aa7-42be-bb83-756f22840bd5"
      },
      "execution_count": null,
      "outputs": [
        {
          "output_type": "stream",
          "name": "stdout",
          "text": [
            "5.7\n"
          ]
        }
      ]
    },
    {
      "cell_type": "code",
      "source": [
        "c = a-b\n",
        "print(c)"
      ],
      "metadata": {
        "colab": {
          "base_uri": "https://localhost:8080/"
        },
        "id": "DNM5bnjtY7yJ",
        "outputId": "eb7d589c-79a5-4199-b20f-5ee215a13720"
      },
      "execution_count": null,
      "outputs": [
        {
          "output_type": "stream",
          "name": "stdout",
          "text": [
            "-0.7000000000000002\n"
          ]
        }
      ]
    },
    {
      "cell_type": "markdown",
      "source": [
        "## 19 June 2024"
      ],
      "metadata": {
        "id": "m38mfgA67qW7"
      }
    },
    {
      "cell_type": "markdown",
      "source": [
        "## char (character : ตัวอักษร)"
      ],
      "metadata": {
        "id": "DoYZ4x93_er8"
      }
    },
    {
      "cell_type": "markdown",
      "source": [
        "####  ```String + String``` mean plus char and another char ตัวอักษร + ตัวอักษรได้\n",
        "\n"
      ],
      "metadata": {
        "id": "SrLiANLPAk9U"
      }
    },
    {
      "cell_type": "code",
      "source": [
        "a = 'C'"
      ],
      "metadata": {
        "id": "CdjcqOHG_kv8"
      },
      "execution_count": 1,
      "outputs": []
    },
    {
      "cell_type": "code",
      "source": [
        "b = 'hatacter'"
      ],
      "metadata": {
        "id": "uhJO9m9C_mCK"
      },
      "execution_count": 2,
      "outputs": []
    },
    {
      "cell_type": "code",
      "source": [
        "print(f'a={a} b={b}, then {a}+{b} = {a+b}') #string + string = เอามารวมกัน"
      ],
      "metadata": {
        "colab": {
          "base_uri": "https://localhost:8080/"
        },
        "id": "CkA49ZQk_wXs",
        "outputId": "a5f0a7c2-cf1e-4c58-e0f6-718931a9f3af"
      },
      "execution_count": 3,
      "outputs": [
        {
          "output_type": "stream",
          "name": "stdout",
          "text": [
            "a=C b=hatacter, then C+hatacter = Chatacter\n"
          ]
        }
      ]
    },
    {
      "cell_type": "code",
      "source": [
        "A ='c'\n",
        "B = 'a'"
      ],
      "metadata": {
        "id": "vBanCSC2_6hf"
      },
      "execution_count": 4,
      "outputs": []
    },
    {
      "cell_type": "code",
      "source": [
        "print(A+B)"
      ],
      "metadata": {
        "colab": {
          "base_uri": "https://localhost:8080/"
        },
        "id": "Dtg2uAdX_-jp",
        "outputId": "e1a7d403-e039-433a-b015-60600a8a8fa2"
      },
      "execution_count": 5,
      "outputs": [
        {
          "output_type": "stream",
          "name": "stdout",
          "text": [
            "ca\n"
          ]
        }
      ]
    },
    {
      "cell_type": "code",
      "source": [
        "A = '1'\n",
        "B = 2"
      ],
      "metadata": {
        "id": "iJap5bGdehV8"
      },
      "execution_count": 7,
      "outputs": []
    },
    {
      "cell_type": "code",
      "source": [
        "print(A,B)"
      ],
      "metadata": {
        "id": "1vOCasF6ehMn",
        "outputId": "9f524b11-2e3a-48f6-a569-a0655c546999",
        "colab": {
          "base_uri": "https://localhost:8080/"
        }
      },
      "execution_count": 8,
      "outputs": [
        {
          "output_type": "stream",
          "name": "stdout",
          "text": [
            "1 2\n"
          ]
        }
      ]
    },
    {
      "cell_type": "code",
      "source": [
        "A"
      ],
      "metadata": {
        "id": "6AFU4aIJe1vK",
        "outputId": "975bfe3a-9cc0-4015-e72d-77f8e5580318",
        "colab": {
          "base_uri": "https://localhost:8080/",
          "height": 56
        }
      },
      "execution_count": 9,
      "outputs": [
        {
          "output_type": "execute_result",
          "data": {
            "text/plain": [
              "'1'"
            ],
            "application/vnd.google.colaboratory.intrinsic+json": {
              "type": "string"
            }
          },
          "metadata": {},
          "execution_count": 9
        }
      ]
    },
    {
      "cell_type": "code",
      "source": [
        "B"
      ],
      "metadata": {
        "id": "PE1_GnqBe6iv",
        "outputId": "342565a8-ae4a-43cb-e4f1-1aefa10d0d94",
        "colab": {
          "base_uri": "https://localhost:8080/"
        }
      },
      "execution_count": 10,
      "outputs": [
        {
          "output_type": "execute_result",
          "data": {
            "text/plain": [
              "2"
            ]
          },
          "metadata": {},
          "execution_count": 10
        }
      ]
    },
    {
      "cell_type": "code",
      "source": [
        "A+B"
      ],
      "metadata": {
        "id": "6cNjlgycfRtj",
        "outputId": "bf64e3ec-609c-4b31-9a4b-83e89b17eeb5",
        "colab": {
          "base_uri": "https://localhost:8080/",
          "height": 158
        }
      },
      "execution_count": 11,
      "outputs": [
        {
          "output_type": "error",
          "ename": "TypeError",
          "evalue": "can only concatenate str (not \"int\") to str",
          "traceback": [
            "\u001b[0;31m---------------------------------------------------------------------------\u001b[0m",
            "\u001b[0;31mTypeError\u001b[0m                                 Traceback (most recent call last)",
            "\u001b[0;32m<ipython-input-11-17a53b3d2418>\u001b[0m in \u001b[0;36m<cell line: 1>\u001b[0;34m()\u001b[0m\n\u001b[0;32m----> 1\u001b[0;31m \u001b[0mA\u001b[0m\u001b[0;34m+\u001b[0m\u001b[0mB\u001b[0m\u001b[0;34m\u001b[0m\u001b[0;34m\u001b[0m\u001b[0m\n\u001b[0m",
            "\u001b[0;31mTypeError\u001b[0m: can only concatenate str (not \"int\") to str"
          ]
        }
      ]
    },
    {
      "cell_type": "markdown",
      "source": [
        "####```integer * char```mean multiple copies of the char หรือสามารถคูณตัวอักษรเพื่อแสดงผลเท่าผลคูณได้"
      ],
      "metadata": {
        "id": "Oni4-2pSAaFj"
      }
    },
    {
      "cell_type": "code",
      "source": [
        "print(5*'T')"
      ],
      "metadata": {
        "colab": {
          "base_uri": "https://localhost:8080/"
        },
        "id": "3lnB0SYRAFtJ",
        "outputId": "ccb5b17d-f863-4dcf-bb7a-c59557f4983a"
      },
      "execution_count": null,
      "outputs": [
        {
          "output_type": "stream",
          "name": "stdout",
          "text": [
            "TTTTT\n"
          ]
        }
      ]
    },
    {
      "cell_type": "code",
      "source": [
        "print(100*'Ha')"
      ],
      "metadata": {
        "colab": {
          "base_uri": "https://localhost:8080/"
        },
        "id": "YJ9QmnLnBqba",
        "outputId": "bbe884a2-a104-44e9-c229-f2b012e83ac1"
      },
      "execution_count": 12,
      "outputs": [
        {
          "output_type": "stream",
          "name": "stdout",
          "text": [
            "HaHaHaHaHaHaHaHaHaHaHaHaHaHaHaHaHaHaHaHaHaHaHaHaHaHaHaHaHaHaHaHaHaHaHaHaHaHaHaHaHaHaHaHaHaHaHaHaHaHaHaHaHaHaHaHaHaHaHaHaHaHaHaHaHaHaHaHaHaHaHaHaHaHaHaHaHaHaHaHaHaHaHaHaHaHaHaHaHaHaHaHaHaHaHaHaHaHaHaHa\n"
          ]
        }
      ]
    },
    {
      "cell_type": "markdown",
      "source": [
        "# List() โครงสร้างข้อมูล"
      ],
      "metadata": {
        "id": "8OONbOe5gqm3"
      }
    },
    {
      "cell_type": "code",
      "source": [
        "list_a = [1,2,3]"
      ],
      "metadata": {
        "id": "hE_MrofBg3vQ"
      },
      "execution_count": 14,
      "outputs": []
    },
    {
      "cell_type": "code",
      "source": [
        "list_b = list()"
      ],
      "metadata": {
        "id": "7jJcmv85hb88"
      },
      "execution_count": 13,
      "outputs": []
    },
    {
      "cell_type": "code",
      "source": [
        "list_b"
      ],
      "metadata": {
        "id": "Qh8LZ9KfhggE",
        "outputId": "d913e368-8df2-4450-a246-44d4c5a48b34",
        "colab": {
          "base_uri": "https://localhost:8080/"
        }
      },
      "execution_count": 15,
      "outputs": [
        {
          "output_type": "execute_result",
          "data": {
            "text/plain": [
              "[]"
            ]
          },
          "metadata": {},
          "execution_count": 15
        }
      ]
    },
    {
      "cell_type": "code",
      "source": [
        "list_b.append(1) #append คือการเพิ่มข้อมูลใน list\n",
        "list_b\n",
        "list_b.append(2)\n",
        "list_b"
      ],
      "metadata": {
        "id": "ULMnRasdhx-5",
        "outputId": "e11ce635-5560-4b04-943c-611ec36350f3",
        "colab": {
          "base_uri": "https://localhost:8080/"
        }
      },
      "execution_count": 16,
      "outputs": [
        {
          "output_type": "execute_result",
          "data": {
            "text/plain": [
              "[1, 2]"
            ]
          },
          "metadata": {},
          "execution_count": 16
        }
      ]
    },
    {
      "cell_type": "code",
      "source": [
        "list_b.append('f')\n",
        "list_b.append([12,6,'a'])\n",
        "list_b"
      ],
      "metadata": {
        "id": "2Iv-A55wiL7x",
        "outputId": "d88a38d3-1e35-4351-929d-ab60b3564e1c",
        "colab": {
          "base_uri": "https://localhost:8080/"
        }
      },
      "execution_count": 17,
      "outputs": [
        {
          "output_type": "execute_result",
          "data": {
            "text/plain": [
              "[1, 2, 'f', [12, 6, 'a']]"
            ]
          },
          "metadata": {},
          "execution_count": 17
        }
      ]
    },
    {
      "cell_type": "code",
      "source": [
        "list_b[3] #index"
      ],
      "metadata": {
        "id": "leSTP3jlinfG",
        "outputId": "e57f73a7-65c0-4323-b02a-c0babfdc1b18",
        "colab": {
          "base_uri": "https://localhost:8080/"
        }
      },
      "execution_count": 18,
      "outputs": [
        {
          "output_type": "execute_result",
          "data": {
            "text/plain": [
              "[12, 6, 'a']"
            ]
          },
          "metadata": {},
          "execution_count": 18
        }
      ]
    },
    {
      "cell_type": "markdown",
      "source": [
        "# For วนซ้ำ"
      ],
      "metadata": {
        "id": "WzKNF7tQgxxC"
      }
    },
    {
      "cell_type": "markdown",
      "source": [
        "```\n",
        "for สมาชิกแต่ละตัว in list:\n",
        "    ทำอะไรซักอย่าง\n",
        "```"
      ],
      "metadata": {
        "id": "pGLXJ4F6jPyZ"
      }
    },
    {
      "cell_type": "code",
      "source": [
        "for i in [1,2,3,5,7] :\n",
        "  print(2*i,end=' ')"
      ],
      "metadata": {
        "id": "yWv5jK3NDKLa",
        "outputId": "3449369a-ba64-4570-ee18-fc58218338e9",
        "colab": {
          "base_uri": "https://localhost:8080/"
        }
      },
      "execution_count": 20,
      "outputs": [
        {
          "output_type": "stream",
          "name": "stdout",
          "text": [
            "2 4 6 10 14 "
          ]
        }
      ]
    },
    {
      "cell_type": "markdown",
      "source": [
        "***\n",
        "**Quiz 2**\n",
        "\n",
        "print Ka 5 ครั้ง ต่อด้วย Ga อีก 10 ครั้ง แบบใช้ loop และ ขั้น Ka แต่ละตัวด้วย + ขั้น Ga แต่ละตัวด้วย x (อยู่ในบรรทัดเดียวกันทั้งหมด)"
      ],
      "metadata": {
        "id": "APmqR1RdBgya"
      }
    },
    {
      "cell_type": "markdown",
      "source": [
        "***"
      ],
      "metadata": {
        "id": "lCDC9HlrGtxM"
      }
    },
    {
      "cell_type": "markdown",
      "source": [
        "### Int(eger) (จำนวนเต็ม)\n",
        "\n",
        "สำหรับการแสดงข้อมูลจำนวนเต็มเท่านั้น"
      ],
      "metadata": {
        "id": "nm_V6REpF_rN"
      }
    },
    {
      "cell_type": "code",
      "source": [
        "int_a = 7\n",
        "int_b = 2"
      ],
      "metadata": {
        "id": "WfDIV_xGFupZ"
      },
      "execution_count": null,
      "outputs": []
    },
    {
      "cell_type": "code",
      "source": [
        "print(type(int_a),type(int_b))"
      ],
      "metadata": {
        "id": "KbcyJutkGOdt",
        "outputId": "fcb33c3e-a422-49a1-b8ee-7eeeb084aef8",
        "colab": {
          "base_uri": "https://localhost:8080/"
        }
      },
      "execution_count": null,
      "outputs": [
        {
          "output_type": "stream",
          "name": "stdout",
          "text": [
            "<class 'int'> <class 'int'>\n"
          ]
        }
      ]
    },
    {
      "cell_type": "code",
      "source": [
        "int_c = int_a + int_b #assign the value as the output of operation\n",
        "print(int_c)"
      ],
      "metadata": {
        "id": "u7nN1IsnGW3Q",
        "outputId": "cfb47c3e-7d70-4934-c80c-08665e2e3e20",
        "colab": {
          "base_uri": "https://localhost:8080/"
        }
      },
      "execution_count": null,
      "outputs": [
        {
          "output_type": "stream",
          "name": "stdout",
          "text": [
            "9\n"
          ]
        }
      ]
    },
    {
      "cell_type": "markdown",
      "source": [
        "### Float (จำนวนจริง ทศนิยม)\n",
        "\n",
        "สำหรับการแสดงข้อมูลที่เป็นทศนิยมได้"
      ],
      "metadata": {
        "id": "mPMNOOD3GmWo"
      }
    },
    {
      "cell_type": "code",
      "source": [
        "fl_a = 7. #ใส่ . สามารถทำให้เป็นค่าทศนิยมได้\n",
        "fl_b = 2.571"
      ],
      "metadata": {
        "id": "7XZPSOy_GdgY"
      },
      "execution_count": null,
      "outputs": []
    },
    {
      "cell_type": "code",
      "source": [
        "print(type(fl_a),type(fl_b))"
      ],
      "metadata": {
        "id": "HYRCz1iAG-vm",
        "outputId": "3df0c2db-dff7-4627-ec47-e1b58d9bbb60",
        "colab": {
          "base_uri": "https://localhost:8080/"
        }
      },
      "execution_count": null,
      "outputs": [
        {
          "output_type": "stream",
          "name": "stdout",
          "text": [
            "<class 'float'> <class 'float'>\n"
          ]
        }
      ]
    },
    {
      "cell_type": "code",
      "source": [
        "fl_a"
      ],
      "metadata": {
        "id": "DPRki3o2HKJz",
        "outputId": "59fe4c38-ed6f-4a9a-8a7c-55f71609f323",
        "colab": {
          "base_uri": "https://localhost:8080/"
        }
      },
      "execution_count": null,
      "outputs": [
        {
          "output_type": "execute_result",
          "data": {
            "text/plain": [
              "7.0"
            ]
          },
          "metadata": {},
          "execution_count": 42
        }
      ]
    },
    {
      "cell_type": "code",
      "source": [
        "fl_b"
      ],
      "metadata": {
        "id": "JS_6KNb8HNGG",
        "outputId": "e3367fc9-f401-4dec-91b1-e05eca3f22f1",
        "colab": {
          "base_uri": "https://localhost:8080/"
        }
      },
      "execution_count": null,
      "outputs": [
        {
          "output_type": "execute_result",
          "data": {
            "text/plain": [
              "2.571"
            ]
          },
          "metadata": {},
          "execution_count": 43
        }
      ]
    },
    {
      "cell_type": "markdown",
      "source": [
        "###Boolean (ตัวแปรที่มีค่า true หรือ False) ตรรกศาสตร์มีแค่ 2 ค่าเท่านั้นคือ True และ False"
      ],
      "metadata": {
        "id": "BbsoMwn1HT7p"
      }
    },
    {
      "cell_type": "code",
      "source": [
        "b_T = True"
      ],
      "metadata": {
        "id": "AHwxT4uuHnO9"
      },
      "execution_count": null,
      "outputs": []
    },
    {
      "cell_type": "code",
      "source": [
        "b_F = False"
      ],
      "metadata": {
        "id": "tRFaz9SHHtfE"
      },
      "execution_count": null,
      "outputs": []
    },
    {
      "cell_type": "markdown",
      "source": [
        "all of equation (สัญลักษณ์สำหรับตรรกศาสตร์)\n",
        "\n",
        "```\n",
        "== is equal\n",
        "\n",
        "!= is not equal\n",
        "\n",
        "> is geater than\n",
        "\n",
        "<= is less than or equal\n",
        "\n",
        "| is or\n",
        "\n",
        "& is and\n",
        "```\n",
        "\n"
      ],
      "metadata": {
        "id": "kg8dghdFHwPx"
      }
    },
    {
      "cell_type": "code",
      "source": [
        "b_T | b_F"
      ],
      "metadata": {
        "id": "VYPNz4_1Hvj6",
        "outputId": "99964407-6027-4aeb-e3ef-f6259480705d",
        "colab": {
          "base_uri": "https://localhost:8080/"
        }
      },
      "execution_count": null,
      "outputs": [
        {
          "output_type": "execute_result",
          "data": {
            "text/plain": [
              "True"
            ]
          },
          "metadata": {},
          "execution_count": 46
        }
      ]
    },
    {
      "cell_type": "markdown",
      "source": [
        "### Complex number (จำนวนเชิงซ้อน)"
      ],
      "metadata": {
        "id": "nKDDMUcrIUiU"
      }
    },
    {
      "cell_type": "code",
      "source": [
        "x = 1+ 2j"
      ],
      "metadata": {
        "id": "cvZgCS4SIScD"
      },
      "execution_count": null,
      "outputs": []
    },
    {
      "cell_type": "markdown",
      "source": [
        "we can check the datatype with type()"
      ],
      "metadata": {
        "id": "j0KZNNl6IdSS"
      }
    },
    {
      "cell_type": "code",
      "source": [
        "print (f'variable x value is {x} and datatype is {type(x)}')"
      ],
      "metadata": {
        "id": "b5x8UpvwIbxY",
        "outputId": "5299bf40-137f-4c74-fcc4-6aac9c86c89d",
        "colab": {
          "base_uri": "https://localhost:8080/"
        }
      },
      "execution_count": null,
      "outputs": [
        {
          "output_type": "stream",
          "name": "stdout",
          "text": [
            "variable x value is (1+2j) and datatype is <class 'complex'>\n"
          ]
        }
      ]
    },
    {
      "cell_type": "code",
      "source": [
        "print (f'ตัวแปร A ค่าคือ {A} ชนิด {type(A)}')"
      ],
      "metadata": {
        "id": "XQQqGZLcIxxM",
        "outputId": "fd2f339f-34cc-421b-a29f-8bae1cf84c94",
        "colab": {
          "base_uri": "https://localhost:8080/"
        }
      },
      "execution_count": null,
      "outputs": [
        {
          "output_type": "stream",
          "name": "stdout",
          "text": [
            "ตัวแปร A ค่าคือ c ชนิด <class 'str'>\n"
          ]
        }
      ]
    },
    {
      "cell_type": "code",
      "source": [
        "print (f'ตัวแปร a ค่าคือ {a} ชนิด {type(a)}')"
      ],
      "metadata": {
        "id": "ItVhvTShI5ek",
        "outputId": "6a77f93b-7ea9-4d15-8f0e-b559a1de6887",
        "colab": {
          "base_uri": "https://localhost:8080/"
        }
      },
      "execution_count": null,
      "outputs": [
        {
          "output_type": "stream",
          "name": "stdout",
          "text": [
            "ตัวแปร a ค่าคือ C ชนิด <class 'str'>\n"
          ]
        }
      ]
    },
    {
      "cell_type": "markdown",
      "source": [
        "##การแปลงชนิดของตัวแปร (Variable Casting)"
      ],
      "metadata": {
        "id": "joXu_ngYJQJ3"
      }
    },
    {
      "cell_type": "code",
      "source": [
        "print(f'int a = {int_a} int_b = {int_b} Fl_a {fl_a} Fl_b={fl_b}')"
      ],
      "metadata": {
        "id": "j5Pej_rkJPwh",
        "outputId": "e106bad7-4099-4129-b722-a34b13dbb465",
        "colab": {
          "base_uri": "https://localhost:8080/"
        }
      },
      "execution_count": null,
      "outputs": [
        {
          "output_type": "stream",
          "name": "stdout",
          "text": [
            "int a = 7 int_b = 2 Fl_a 7.0 Fl_b=2.571\n"
          ]
        }
      ]
    },
    {
      "cell_type": "code",
      "source": [
        "str_a = '6'\n",
        "str_b = '-2'"
      ],
      "metadata": {
        "id": "4m5QSvrVJ5TR"
      },
      "execution_count": null,
      "outputs": []
    },
    {
      "cell_type": "code",
      "source": [
        "str_a2int = int(str_a) # Transform string into int แปลงค่าจาก String เป็น int\n",
        "print(f'ตัวแปร str_a2int ค่าคือ {str_a2int} ชนิด {type(str_a2int)}')"
      ],
      "metadata": {
        "id": "G2S-qjanJ_4A",
        "outputId": "93191629-8953-4c0f-a01f-41877450ef74",
        "colab": {
          "base_uri": "https://localhost:8080/"
        }
      },
      "execution_count": null,
      "outputs": [
        {
          "output_type": "stream",
          "name": "stdout",
          "text": [
            "ตัวแปร str_a2int ค่าคือ 6 ชนิด <class 'int'>\n"
          ]
        }
      ]
    },
    {
      "cell_type": "code",
      "source": [
        "str_a2int + int_a"
      ],
      "metadata": {
        "id": "_KFJn3ZvKWuz",
        "outputId": "430f91d7-d4bd-4204-e9be-2855fca9e772",
        "colab": {
          "base_uri": "https://localhost:8080/"
        }
      },
      "execution_count": null,
      "outputs": [
        {
          "output_type": "execute_result",
          "data": {
            "text/plain": [
              "13"
            ]
          },
          "metadata": {},
          "execution_count": 54
        }
      ]
    },
    {
      "cell_type": "code",
      "source": [
        "str_a + int_a #ไม่สามารถนำ string + int ได้"
      ],
      "metadata": {
        "id": "NyZfTn8DKibW",
        "outputId": "78420ba8-4273-480f-896c-be16b347d365",
        "colab": {
          "base_uri": "https://localhost:8080/",
          "height": 175
        }
      },
      "execution_count": null,
      "outputs": [
        {
          "output_type": "error",
          "ename": "TypeError",
          "evalue": "ignored",
          "traceback": [
            "\u001b[0;31m---------------------------------------------------------------------------\u001b[0m",
            "\u001b[0;31mTypeError\u001b[0m                                 Traceback (most recent call last)",
            "\u001b[0;32m<ipython-input-55-155156bbe683>\u001b[0m in \u001b[0;36m<cell line: 1>\u001b[0;34m()\u001b[0m\n\u001b[0;32m----> 1\u001b[0;31m \u001b[0mstr_a\u001b[0m \u001b[0;34m+\u001b[0m \u001b[0mint_a\u001b[0m \u001b[0;31m#ไม่สามารถนำ string + int ได้\u001b[0m\u001b[0;34m\u001b[0m\u001b[0;34m\u001b[0m\u001b[0m\n\u001b[0m",
            "\u001b[0;31mTypeError\u001b[0m: can only concatenate str (not \"int\") to str"
          ]
        }
      ]
    },
    {
      "cell_type": "code",
      "source": [
        "str(fl_b) #transform float to string แปลงค่าจาก Float เป็น string ได้"
      ],
      "metadata": {
        "id": "JeVH4S4AKq6S",
        "outputId": "0f1e1b59-901c-4cb6-a69a-1f5fb1d409e7",
        "colab": {
          "base_uri": "https://localhost:8080/",
          "height": 36
        }
      },
      "execution_count": null,
      "outputs": [
        {
          "output_type": "execute_result",
          "data": {
            "text/plain": [
              "'2.571'"
            ],
            "application/vnd.google.colaboratory.intrinsic+json": {
              "type": "string"
            }
          },
          "metadata": {},
          "execution_count": 56
        }
      ]
    },
    {
      "cell_type": "code",
      "source": [
        "int(fl_b) #transform float to int (but it will cut te floating point) แปลงค่าจาก float เป็น int ได้แต่จะตัดจุดทศนิยมออกไป"
      ],
      "metadata": {
        "id": "QTiKLXKSLPHu",
        "outputId": "6a38e8d4-6abe-4650-f13f-69b7fe1f6b29",
        "colab": {
          "base_uri": "https://localhost:8080/"
        }
      },
      "execution_count": null,
      "outputs": [
        {
          "output_type": "execute_result",
          "data": {
            "text/plain": [
              "2"
            ]
          },
          "metadata": {},
          "execution_count": 57
        }
      ]
    },
    {
      "cell_type": "markdown",
      "source": [
        "# More about string"
      ],
      "metadata": {
        "id": "ITh167pN7Yw5"
      }
    },
    {
      "cell_type": "markdown",
      "source": [
        "## Replace() แทนที่ character ใน String"
      ],
      "metadata": {
        "id": "8YFNUDO4LmdQ"
      }
    },
    {
      "cell_type": "markdown",
      "source": [
        "การแปลงค่าด้วยข้อมูล String"
      ],
      "metadata": {
        "id": "cmoF4NRwRRtl"
      }
    },
    {
      "cell_type": "code",
      "source": [
        "st_test1 = 'Department of Statistics,'"
      ],
      "metadata": {
        "id": "CL-j3LuCLVn9"
      },
      "execution_count": null,
      "outputs": []
    },
    {
      "cell_type": "code",
      "source": [
        "st_test1.replace('e',' ') #replace e with space แทน e ด้วยช่องว่าง"
      ],
      "metadata": {
        "id": "JnP8RDvtMPEY",
        "outputId": "01b200f3-331c-4846-8dbd-d76ea894d248",
        "colab": {
          "base_uri": "https://localhost:8080/",
          "height": 36
        }
      },
      "execution_count": null,
      "outputs": [
        {
          "output_type": "execute_result",
          "data": {
            "text/plain": [
              "'D partm nt of Statistics,'"
            ],
            "application/vnd.google.colaboratory.intrinsic+json": {
              "type": "string"
            }
          },
          "metadata": {},
          "execution_count": 59
        }
      ]
    },
    {
      "cell_type": "code",
      "source": [
        "st_test1"
      ],
      "metadata": {
        "id": "ID_umjiYNGjY",
        "outputId": "8efd8595-16b8-4107-9349-468a48382736",
        "colab": {
          "base_uri": "https://localhost:8080/",
          "height": 36
        }
      },
      "execution_count": null,
      "outputs": [
        {
          "output_type": "execute_result",
          "data": {
            "text/plain": [
              "'Department of Statistics,'"
            ],
            "application/vnd.google.colaboratory.intrinsic+json": {
              "type": "string"
            }
          },
          "metadata": {},
          "execution_count": 60
        }
      ]
    },
    {
      "cell_type": "code",
      "source": [
        "st_test2 = st_test1.replace('e',' ')"
      ],
      "metadata": {
        "id": "rYUU_OLcMZJt"
      },
      "execution_count": null,
      "outputs": []
    },
    {
      "cell_type": "code",
      "source": [
        "st_test2"
      ],
      "metadata": {
        "id": "NCY7ZBvFMrvi",
        "outputId": "6434c972-9e54-47c5-f475-e2763874a6f8",
        "colab": {
          "base_uri": "https://localhost:8080/",
          "height": 36
        }
      },
      "execution_count": null,
      "outputs": [
        {
          "output_type": "execute_result",
          "data": {
            "text/plain": [
              "'D partm nt of Statistics,'"
            ],
            "application/vnd.google.colaboratory.intrinsic+json": {
              "type": "string"
            }
          },
          "metadata": {},
          "execution_count": 62
        }
      ]
    },
    {
      "cell_type": "code",
      "source": [
        "st_test1.replace('ti','TI') # Modify ti to TI เปลี่ยน ti เป็น TI"
      ],
      "metadata": {
        "id": "rXQkaJW_ND8e",
        "outputId": "d65880ce-7953-43f9-f4d9-53856a796f38",
        "colab": {
          "base_uri": "https://localhost:8080/",
          "height": 36
        }
      },
      "execution_count": null,
      "outputs": [
        {
          "output_type": "execute_result",
          "data": {
            "text/plain": [
              "'Department of StaTIsTIcs,'"
            ],
            "application/vnd.google.colaboratory.intrinsic+json": {
              "type": "string"
            }
          },
          "metadata": {},
          "execution_count": 63
        }
      ]
    },
    {
      "cell_type": "markdown",
      "source": [
        "## split() แยก string"
      ],
      "metadata": {
        "id": "E29yNtS1OM3S"
      }
    },
    {
      "cell_type": "markdown",
      "source": [
        "การแยกข้อมูลไว้สำหรับตัดข้อมูลออกซึ่งจะเก็บในรูปแบบ list"
      ],
      "metadata": {
        "id": "JNejsy9MRcOQ"
      }
    },
    {
      "cell_type": "code",
      "source": [
        "'a b c d e f g'.split() #ตัด string ที่ช่องว่าง"
      ],
      "metadata": {
        "id": "sSInuCufNrJ8",
        "outputId": "91b99b34-15bf-4582-f21c-cc1823c5efa3",
        "colab": {
          "base_uri": "https://localhost:8080/"
        }
      },
      "execution_count": null,
      "outputs": [
        {
          "output_type": "execute_result",
          "data": {
            "text/plain": [
              "['a', 'b', 'c', 'd', 'e', 'f', 'g']"
            ]
          },
          "metadata": {},
          "execution_count": 64
        }
      ]
    },
    {
      "cell_type": "code",
      "source": [
        "'abc de fg'.split() # แยกด้วย /"
      ],
      "metadata": {
        "id": "QnXAFBSzObln",
        "outputId": "909063d1-3cba-4750-ccd3-118415a0adff",
        "colab": {
          "base_uri": "https://localhost:8080/"
        }
      },
      "execution_count": null,
      "outputs": [
        {
          "output_type": "execute_result",
          "data": {
            "text/plain": [
              "['abc', 'de', 'fg']"
            ]
          },
          "metadata": {},
          "execution_count": 65
        }
      ]
    },
    {
      "cell_type": "code",
      "source": [
        "'a,b/c,d e/f g'.split('/') # แยกด้วย /"
      ],
      "metadata": {
        "id": "LAj0aYmuOs4O",
        "outputId": "c26a6a27-8cde-4f20-9812-915048eb5673",
        "colab": {
          "base_uri": "https://localhost:8080/"
        }
      },
      "execution_count": null,
      "outputs": [
        {
          "output_type": "execute_result",
          "data": {
            "text/plain": [
              "['a,b', 'c,d e', 'f g']"
            ]
          },
          "metadata": {},
          "execution_count": 66
        }
      ]
    }
  ]
}