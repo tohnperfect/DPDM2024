{
  "nbformat": 4,
  "nbformat_minor": 0,
  "metadata": {
    "colab": {
      "provenance": [],
      "machine_shape": "hm",
      "include_colab_link": true
    },
    "kernelspec": {
      "name": "python3",
      "display_name": "Python 3"
    },
    "language_info": {
      "name": "python"
    },
    "accelerator": "GPU",
    "gpuClass": "standard"
  },
  "cells": [
    {
      "cell_type": "markdown",
      "metadata": {
        "id": "view-in-github",
        "colab_type": "text"
      },
      "source": [
        "<a href=\"https://colab.research.google.com/github/tohnperfect/DPDM2024/blob/main/Data101_(dpdm24).ipynb\" target=\"_parent\"><img src=\"https://colab.research.google.com/assets/colab-badge.svg\" alt=\"Open In Colab\"/></a>"
      ]
    },
    {
      "cell_type": "markdown",
      "source": [
        "### Data101_(Chapter2)\n"
      ],
      "metadata": {
        "id": "6N9DBpqGDJQa"
      }
    },
    {
      "cell_type": "markdown",
      "source": [
        "**pandas** คือ package ที่มีคนพัฒนาขึ้นมาเพื่อใช้จัดการข้อมูลที่มีลักษณะเป็นตาราง ซึ่งใน pandas เรียกว่า DataFrame\n",
        "\n",
        "**pandas** is a package for manage table data. pandas data structure for table is DataFrame"
      ],
      "metadata": {
        "id": "ujM9cEkKYwdP"
      }
    },
    {
      "cell_type": "code",
      "execution_count": null,
      "metadata": {
        "id": "-vus7v5rEz5P"
      },
      "outputs": [],
      "source": [
        "import pandas #import pandas คือ โหลด package มีชื่อว่า pandas มาใช้ (We use import to pandas define a package that we are using)"
      ]
    },
    {
      "cell_type": "code",
      "source": [
        "import pandas as pd # โหลด pandas package แล้วตั้งชื่อให้ว่า pd แทน (import pakage and name it as ...)"
      ],
      "metadata": {
        "id": "2SR0fVzeXZNU"
      },
      "execution_count": 1,
      "outputs": []
    },
    {
      "cell_type": "markdown",
      "source": [
        "ไฟล์ .CSV (csv => comma separated values)\n",
        "- ใช้เครื่องหมาย comma ในการแบ่ง(คั่น)แต่ละ Columns\n",
        "- ขึ้น record ใหม่จะใช้การ Enter\n",
        "\n",
        "CSV File (csv => comma separated values)\n",
        "- use comma (,) to separate values\n",
        "- use new line (enter,\\n) to separate data points\n"
      ],
      "metadata": {
        "id": "K1E4Y2JwaHen"
      }
    },
    {
      "cell_type": "markdown",
      "source": [
        "# Load data แบบ one-time-use"
      ],
      "metadata": {
        "id": "UB1mZyDM-BaC"
      }
    },
    {
      "cell_type": "markdown",
      "source": [
        "- 🍀function ชื่อว่า \"read_csv\" จะเรียกข้อมูลให้ออกมาอยู่ใน format ของตาราง"
      ],
      "metadata": {
        "id": "4SjgPafpd00j"
      }
    },
    {
      "cell_type": "code",
      "source": [
        "pd.read_csv('/content/folktales.csv')"
      ],
      "metadata": {
        "colab": {
          "base_uri": "https://localhost:8080/",
          "height": 316
        },
        "id": "NSCvCORC98GA",
        "outputId": "8ff66c9c-bcff-474c-c514-9b5c13e4f781"
      },
      "execution_count": 2,
      "outputs": [
        {
          "output_type": "error",
          "ename": "FileNotFoundError",
          "evalue": "[Errno 2] No such file or directory: '/content/folktales.csv'",
          "traceback": [
            "\u001b[0;31m---------------------------------------------------------------------------\u001b[0m",
            "\u001b[0;31mFileNotFoundError\u001b[0m                         Traceback (most recent call last)",
            "\u001b[0;32m<ipython-input-2-499ddbe08a35>\u001b[0m in \u001b[0;36m<cell line: 1>\u001b[0;34m()\u001b[0m\n\u001b[0;32m----> 1\u001b[0;31m \u001b[0mpd\u001b[0m\u001b[0;34m.\u001b[0m\u001b[0mread_csv\u001b[0m\u001b[0;34m(\u001b[0m\u001b[0;34m'/content/folktales.csv'\u001b[0m\u001b[0;34m)\u001b[0m\u001b[0;34m\u001b[0m\u001b[0;34m\u001b[0m\u001b[0m\n\u001b[0m",
            "\u001b[0;32m/usr/local/lib/python3.10/dist-packages/pandas/io/parsers/readers.py\u001b[0m in \u001b[0;36mread_csv\u001b[0;34m(filepath_or_buffer, sep, delimiter, header, names, index_col, usecols, dtype, engine, converters, true_values, false_values, skipinitialspace, skiprows, skipfooter, nrows, na_values, keep_default_na, na_filter, verbose, skip_blank_lines, parse_dates, infer_datetime_format, keep_date_col, date_parser, date_format, dayfirst, cache_dates, iterator, chunksize, compression, thousands, decimal, lineterminator, quotechar, quoting, doublequote, escapechar, comment, encoding, encoding_errors, dialect, on_bad_lines, delim_whitespace, low_memory, memory_map, float_precision, storage_options, dtype_backend)\u001b[0m\n\u001b[1;32m    910\u001b[0m     \u001b[0mkwds\u001b[0m\u001b[0;34m.\u001b[0m\u001b[0mupdate\u001b[0m\u001b[0;34m(\u001b[0m\u001b[0mkwds_defaults\u001b[0m\u001b[0;34m)\u001b[0m\u001b[0;34m\u001b[0m\u001b[0;34m\u001b[0m\u001b[0m\n\u001b[1;32m    911\u001b[0m \u001b[0;34m\u001b[0m\u001b[0m\n\u001b[0;32m--> 912\u001b[0;31m     \u001b[0;32mreturn\u001b[0m \u001b[0m_read\u001b[0m\u001b[0;34m(\u001b[0m\u001b[0mfilepath_or_buffer\u001b[0m\u001b[0;34m,\u001b[0m \u001b[0mkwds\u001b[0m\u001b[0;34m)\u001b[0m\u001b[0;34m\u001b[0m\u001b[0;34m\u001b[0m\u001b[0m\n\u001b[0m\u001b[1;32m    913\u001b[0m \u001b[0;34m\u001b[0m\u001b[0m\n\u001b[1;32m    914\u001b[0m \u001b[0;34m\u001b[0m\u001b[0m\n",
            "\u001b[0;32m/usr/local/lib/python3.10/dist-packages/pandas/io/parsers/readers.py\u001b[0m in \u001b[0;36m_read\u001b[0;34m(filepath_or_buffer, kwds)\u001b[0m\n\u001b[1;32m    575\u001b[0m \u001b[0;34m\u001b[0m\u001b[0m\n\u001b[1;32m    576\u001b[0m     \u001b[0;31m# Create the parser.\u001b[0m\u001b[0;34m\u001b[0m\u001b[0;34m\u001b[0m\u001b[0m\n\u001b[0;32m--> 577\u001b[0;31m     \u001b[0mparser\u001b[0m \u001b[0;34m=\u001b[0m \u001b[0mTextFileReader\u001b[0m\u001b[0;34m(\u001b[0m\u001b[0mfilepath_or_buffer\u001b[0m\u001b[0;34m,\u001b[0m \u001b[0;34m**\u001b[0m\u001b[0mkwds\u001b[0m\u001b[0;34m)\u001b[0m\u001b[0;34m\u001b[0m\u001b[0;34m\u001b[0m\u001b[0m\n\u001b[0m\u001b[1;32m    578\u001b[0m \u001b[0;34m\u001b[0m\u001b[0m\n\u001b[1;32m    579\u001b[0m     \u001b[0;32mif\u001b[0m \u001b[0mchunksize\u001b[0m \u001b[0;32mor\u001b[0m \u001b[0miterator\u001b[0m\u001b[0;34m:\u001b[0m\u001b[0;34m\u001b[0m\u001b[0;34m\u001b[0m\u001b[0m\n",
            "\u001b[0;32m/usr/local/lib/python3.10/dist-packages/pandas/io/parsers/readers.py\u001b[0m in \u001b[0;36m__init__\u001b[0;34m(self, f, engine, **kwds)\u001b[0m\n\u001b[1;32m   1405\u001b[0m \u001b[0;34m\u001b[0m\u001b[0m\n\u001b[1;32m   1406\u001b[0m         \u001b[0mself\u001b[0m\u001b[0;34m.\u001b[0m\u001b[0mhandles\u001b[0m\u001b[0;34m:\u001b[0m \u001b[0mIOHandles\u001b[0m \u001b[0;34m|\u001b[0m \u001b[0;32mNone\u001b[0m \u001b[0;34m=\u001b[0m \u001b[0;32mNone\u001b[0m\u001b[0;34m\u001b[0m\u001b[0;34m\u001b[0m\u001b[0m\n\u001b[0;32m-> 1407\u001b[0;31m         \u001b[0mself\u001b[0m\u001b[0;34m.\u001b[0m\u001b[0m_engine\u001b[0m \u001b[0;34m=\u001b[0m \u001b[0mself\u001b[0m\u001b[0;34m.\u001b[0m\u001b[0m_make_engine\u001b[0m\u001b[0;34m(\u001b[0m\u001b[0mf\u001b[0m\u001b[0;34m,\u001b[0m \u001b[0mself\u001b[0m\u001b[0;34m.\u001b[0m\u001b[0mengine\u001b[0m\u001b[0;34m)\u001b[0m\u001b[0;34m\u001b[0m\u001b[0;34m\u001b[0m\u001b[0m\n\u001b[0m\u001b[1;32m   1408\u001b[0m \u001b[0;34m\u001b[0m\u001b[0m\n\u001b[1;32m   1409\u001b[0m     \u001b[0;32mdef\u001b[0m \u001b[0mclose\u001b[0m\u001b[0;34m(\u001b[0m\u001b[0mself\u001b[0m\u001b[0;34m)\u001b[0m \u001b[0;34m->\u001b[0m \u001b[0;32mNone\u001b[0m\u001b[0;34m:\u001b[0m\u001b[0;34m\u001b[0m\u001b[0;34m\u001b[0m\u001b[0m\n",
            "\u001b[0;32m/usr/local/lib/python3.10/dist-packages/pandas/io/parsers/readers.py\u001b[0m in \u001b[0;36m_make_engine\u001b[0;34m(self, f, engine)\u001b[0m\n\u001b[1;32m   1659\u001b[0m                 \u001b[0;32mif\u001b[0m \u001b[0;34m\"b\"\u001b[0m \u001b[0;32mnot\u001b[0m \u001b[0;32min\u001b[0m \u001b[0mmode\u001b[0m\u001b[0;34m:\u001b[0m\u001b[0;34m\u001b[0m\u001b[0;34m\u001b[0m\u001b[0m\n\u001b[1;32m   1660\u001b[0m                     \u001b[0mmode\u001b[0m \u001b[0;34m+=\u001b[0m \u001b[0;34m\"b\"\u001b[0m\u001b[0;34m\u001b[0m\u001b[0;34m\u001b[0m\u001b[0m\n\u001b[0;32m-> 1661\u001b[0;31m             self.handles = get_handle(\n\u001b[0m\u001b[1;32m   1662\u001b[0m                 \u001b[0mf\u001b[0m\u001b[0;34m,\u001b[0m\u001b[0;34m\u001b[0m\u001b[0;34m\u001b[0m\u001b[0m\n\u001b[1;32m   1663\u001b[0m                 \u001b[0mmode\u001b[0m\u001b[0;34m,\u001b[0m\u001b[0;34m\u001b[0m\u001b[0;34m\u001b[0m\u001b[0m\n",
            "\u001b[0;32m/usr/local/lib/python3.10/dist-packages/pandas/io/common.py\u001b[0m in \u001b[0;36mget_handle\u001b[0;34m(path_or_buf, mode, encoding, compression, memory_map, is_text, errors, storage_options)\u001b[0m\n\u001b[1;32m    857\u001b[0m         \u001b[0;32mif\u001b[0m \u001b[0mioargs\u001b[0m\u001b[0;34m.\u001b[0m\u001b[0mencoding\u001b[0m \u001b[0;32mand\u001b[0m \u001b[0;34m\"b\"\u001b[0m \u001b[0;32mnot\u001b[0m \u001b[0;32min\u001b[0m \u001b[0mioargs\u001b[0m\u001b[0;34m.\u001b[0m\u001b[0mmode\u001b[0m\u001b[0;34m:\u001b[0m\u001b[0;34m\u001b[0m\u001b[0;34m\u001b[0m\u001b[0m\n\u001b[1;32m    858\u001b[0m             \u001b[0;31m# Encoding\u001b[0m\u001b[0;34m\u001b[0m\u001b[0;34m\u001b[0m\u001b[0m\n\u001b[0;32m--> 859\u001b[0;31m             handle = open(\n\u001b[0m\u001b[1;32m    860\u001b[0m                 \u001b[0mhandle\u001b[0m\u001b[0;34m,\u001b[0m\u001b[0;34m\u001b[0m\u001b[0;34m\u001b[0m\u001b[0m\n\u001b[1;32m    861\u001b[0m                 \u001b[0mioargs\u001b[0m\u001b[0;34m.\u001b[0m\u001b[0mmode\u001b[0m\u001b[0;34m,\u001b[0m\u001b[0;34m\u001b[0m\u001b[0;34m\u001b[0m\u001b[0m\n",
            "\u001b[0;31mFileNotFoundError\u001b[0m: [Errno 2] No such file or directory: '/content/folktales.csv'"
          ]
        }
      ]
    },
    {
      "cell_type": "markdown",
      "source": [
        "# Basic Python\n"
      ],
      "metadata": {
        "id": "rqY7ClHaoWT1"
      }
    },
    {
      "cell_type": "markdown",
      "source": [
        "## **Data structure (โครงสร้างข้อมูล)**"
      ],
      "metadata": {
        "id": "28glOkXdwLxH"
      }
    },
    {
      "cell_type": "markdown",
      "source": [
        "### list\n",
        "- ```[ ]``` square brackets\n",
        "- การที่นำข้อมูลมาเรียงต่อกันเรื่อยๆและคั่นด้วยเครื่องหมาย comma (,)\n",
        "- สามารถนำข้อมูลชนิดไหนก็ได้มาเก็บไว้ใน list เดียวกัน ไม่จำเป็นต้องเป็น type เดียวกัน\n",
        "- สนใจลำดับใน list เป็นสำคัญ เพราะสามารถบอกค่าใน list ได้ด้วยลำดับ(indexing)"
      ],
      "metadata": {
        "id": "4-wFsTKlwXdI"
      }
    },
    {
      "cell_type": "code",
      "source": [
        "data_df = pd.read_csv('/content/sample_data/california_housing_test.csv')"
      ],
      "metadata": {
        "id": "DufP6f8Ue5V_"
      },
      "execution_count": null,
      "outputs": []
    },
    {
      "cell_type": "code",
      "source": [
        "data_df.head()"
      ],
      "metadata": {
        "colab": {
          "base_uri": "https://localhost:8080/",
          "height": 223
        },
        "id": "HDBiOSqfe9Ym",
        "outputId": "755f581a-84da-4428-b98d-4e7075749062"
      },
      "execution_count": null,
      "outputs": [
        {
          "output_type": "execute_result",
          "data": {
            "text/plain": [
              "   longitude  latitude  housing_median_age  total_rooms  total_bedrooms  \\\n",
              "0    -122.05     37.37                27.0       3885.0           661.0   \n",
              "1    -118.30     34.26                43.0       1510.0           310.0   \n",
              "2    -117.81     33.78                27.0       3589.0           507.0   \n",
              "3    -118.36     33.82                28.0         67.0            15.0   \n",
              "4    -119.67     36.33                19.0       1241.0           244.0   \n",
              "\n",
              "   population  households  median_income  median_house_value  \n",
              "0      1537.0       606.0         6.6085            344700.0  \n",
              "1       809.0       277.0         3.5990            176500.0  \n",
              "2      1484.0       495.0         5.7934            270500.0  \n",
              "3        49.0        11.0         6.1359            330000.0  \n",
              "4       850.0       237.0         2.9375             81700.0  "
            ],
            "text/html": [
              "\n",
              "  <div id=\"df-6bd44f42-90b6-48e6-9412-fcc6bf0e719a\" class=\"colab-df-container\">\n",
              "    <div>\n",
              "<style scoped>\n",
              "    .dataframe tbody tr th:only-of-type {\n",
              "        vertical-align: middle;\n",
              "    }\n",
              "\n",
              "    .dataframe tbody tr th {\n",
              "        vertical-align: top;\n",
              "    }\n",
              "\n",
              "    .dataframe thead th {\n",
              "        text-align: right;\n",
              "    }\n",
              "</style>\n",
              "<table border=\"1\" class=\"dataframe\">\n",
              "  <thead>\n",
              "    <tr style=\"text-align: right;\">\n",
              "      <th></th>\n",
              "      <th>longitude</th>\n",
              "      <th>latitude</th>\n",
              "      <th>housing_median_age</th>\n",
              "      <th>total_rooms</th>\n",
              "      <th>total_bedrooms</th>\n",
              "      <th>population</th>\n",
              "      <th>households</th>\n",
              "      <th>median_income</th>\n",
              "      <th>median_house_value</th>\n",
              "    </tr>\n",
              "  </thead>\n",
              "  <tbody>\n",
              "    <tr>\n",
              "      <th>0</th>\n",
              "      <td>-122.05</td>\n",
              "      <td>37.37</td>\n",
              "      <td>27.0</td>\n",
              "      <td>3885.0</td>\n",
              "      <td>661.0</td>\n",
              "      <td>1537.0</td>\n",
              "      <td>606.0</td>\n",
              "      <td>6.6085</td>\n",
              "      <td>344700.0</td>\n",
              "    </tr>\n",
              "    <tr>\n",
              "      <th>1</th>\n",
              "      <td>-118.30</td>\n",
              "      <td>34.26</td>\n",
              "      <td>43.0</td>\n",
              "      <td>1510.0</td>\n",
              "      <td>310.0</td>\n",
              "      <td>809.0</td>\n",
              "      <td>277.0</td>\n",
              "      <td>3.5990</td>\n",
              "      <td>176500.0</td>\n",
              "    </tr>\n",
              "    <tr>\n",
              "      <th>2</th>\n",
              "      <td>-117.81</td>\n",
              "      <td>33.78</td>\n",
              "      <td>27.0</td>\n",
              "      <td>3589.0</td>\n",
              "      <td>507.0</td>\n",
              "      <td>1484.0</td>\n",
              "      <td>495.0</td>\n",
              "      <td>5.7934</td>\n",
              "      <td>270500.0</td>\n",
              "    </tr>\n",
              "    <tr>\n",
              "      <th>3</th>\n",
              "      <td>-118.36</td>\n",
              "      <td>33.82</td>\n",
              "      <td>28.0</td>\n",
              "      <td>67.0</td>\n",
              "      <td>15.0</td>\n",
              "      <td>49.0</td>\n",
              "      <td>11.0</td>\n",
              "      <td>6.1359</td>\n",
              "      <td>330000.0</td>\n",
              "    </tr>\n",
              "    <tr>\n",
              "      <th>4</th>\n",
              "      <td>-119.67</td>\n",
              "      <td>36.33</td>\n",
              "      <td>19.0</td>\n",
              "      <td>1241.0</td>\n",
              "      <td>244.0</td>\n",
              "      <td>850.0</td>\n",
              "      <td>237.0</td>\n",
              "      <td>2.9375</td>\n",
              "      <td>81700.0</td>\n",
              "    </tr>\n",
              "  </tbody>\n",
              "</table>\n",
              "</div>\n",
              "    <div class=\"colab-df-buttons\">\n",
              "\n",
              "  <div class=\"colab-df-container\">\n",
              "    <button class=\"colab-df-convert\" onclick=\"convertToInteractive('df-6bd44f42-90b6-48e6-9412-fcc6bf0e719a')\"\n",
              "            title=\"Convert this dataframe to an interactive table.\"\n",
              "            style=\"display:none;\">\n",
              "\n",
              "  <svg xmlns=\"http://www.w3.org/2000/svg\" height=\"24px\" viewBox=\"0 -960 960 960\">\n",
              "    <path d=\"M120-120v-720h720v720H120Zm60-500h600v-160H180v160Zm220 220h160v-160H400v160Zm0 220h160v-160H400v160ZM180-400h160v-160H180v160Zm440 0h160v-160H620v160ZM180-180h160v-160H180v160Zm440 0h160v-160H620v160Z\"/>\n",
              "  </svg>\n",
              "    </button>\n",
              "\n",
              "  <style>\n",
              "    .colab-df-container {\n",
              "      display:flex;\n",
              "      gap: 12px;\n",
              "    }\n",
              "\n",
              "    .colab-df-convert {\n",
              "      background-color: #E8F0FE;\n",
              "      border: none;\n",
              "      border-radius: 50%;\n",
              "      cursor: pointer;\n",
              "      display: none;\n",
              "      fill: #1967D2;\n",
              "      height: 32px;\n",
              "      padding: 0 0 0 0;\n",
              "      width: 32px;\n",
              "    }\n",
              "\n",
              "    .colab-df-convert:hover {\n",
              "      background-color: #E2EBFA;\n",
              "      box-shadow: 0px 1px 2px rgba(60, 64, 67, 0.3), 0px 1px 3px 1px rgba(60, 64, 67, 0.15);\n",
              "      fill: #174EA6;\n",
              "    }\n",
              "\n",
              "    .colab-df-buttons div {\n",
              "      margin-bottom: 4px;\n",
              "    }\n",
              "\n",
              "    [theme=dark] .colab-df-convert {\n",
              "      background-color: #3B4455;\n",
              "      fill: #D2E3FC;\n",
              "    }\n",
              "\n",
              "    [theme=dark] .colab-df-convert:hover {\n",
              "      background-color: #434B5C;\n",
              "      box-shadow: 0px 1px 3px 1px rgba(0, 0, 0, 0.15);\n",
              "      filter: drop-shadow(0px 1px 2px rgba(0, 0, 0, 0.3));\n",
              "      fill: #FFFFFF;\n",
              "    }\n",
              "  </style>\n",
              "\n",
              "    <script>\n",
              "      const buttonEl =\n",
              "        document.querySelector('#df-6bd44f42-90b6-48e6-9412-fcc6bf0e719a button.colab-df-convert');\n",
              "      buttonEl.style.display =\n",
              "        google.colab.kernel.accessAllowed ? 'block' : 'none';\n",
              "\n",
              "      async function convertToInteractive(key) {\n",
              "        const element = document.querySelector('#df-6bd44f42-90b6-48e6-9412-fcc6bf0e719a');\n",
              "        const dataTable =\n",
              "          await google.colab.kernel.invokeFunction('convertToInteractive',\n",
              "                                                    [key], {});\n",
              "        if (!dataTable) return;\n",
              "\n",
              "        const docLinkHtml = 'Like what you see? Visit the ' +\n",
              "          '<a target=\"_blank\" href=https://colab.research.google.com/notebooks/data_table.ipynb>data table notebook</a>'\n",
              "          + ' to learn more about interactive tables.';\n",
              "        element.innerHTML = '';\n",
              "        dataTable['output_type'] = 'display_data';\n",
              "        await google.colab.output.renderOutput(dataTable, element);\n",
              "        const docLink = document.createElement('div');\n",
              "        docLink.innerHTML = docLinkHtml;\n",
              "        element.appendChild(docLink);\n",
              "      }\n",
              "    </script>\n",
              "  </div>\n",
              "\n",
              "\n",
              "<div id=\"df-30e78c74-3698-4d0e-9e56-a338dddf8512\">\n",
              "  <button class=\"colab-df-quickchart\" onclick=\"quickchart('df-30e78c74-3698-4d0e-9e56-a338dddf8512')\"\n",
              "            title=\"Suggest charts\"\n",
              "            style=\"display:none;\">\n",
              "\n",
              "<svg xmlns=\"http://www.w3.org/2000/svg\" height=\"24px\"viewBox=\"0 0 24 24\"\n",
              "     width=\"24px\">\n",
              "    <g>\n",
              "        <path d=\"M19 3H5c-1.1 0-2 .9-2 2v14c0 1.1.9 2 2 2h14c1.1 0 2-.9 2-2V5c0-1.1-.9-2-2-2zM9 17H7v-7h2v7zm4 0h-2V7h2v10zm4 0h-2v-4h2v4z\"/>\n",
              "    </g>\n",
              "</svg>\n",
              "  </button>\n",
              "\n",
              "<style>\n",
              "  .colab-df-quickchart {\n",
              "      --bg-color: #E8F0FE;\n",
              "      --fill-color: #1967D2;\n",
              "      --hover-bg-color: #E2EBFA;\n",
              "      --hover-fill-color: #174EA6;\n",
              "      --disabled-fill-color: #AAA;\n",
              "      --disabled-bg-color: #DDD;\n",
              "  }\n",
              "\n",
              "  [theme=dark] .colab-df-quickchart {\n",
              "      --bg-color: #3B4455;\n",
              "      --fill-color: #D2E3FC;\n",
              "      --hover-bg-color: #434B5C;\n",
              "      --hover-fill-color: #FFFFFF;\n",
              "      --disabled-bg-color: #3B4455;\n",
              "      --disabled-fill-color: #666;\n",
              "  }\n",
              "\n",
              "  .colab-df-quickchart {\n",
              "    background-color: var(--bg-color);\n",
              "    border: none;\n",
              "    border-radius: 50%;\n",
              "    cursor: pointer;\n",
              "    display: none;\n",
              "    fill: var(--fill-color);\n",
              "    height: 32px;\n",
              "    padding: 0;\n",
              "    width: 32px;\n",
              "  }\n",
              "\n",
              "  .colab-df-quickchart:hover {\n",
              "    background-color: var(--hover-bg-color);\n",
              "    box-shadow: 0 1px 2px rgba(60, 64, 67, 0.3), 0 1px 3px 1px rgba(60, 64, 67, 0.15);\n",
              "    fill: var(--button-hover-fill-color);\n",
              "  }\n",
              "\n",
              "  .colab-df-quickchart-complete:disabled,\n",
              "  .colab-df-quickchart-complete:disabled:hover {\n",
              "    background-color: var(--disabled-bg-color);\n",
              "    fill: var(--disabled-fill-color);\n",
              "    box-shadow: none;\n",
              "  }\n",
              "\n",
              "  .colab-df-spinner {\n",
              "    border: 2px solid var(--fill-color);\n",
              "    border-color: transparent;\n",
              "    border-bottom-color: var(--fill-color);\n",
              "    animation:\n",
              "      spin 1s steps(1) infinite;\n",
              "  }\n",
              "\n",
              "  @keyframes spin {\n",
              "    0% {\n",
              "      border-color: transparent;\n",
              "      border-bottom-color: var(--fill-color);\n",
              "      border-left-color: var(--fill-color);\n",
              "    }\n",
              "    20% {\n",
              "      border-color: transparent;\n",
              "      border-left-color: var(--fill-color);\n",
              "      border-top-color: var(--fill-color);\n",
              "    }\n",
              "    30% {\n",
              "      border-color: transparent;\n",
              "      border-left-color: var(--fill-color);\n",
              "      border-top-color: var(--fill-color);\n",
              "      border-right-color: var(--fill-color);\n",
              "    }\n",
              "    40% {\n",
              "      border-color: transparent;\n",
              "      border-right-color: var(--fill-color);\n",
              "      border-top-color: var(--fill-color);\n",
              "    }\n",
              "    60% {\n",
              "      border-color: transparent;\n",
              "      border-right-color: var(--fill-color);\n",
              "    }\n",
              "    80% {\n",
              "      border-color: transparent;\n",
              "      border-right-color: var(--fill-color);\n",
              "      border-bottom-color: var(--fill-color);\n",
              "    }\n",
              "    90% {\n",
              "      border-color: transparent;\n",
              "      border-bottom-color: var(--fill-color);\n",
              "    }\n",
              "  }\n",
              "</style>\n",
              "\n",
              "  <script>\n",
              "    async function quickchart(key) {\n",
              "      const quickchartButtonEl =\n",
              "        document.querySelector('#' + key + ' button');\n",
              "      quickchartButtonEl.disabled = true;  // To prevent multiple clicks.\n",
              "      quickchartButtonEl.classList.add('colab-df-spinner');\n",
              "      try {\n",
              "        const charts = await google.colab.kernel.invokeFunction(\n",
              "            'suggestCharts', [key], {});\n",
              "      } catch (error) {\n",
              "        console.error('Error during call to suggestCharts:', error);\n",
              "      }\n",
              "      quickchartButtonEl.classList.remove('colab-df-spinner');\n",
              "      quickchartButtonEl.classList.add('colab-df-quickchart-complete');\n",
              "    }\n",
              "    (() => {\n",
              "      let quickchartButtonEl =\n",
              "        document.querySelector('#df-30e78c74-3698-4d0e-9e56-a338dddf8512 button');\n",
              "      quickchartButtonEl.style.display =\n",
              "        google.colab.kernel.accessAllowed ? 'block' : 'none';\n",
              "    })();\n",
              "  </script>\n",
              "</div>\n",
              "\n",
              "    </div>\n",
              "  </div>\n"
            ],
            "application/vnd.google.colaboratory.intrinsic+json": {
              "type": "dataframe",
              "variable_name": "data_df",
              "summary": "{\n  \"name\": \"data_df\",\n  \"rows\": 3000,\n  \"fields\": [\n    {\n      \"column\": \"longitude\",\n      \"properties\": {\n        \"dtype\": \"number\",\n        \"std\": 1.9949362939550175,\n        \"min\": -124.18,\n        \"max\": -114.49,\n        \"num_unique_values\": 607,\n        \"samples\": [\n          -121.15,\n          -121.46,\n          -121.02\n        ],\n        \"semantic_type\": \"\",\n        \"description\": \"\"\n      }\n    },\n    {\n      \"column\": \"latitude\",\n      \"properties\": {\n        \"dtype\": \"number\",\n        \"std\": 2.129669523343834,\n        \"min\": 32.56,\n        \"max\": 41.92,\n        \"num_unique_values\": 587,\n        \"samples\": [\n          40.17,\n          33.69,\n          39.61\n        ],\n        \"semantic_type\": \"\",\n        \"description\": \"\"\n      }\n    },\n    {\n      \"column\": \"housing_median_age\",\n      \"properties\": {\n        \"dtype\": \"number\",\n        \"std\": 12.555395554955753,\n        \"min\": 1.0,\n        \"max\": 52.0,\n        \"num_unique_values\": 52,\n        \"samples\": [\n          14.0,\n          49.0,\n          7.0\n        ],\n        \"semantic_type\": \"\",\n        \"description\": \"\"\n      }\n    },\n    {\n      \"column\": \"total_rooms\",\n      \"properties\": {\n        \"dtype\": \"number\",\n        \"std\": 2155.593331625581,\n        \"min\": 6.0,\n        \"max\": 30450.0,\n        \"num_unique_values\": 2215,\n        \"samples\": [\n          1961.0,\n          1807.0,\n          680.0\n        ],\n        \"semantic_type\": \"\",\n        \"description\": \"\"\n      }\n    },\n    {\n      \"column\": \"total_bedrooms\",\n      \"properties\": {\n        \"dtype\": \"number\",\n        \"std\": 415.6543681363229,\n        \"min\": 2.0,\n        \"max\": 5419.0,\n        \"num_unique_values\": 1055,\n        \"samples\": [\n          532.0,\n          764.0,\n          2162.0\n        ],\n        \"semantic_type\": \"\",\n        \"description\": \"\"\n      }\n    },\n    {\n      \"column\": \"population\",\n      \"properties\": {\n        \"dtype\": \"number\",\n        \"std\": 1030.5430124122424,\n        \"min\": 5.0,\n        \"max\": 11935.0,\n        \"num_unique_values\": 1802,\n        \"samples\": [\n          947.0,\n          1140.0,\n          2019.0\n        ],\n        \"semantic_type\": \"\",\n        \"description\": \"\"\n      }\n    },\n    {\n      \"column\": \"households\",\n      \"properties\": {\n        \"dtype\": \"number\",\n        \"std\": 365.42270980552627,\n        \"min\": 2.0,\n        \"max\": 4930.0,\n        \"num_unique_values\": 1026,\n        \"samples\": [\n          646.0,\n          629.0,\n          504.0\n        ],\n        \"semantic_type\": \"\",\n        \"description\": \"\"\n      }\n    },\n    {\n      \"column\": \"median_income\",\n      \"properties\": {\n        \"dtype\": \"number\",\n        \"std\": 1.854511729691479,\n        \"min\": 0.4999,\n        \"max\": 15.0001,\n        \"num_unique_values\": 2578,\n        \"samples\": [\n          1.725,\n          0.7403,\n          2.6964\n        ],\n        \"semantic_type\": \"\",\n        \"description\": \"\"\n      }\n    },\n    {\n      \"column\": \"median_house_value\",\n      \"properties\": {\n        \"dtype\": \"number\",\n        \"std\": 113119.68746964628,\n        \"min\": 22500.0,\n        \"max\": 500001.0,\n        \"num_unique_values\": 1784,\n        \"samples\": [\n          71900.0,\n          63000.0,\n          115800.0\n        ],\n        \"semantic_type\": \"\",\n        \"description\": \"\"\n      }\n    }\n  ]\n}"
            }
          },
          "metadata": {},
          "execution_count": 5
        }
      ]
    },
    {
      "cell_type": "code",
      "source": [
        "list_a = [1,2,3,0.9,'aaz', data_df] ## [] (square brackets)"
      ],
      "metadata": {
        "id": "rKKzhOBUvQTM"
      },
      "execution_count": null,
      "outputs": []
    },
    {
      "cell_type": "code",
      "source": [
        "list_a"
      ],
      "metadata": {
        "colab": {
          "base_uri": "https://localhost:8080/"
        },
        "id": "zXK-ivoDw1ED",
        "outputId": "bae69438-7a5b-4809-faca-501e392a9d5d"
      },
      "execution_count": null,
      "outputs": [
        {
          "output_type": "execute_result",
          "data": {
            "text/plain": [
              "[1,\n",
              " 2,\n",
              " 3,\n",
              " 0.9,\n",
              " 'aaz',\n",
              "       longitude  latitude  housing_median_age  total_rooms  total_bedrooms  \\\n",
              " 0       -122.05     37.37                27.0       3885.0           661.0   \n",
              " 1       -118.30     34.26                43.0       1510.0           310.0   \n",
              " 2       -117.81     33.78                27.0       3589.0           507.0   \n",
              " 3       -118.36     33.82                28.0         67.0            15.0   \n",
              " 4       -119.67     36.33                19.0       1241.0           244.0   \n",
              " ...         ...       ...                 ...          ...             ...   \n",
              " 2995    -119.86     34.42                23.0       1450.0           642.0   \n",
              " 2996    -118.14     34.06                27.0       5257.0          1082.0   \n",
              " 2997    -119.70     36.30                10.0        956.0           201.0   \n",
              " 2998    -117.12     34.10                40.0         96.0            14.0   \n",
              " 2999    -119.63     34.42                42.0       1765.0           263.0   \n",
              " \n",
              "       population  households  median_income  median_house_value  \n",
              " 0         1537.0       606.0         6.6085            344700.0  \n",
              " 1          809.0       277.0         3.5990            176500.0  \n",
              " 2         1484.0       495.0         5.7934            270500.0  \n",
              " 3           49.0        11.0         6.1359            330000.0  \n",
              " 4          850.0       237.0         2.9375             81700.0  \n",
              " ...          ...         ...            ...                 ...  \n",
              " 2995      1258.0       607.0         1.1790            225000.0  \n",
              " 2996      3496.0      1036.0         3.3906            237200.0  \n",
              " 2997       693.0       220.0         2.2895             62000.0  \n",
              " 2998        46.0        14.0         3.2708            162500.0  \n",
              " 2999       753.0       260.0         8.5608            500001.0  \n",
              " \n",
              " [3000 rows x 9 columns]]"
            ]
          },
          "metadata": {},
          "execution_count": 7
        }
      ]
    },
    {
      "cell_type": "markdown",
      "source": [
        "#### indexing\n",
        "\n",
        "เราสามารถเลือดได้ว่าจะดู list ตัวไหน\n",
        "\n",
        "We can decide which list to look at."
      ],
      "metadata": {
        "id": "c7kr6vg1w696"
      }
    },
    {
      "cell_type": "code",
      "source": [
        "list_a[4]"
      ],
      "metadata": {
        "colab": {
          "base_uri": "https://localhost:8080/",
          "height": 56
        },
        "id": "CEGg0Xgpw1c7",
        "outputId": "4e05c7cb-c4b3-4579-a695-d264fae64e1a"
      },
      "execution_count": null,
      "outputs": [
        {
          "output_type": "execute_result",
          "data": {
            "text/plain": [
              "'aaz'"
            ],
            "application/vnd.google.colaboratory.intrinsic+json": {
              "type": "string"
            }
          },
          "metadata": {},
          "execution_count": 8
        }
      ]
    },
    {
      "cell_type": "code",
      "source": [
        "list_a[5]"
      ],
      "metadata": {
        "colab": {
          "base_uri": "https://localhost:8080/",
          "height": 436
        },
        "id": "E9f9XIq7xJw6",
        "outputId": "149643bd-069f-401f-f4b3-80d83273e4bf"
      },
      "execution_count": null,
      "outputs": [
        {
          "output_type": "execute_result",
          "data": {
            "text/plain": [
              "      longitude  latitude  housing_median_age  total_rooms  total_bedrooms  \\\n",
              "0       -122.05     37.37                27.0       3885.0           661.0   \n",
              "1       -118.30     34.26                43.0       1510.0           310.0   \n",
              "2       -117.81     33.78                27.0       3589.0           507.0   \n",
              "3       -118.36     33.82                28.0         67.0            15.0   \n",
              "4       -119.67     36.33                19.0       1241.0           244.0   \n",
              "...         ...       ...                 ...          ...             ...   \n",
              "2995    -119.86     34.42                23.0       1450.0           642.0   \n",
              "2996    -118.14     34.06                27.0       5257.0          1082.0   \n",
              "2997    -119.70     36.30                10.0        956.0           201.0   \n",
              "2998    -117.12     34.10                40.0         96.0            14.0   \n",
              "2999    -119.63     34.42                42.0       1765.0           263.0   \n",
              "\n",
              "      population  households  median_income  median_house_value  \n",
              "0         1537.0       606.0         6.6085            344700.0  \n",
              "1          809.0       277.0         3.5990            176500.0  \n",
              "2         1484.0       495.0         5.7934            270500.0  \n",
              "3           49.0        11.0         6.1359            330000.0  \n",
              "4          850.0       237.0         2.9375             81700.0  \n",
              "...          ...         ...            ...                 ...  \n",
              "2995      1258.0       607.0         1.1790            225000.0  \n",
              "2996      3496.0      1036.0         3.3906            237200.0  \n",
              "2997       693.0       220.0         2.2895             62000.0  \n",
              "2998        46.0        14.0         3.2708            162500.0  \n",
              "2999       753.0       260.0         8.5608            500001.0  \n",
              "\n",
              "[3000 rows x 9 columns]"
            ],
            "text/html": [
              "\n",
              "  <div id=\"df-52c09e5f-5f4d-44da-97bb-25de72708c88\" class=\"colab-df-container\">\n",
              "    <div>\n",
              "<style scoped>\n",
              "    .dataframe tbody tr th:only-of-type {\n",
              "        vertical-align: middle;\n",
              "    }\n",
              "\n",
              "    .dataframe tbody tr th {\n",
              "        vertical-align: top;\n",
              "    }\n",
              "\n",
              "    .dataframe thead th {\n",
              "        text-align: right;\n",
              "    }\n",
              "</style>\n",
              "<table border=\"1\" class=\"dataframe\">\n",
              "  <thead>\n",
              "    <tr style=\"text-align: right;\">\n",
              "      <th></th>\n",
              "      <th>longitude</th>\n",
              "      <th>latitude</th>\n",
              "      <th>housing_median_age</th>\n",
              "      <th>total_rooms</th>\n",
              "      <th>total_bedrooms</th>\n",
              "      <th>population</th>\n",
              "      <th>households</th>\n",
              "      <th>median_income</th>\n",
              "      <th>median_house_value</th>\n",
              "    </tr>\n",
              "  </thead>\n",
              "  <tbody>\n",
              "    <tr>\n",
              "      <th>0</th>\n",
              "      <td>-122.05</td>\n",
              "      <td>37.37</td>\n",
              "      <td>27.0</td>\n",
              "      <td>3885.0</td>\n",
              "      <td>661.0</td>\n",
              "      <td>1537.0</td>\n",
              "      <td>606.0</td>\n",
              "      <td>6.6085</td>\n",
              "      <td>344700.0</td>\n",
              "    </tr>\n",
              "    <tr>\n",
              "      <th>1</th>\n",
              "      <td>-118.30</td>\n",
              "      <td>34.26</td>\n",
              "      <td>43.0</td>\n",
              "      <td>1510.0</td>\n",
              "      <td>310.0</td>\n",
              "      <td>809.0</td>\n",
              "      <td>277.0</td>\n",
              "      <td>3.5990</td>\n",
              "      <td>176500.0</td>\n",
              "    </tr>\n",
              "    <tr>\n",
              "      <th>2</th>\n",
              "      <td>-117.81</td>\n",
              "      <td>33.78</td>\n",
              "      <td>27.0</td>\n",
              "      <td>3589.0</td>\n",
              "      <td>507.0</td>\n",
              "      <td>1484.0</td>\n",
              "      <td>495.0</td>\n",
              "      <td>5.7934</td>\n",
              "      <td>270500.0</td>\n",
              "    </tr>\n",
              "    <tr>\n",
              "      <th>3</th>\n",
              "      <td>-118.36</td>\n",
              "      <td>33.82</td>\n",
              "      <td>28.0</td>\n",
              "      <td>67.0</td>\n",
              "      <td>15.0</td>\n",
              "      <td>49.0</td>\n",
              "      <td>11.0</td>\n",
              "      <td>6.1359</td>\n",
              "      <td>330000.0</td>\n",
              "    </tr>\n",
              "    <tr>\n",
              "      <th>4</th>\n",
              "      <td>-119.67</td>\n",
              "      <td>36.33</td>\n",
              "      <td>19.0</td>\n",
              "      <td>1241.0</td>\n",
              "      <td>244.0</td>\n",
              "      <td>850.0</td>\n",
              "      <td>237.0</td>\n",
              "      <td>2.9375</td>\n",
              "      <td>81700.0</td>\n",
              "    </tr>\n",
              "    <tr>\n",
              "      <th>...</th>\n",
              "      <td>...</td>\n",
              "      <td>...</td>\n",
              "      <td>...</td>\n",
              "      <td>...</td>\n",
              "      <td>...</td>\n",
              "      <td>...</td>\n",
              "      <td>...</td>\n",
              "      <td>...</td>\n",
              "      <td>...</td>\n",
              "    </tr>\n",
              "    <tr>\n",
              "      <th>2995</th>\n",
              "      <td>-119.86</td>\n",
              "      <td>34.42</td>\n",
              "      <td>23.0</td>\n",
              "      <td>1450.0</td>\n",
              "      <td>642.0</td>\n",
              "      <td>1258.0</td>\n",
              "      <td>607.0</td>\n",
              "      <td>1.1790</td>\n",
              "      <td>225000.0</td>\n",
              "    </tr>\n",
              "    <tr>\n",
              "      <th>2996</th>\n",
              "      <td>-118.14</td>\n",
              "      <td>34.06</td>\n",
              "      <td>27.0</td>\n",
              "      <td>5257.0</td>\n",
              "      <td>1082.0</td>\n",
              "      <td>3496.0</td>\n",
              "      <td>1036.0</td>\n",
              "      <td>3.3906</td>\n",
              "      <td>237200.0</td>\n",
              "    </tr>\n",
              "    <tr>\n",
              "      <th>2997</th>\n",
              "      <td>-119.70</td>\n",
              "      <td>36.30</td>\n",
              "      <td>10.0</td>\n",
              "      <td>956.0</td>\n",
              "      <td>201.0</td>\n",
              "      <td>693.0</td>\n",
              "      <td>220.0</td>\n",
              "      <td>2.2895</td>\n",
              "      <td>62000.0</td>\n",
              "    </tr>\n",
              "    <tr>\n",
              "      <th>2998</th>\n",
              "      <td>-117.12</td>\n",
              "      <td>34.10</td>\n",
              "      <td>40.0</td>\n",
              "      <td>96.0</td>\n",
              "      <td>14.0</td>\n",
              "      <td>46.0</td>\n",
              "      <td>14.0</td>\n",
              "      <td>3.2708</td>\n",
              "      <td>162500.0</td>\n",
              "    </tr>\n",
              "    <tr>\n",
              "      <th>2999</th>\n",
              "      <td>-119.63</td>\n",
              "      <td>34.42</td>\n",
              "      <td>42.0</td>\n",
              "      <td>1765.0</td>\n",
              "      <td>263.0</td>\n",
              "      <td>753.0</td>\n",
              "      <td>260.0</td>\n",
              "      <td>8.5608</td>\n",
              "      <td>500001.0</td>\n",
              "    </tr>\n",
              "  </tbody>\n",
              "</table>\n",
              "<p>3000 rows × 9 columns</p>\n",
              "</div>\n",
              "    <div class=\"colab-df-buttons\">\n",
              "\n",
              "  <div class=\"colab-df-container\">\n",
              "    <button class=\"colab-df-convert\" onclick=\"convertToInteractive('df-52c09e5f-5f4d-44da-97bb-25de72708c88')\"\n",
              "            title=\"Convert this dataframe to an interactive table.\"\n",
              "            style=\"display:none;\">\n",
              "\n",
              "  <svg xmlns=\"http://www.w3.org/2000/svg\" height=\"24px\" viewBox=\"0 -960 960 960\">\n",
              "    <path d=\"M120-120v-720h720v720H120Zm60-500h600v-160H180v160Zm220 220h160v-160H400v160Zm0 220h160v-160H400v160ZM180-400h160v-160H180v160Zm440 0h160v-160H620v160ZM180-180h160v-160H180v160Zm440 0h160v-160H620v160Z\"/>\n",
              "  </svg>\n",
              "    </button>\n",
              "\n",
              "  <style>\n",
              "    .colab-df-container {\n",
              "      display:flex;\n",
              "      gap: 12px;\n",
              "    }\n",
              "\n",
              "    .colab-df-convert {\n",
              "      background-color: #E8F0FE;\n",
              "      border: none;\n",
              "      border-radius: 50%;\n",
              "      cursor: pointer;\n",
              "      display: none;\n",
              "      fill: #1967D2;\n",
              "      height: 32px;\n",
              "      padding: 0 0 0 0;\n",
              "      width: 32px;\n",
              "    }\n",
              "\n",
              "    .colab-df-convert:hover {\n",
              "      background-color: #E2EBFA;\n",
              "      box-shadow: 0px 1px 2px rgba(60, 64, 67, 0.3), 0px 1px 3px 1px rgba(60, 64, 67, 0.15);\n",
              "      fill: #174EA6;\n",
              "    }\n",
              "\n",
              "    .colab-df-buttons div {\n",
              "      margin-bottom: 4px;\n",
              "    }\n",
              "\n",
              "    [theme=dark] .colab-df-convert {\n",
              "      background-color: #3B4455;\n",
              "      fill: #D2E3FC;\n",
              "    }\n",
              "\n",
              "    [theme=dark] .colab-df-convert:hover {\n",
              "      background-color: #434B5C;\n",
              "      box-shadow: 0px 1px 3px 1px rgba(0, 0, 0, 0.15);\n",
              "      filter: drop-shadow(0px 1px 2px rgba(0, 0, 0, 0.3));\n",
              "      fill: #FFFFFF;\n",
              "    }\n",
              "  </style>\n",
              "\n",
              "    <script>\n",
              "      const buttonEl =\n",
              "        document.querySelector('#df-52c09e5f-5f4d-44da-97bb-25de72708c88 button.colab-df-convert');\n",
              "      buttonEl.style.display =\n",
              "        google.colab.kernel.accessAllowed ? 'block' : 'none';\n",
              "\n",
              "      async function convertToInteractive(key) {\n",
              "        const element = document.querySelector('#df-52c09e5f-5f4d-44da-97bb-25de72708c88');\n",
              "        const dataTable =\n",
              "          await google.colab.kernel.invokeFunction('convertToInteractive',\n",
              "                                                    [key], {});\n",
              "        if (!dataTable) return;\n",
              "\n",
              "        const docLinkHtml = 'Like what you see? Visit the ' +\n",
              "          '<a target=\"_blank\" href=https://colab.research.google.com/notebooks/data_table.ipynb>data table notebook</a>'\n",
              "          + ' to learn more about interactive tables.';\n",
              "        element.innerHTML = '';\n",
              "        dataTable['output_type'] = 'display_data';\n",
              "        await google.colab.output.renderOutput(dataTable, element);\n",
              "        const docLink = document.createElement('div');\n",
              "        docLink.innerHTML = docLinkHtml;\n",
              "        element.appendChild(docLink);\n",
              "      }\n",
              "    </script>\n",
              "  </div>\n",
              "\n",
              "\n",
              "<div id=\"df-89eb88fd-f5d1-4611-9d0a-0f8e184a806d\">\n",
              "  <button class=\"colab-df-quickchart\" onclick=\"quickchart('df-89eb88fd-f5d1-4611-9d0a-0f8e184a806d')\"\n",
              "            title=\"Suggest charts\"\n",
              "            style=\"display:none;\">\n",
              "\n",
              "<svg xmlns=\"http://www.w3.org/2000/svg\" height=\"24px\"viewBox=\"0 0 24 24\"\n",
              "     width=\"24px\">\n",
              "    <g>\n",
              "        <path d=\"M19 3H5c-1.1 0-2 .9-2 2v14c0 1.1.9 2 2 2h14c1.1 0 2-.9 2-2V5c0-1.1-.9-2-2-2zM9 17H7v-7h2v7zm4 0h-2V7h2v10zm4 0h-2v-4h2v4z\"/>\n",
              "    </g>\n",
              "</svg>\n",
              "  </button>\n",
              "\n",
              "<style>\n",
              "  .colab-df-quickchart {\n",
              "      --bg-color: #E8F0FE;\n",
              "      --fill-color: #1967D2;\n",
              "      --hover-bg-color: #E2EBFA;\n",
              "      --hover-fill-color: #174EA6;\n",
              "      --disabled-fill-color: #AAA;\n",
              "      --disabled-bg-color: #DDD;\n",
              "  }\n",
              "\n",
              "  [theme=dark] .colab-df-quickchart {\n",
              "      --bg-color: #3B4455;\n",
              "      --fill-color: #D2E3FC;\n",
              "      --hover-bg-color: #434B5C;\n",
              "      --hover-fill-color: #FFFFFF;\n",
              "      --disabled-bg-color: #3B4455;\n",
              "      --disabled-fill-color: #666;\n",
              "  }\n",
              "\n",
              "  .colab-df-quickchart {\n",
              "    background-color: var(--bg-color);\n",
              "    border: none;\n",
              "    border-radius: 50%;\n",
              "    cursor: pointer;\n",
              "    display: none;\n",
              "    fill: var(--fill-color);\n",
              "    height: 32px;\n",
              "    padding: 0;\n",
              "    width: 32px;\n",
              "  }\n",
              "\n",
              "  .colab-df-quickchart:hover {\n",
              "    background-color: var(--hover-bg-color);\n",
              "    box-shadow: 0 1px 2px rgba(60, 64, 67, 0.3), 0 1px 3px 1px rgba(60, 64, 67, 0.15);\n",
              "    fill: var(--button-hover-fill-color);\n",
              "  }\n",
              "\n",
              "  .colab-df-quickchart-complete:disabled,\n",
              "  .colab-df-quickchart-complete:disabled:hover {\n",
              "    background-color: var(--disabled-bg-color);\n",
              "    fill: var(--disabled-fill-color);\n",
              "    box-shadow: none;\n",
              "  }\n",
              "\n",
              "  .colab-df-spinner {\n",
              "    border: 2px solid var(--fill-color);\n",
              "    border-color: transparent;\n",
              "    border-bottom-color: var(--fill-color);\n",
              "    animation:\n",
              "      spin 1s steps(1) infinite;\n",
              "  }\n",
              "\n",
              "  @keyframes spin {\n",
              "    0% {\n",
              "      border-color: transparent;\n",
              "      border-bottom-color: var(--fill-color);\n",
              "      border-left-color: var(--fill-color);\n",
              "    }\n",
              "    20% {\n",
              "      border-color: transparent;\n",
              "      border-left-color: var(--fill-color);\n",
              "      border-top-color: var(--fill-color);\n",
              "    }\n",
              "    30% {\n",
              "      border-color: transparent;\n",
              "      border-left-color: var(--fill-color);\n",
              "      border-top-color: var(--fill-color);\n",
              "      border-right-color: var(--fill-color);\n",
              "    }\n",
              "    40% {\n",
              "      border-color: transparent;\n",
              "      border-right-color: var(--fill-color);\n",
              "      border-top-color: var(--fill-color);\n",
              "    }\n",
              "    60% {\n",
              "      border-color: transparent;\n",
              "      border-right-color: var(--fill-color);\n",
              "    }\n",
              "    80% {\n",
              "      border-color: transparent;\n",
              "      border-right-color: var(--fill-color);\n",
              "      border-bottom-color: var(--fill-color);\n",
              "    }\n",
              "    90% {\n",
              "      border-color: transparent;\n",
              "      border-bottom-color: var(--fill-color);\n",
              "    }\n",
              "  }\n",
              "</style>\n",
              "\n",
              "  <script>\n",
              "    async function quickchart(key) {\n",
              "      const quickchartButtonEl =\n",
              "        document.querySelector('#' + key + ' button');\n",
              "      quickchartButtonEl.disabled = true;  // To prevent multiple clicks.\n",
              "      quickchartButtonEl.classList.add('colab-df-spinner');\n",
              "      try {\n",
              "        const charts = await google.colab.kernel.invokeFunction(\n",
              "            'suggestCharts', [key], {});\n",
              "      } catch (error) {\n",
              "        console.error('Error during call to suggestCharts:', error);\n",
              "      }\n",
              "      quickchartButtonEl.classList.remove('colab-df-spinner');\n",
              "      quickchartButtonEl.classList.add('colab-df-quickchart-complete');\n",
              "    }\n",
              "    (() => {\n",
              "      let quickchartButtonEl =\n",
              "        document.querySelector('#df-89eb88fd-f5d1-4611-9d0a-0f8e184a806d button');\n",
              "      quickchartButtonEl.style.display =\n",
              "        google.colab.kernel.accessAllowed ? 'block' : 'none';\n",
              "    })();\n",
              "  </script>\n",
              "</div>\n",
              "\n",
              "  <div id=\"id_eeb5204f-0020-4a1b-94c9-47903b8dffd2\">\n",
              "    <style>\n",
              "      .colab-df-generate {\n",
              "        background-color: #E8F0FE;\n",
              "        border: none;\n",
              "        border-radius: 50%;\n",
              "        cursor: pointer;\n",
              "        display: none;\n",
              "        fill: #1967D2;\n",
              "        height: 32px;\n",
              "        padding: 0 0 0 0;\n",
              "        width: 32px;\n",
              "      }\n",
              "\n",
              "      .colab-df-generate:hover {\n",
              "        background-color: #E2EBFA;\n",
              "        box-shadow: 0px 1px 2px rgba(60, 64, 67, 0.3), 0px 1px 3px 1px rgba(60, 64, 67, 0.15);\n",
              "        fill: #174EA6;\n",
              "      }\n",
              "\n",
              "      [theme=dark] .colab-df-generate {\n",
              "        background-color: #3B4455;\n",
              "        fill: #D2E3FC;\n",
              "      }\n",
              "\n",
              "      [theme=dark] .colab-df-generate:hover {\n",
              "        background-color: #434B5C;\n",
              "        box-shadow: 0px 1px 3px 1px rgba(0, 0, 0, 0.15);\n",
              "        filter: drop-shadow(0px 1px 2px rgba(0, 0, 0, 0.3));\n",
              "        fill: #FFFFFF;\n",
              "      }\n",
              "    </style>\n",
              "    <button class=\"colab-df-generate\" onclick=\"generateWithVariable('data_df')\"\n",
              "            title=\"Generate code using this dataframe.\"\n",
              "            style=\"display:none;\">\n",
              "\n",
              "  <svg xmlns=\"http://www.w3.org/2000/svg\" height=\"24px\"viewBox=\"0 0 24 24\"\n",
              "       width=\"24px\">\n",
              "    <path d=\"M7,19H8.4L18.45,9,17,7.55,7,17.6ZM5,21V16.75L18.45,3.32a2,2,0,0,1,2.83,0l1.4,1.43a1.91,1.91,0,0,1,.58,1.4,1.91,1.91,0,0,1-.58,1.4L9.25,21ZM18.45,9,17,7.55Zm-12,3A5.31,5.31,0,0,0,4.9,8.1,5.31,5.31,0,0,0,1,6.5,5.31,5.31,0,0,0,4.9,4.9,5.31,5.31,0,0,0,6.5,1,5.31,5.31,0,0,0,8.1,4.9,5.31,5.31,0,0,0,12,6.5,5.46,5.46,0,0,0,6.5,12Z\"/>\n",
              "  </svg>\n",
              "    </button>\n",
              "    <script>\n",
              "      (() => {\n",
              "      const buttonEl =\n",
              "        document.querySelector('#id_eeb5204f-0020-4a1b-94c9-47903b8dffd2 button.colab-df-generate');\n",
              "      buttonEl.style.display =\n",
              "        google.colab.kernel.accessAllowed ? 'block' : 'none';\n",
              "\n",
              "      buttonEl.onclick = () => {\n",
              "        google.colab.notebook.generateWithVariable('data_df');\n",
              "      }\n",
              "      })();\n",
              "    </script>\n",
              "  </div>\n",
              "\n",
              "    </div>\n",
              "  </div>\n"
            ],
            "application/vnd.google.colaboratory.intrinsic+json": {
              "type": "dataframe",
              "variable_name": "data_df",
              "summary": "{\n  \"name\": \"data_df\",\n  \"rows\": 3000,\n  \"fields\": [\n    {\n      \"column\": \"longitude\",\n      \"properties\": {\n        \"dtype\": \"number\",\n        \"std\": 1.9949362939550175,\n        \"min\": -124.18,\n        \"max\": -114.49,\n        \"num_unique_values\": 607,\n        \"samples\": [\n          -121.15,\n          -121.46,\n          -121.02\n        ],\n        \"semantic_type\": \"\",\n        \"description\": \"\"\n      }\n    },\n    {\n      \"column\": \"latitude\",\n      \"properties\": {\n        \"dtype\": \"number\",\n        \"std\": 2.129669523343834,\n        \"min\": 32.56,\n        \"max\": 41.92,\n        \"num_unique_values\": 587,\n        \"samples\": [\n          40.17,\n          33.69,\n          39.61\n        ],\n        \"semantic_type\": \"\",\n        \"description\": \"\"\n      }\n    },\n    {\n      \"column\": \"housing_median_age\",\n      \"properties\": {\n        \"dtype\": \"number\",\n        \"std\": 12.555395554955753,\n        \"min\": 1.0,\n        \"max\": 52.0,\n        \"num_unique_values\": 52,\n        \"samples\": [\n          14.0,\n          49.0,\n          7.0\n        ],\n        \"semantic_type\": \"\",\n        \"description\": \"\"\n      }\n    },\n    {\n      \"column\": \"total_rooms\",\n      \"properties\": {\n        \"dtype\": \"number\",\n        \"std\": 2155.593331625581,\n        \"min\": 6.0,\n        \"max\": 30450.0,\n        \"num_unique_values\": 2215,\n        \"samples\": [\n          1961.0,\n          1807.0,\n          680.0\n        ],\n        \"semantic_type\": \"\",\n        \"description\": \"\"\n      }\n    },\n    {\n      \"column\": \"total_bedrooms\",\n      \"properties\": {\n        \"dtype\": \"number\",\n        \"std\": 415.6543681363229,\n        \"min\": 2.0,\n        \"max\": 5419.0,\n        \"num_unique_values\": 1055,\n        \"samples\": [\n          532.0,\n          764.0,\n          2162.0\n        ],\n        \"semantic_type\": \"\",\n        \"description\": \"\"\n      }\n    },\n    {\n      \"column\": \"population\",\n      \"properties\": {\n        \"dtype\": \"number\",\n        \"std\": 1030.5430124122424,\n        \"min\": 5.0,\n        \"max\": 11935.0,\n        \"num_unique_values\": 1802,\n        \"samples\": [\n          947.0,\n          1140.0,\n          2019.0\n        ],\n        \"semantic_type\": \"\",\n        \"description\": \"\"\n      }\n    },\n    {\n      \"column\": \"households\",\n      \"properties\": {\n        \"dtype\": \"number\",\n        \"std\": 365.42270980552627,\n        \"min\": 2.0,\n        \"max\": 4930.0,\n        \"num_unique_values\": 1026,\n        \"samples\": [\n          646.0,\n          629.0,\n          504.0\n        ],\n        \"semantic_type\": \"\",\n        \"description\": \"\"\n      }\n    },\n    {\n      \"column\": \"median_income\",\n      \"properties\": {\n        \"dtype\": \"number\",\n        \"std\": 1.854511729691479,\n        \"min\": 0.4999,\n        \"max\": 15.0001,\n        \"num_unique_values\": 2578,\n        \"samples\": [\n          1.725,\n          0.7403,\n          2.6964\n        ],\n        \"semantic_type\": \"\",\n        \"description\": \"\"\n      }\n    },\n    {\n      \"column\": \"median_house_value\",\n      \"properties\": {\n        \"dtype\": \"number\",\n        \"std\": 113119.68746964628,\n        \"min\": 22500.0,\n        \"max\": 500001.0,\n        \"num_unique_values\": 1784,\n        \"samples\": [\n          71900.0,\n          63000.0,\n          115800.0\n        ],\n        \"semantic_type\": \"\",\n        \"description\": \"\"\n      }\n    }\n  ]\n}"
            }
          },
          "metadata": {},
          "execution_count": 9
        }
      ]
    },
    {
      "cell_type": "markdown",
      "source": [
        "#### Negative index ชี้ค่าใน list จากด้านหลัง (index to get value from the end of the list)"
      ],
      "metadata": {
        "id": "IDb4fiFpxWFa"
      }
    },
    {
      "cell_type": "code",
      "source": [
        "list_a[-1] ## Negative index"
      ],
      "metadata": {
        "colab": {
          "base_uri": "https://localhost:8080/",
          "height": 436
        },
        "id": "htia_SkDxLAU",
        "outputId": "ca1d512c-c8f5-4bbc-cb3c-bf0ea324be2c"
      },
      "execution_count": null,
      "outputs": [
        {
          "output_type": "execute_result",
          "data": {
            "text/plain": [
              "      longitude  latitude  housing_median_age  total_rooms  total_bedrooms  \\\n",
              "0       -122.05     37.37                27.0       3885.0           661.0   \n",
              "1       -118.30     34.26                43.0       1510.0           310.0   \n",
              "2       -117.81     33.78                27.0       3589.0           507.0   \n",
              "3       -118.36     33.82                28.0         67.0            15.0   \n",
              "4       -119.67     36.33                19.0       1241.0           244.0   \n",
              "...         ...       ...                 ...          ...             ...   \n",
              "2995    -119.86     34.42                23.0       1450.0           642.0   \n",
              "2996    -118.14     34.06                27.0       5257.0          1082.0   \n",
              "2997    -119.70     36.30                10.0        956.0           201.0   \n",
              "2998    -117.12     34.10                40.0         96.0            14.0   \n",
              "2999    -119.63     34.42                42.0       1765.0           263.0   \n",
              "\n",
              "      population  households  median_income  median_house_value  \n",
              "0         1537.0       606.0         6.6085            344700.0  \n",
              "1          809.0       277.0         3.5990            176500.0  \n",
              "2         1484.0       495.0         5.7934            270500.0  \n",
              "3           49.0        11.0         6.1359            330000.0  \n",
              "4          850.0       237.0         2.9375             81700.0  \n",
              "...          ...         ...            ...                 ...  \n",
              "2995      1258.0       607.0         1.1790            225000.0  \n",
              "2996      3496.0      1036.0         3.3906            237200.0  \n",
              "2997       693.0       220.0         2.2895             62000.0  \n",
              "2998        46.0        14.0         3.2708            162500.0  \n",
              "2999       753.0       260.0         8.5608            500001.0  \n",
              "\n",
              "[3000 rows x 9 columns]"
            ],
            "text/html": [
              "\n",
              "  <div id=\"df-6ea158f1-8f67-4913-9854-fe0417345902\" class=\"colab-df-container\">\n",
              "    <div>\n",
              "<style scoped>\n",
              "    .dataframe tbody tr th:only-of-type {\n",
              "        vertical-align: middle;\n",
              "    }\n",
              "\n",
              "    .dataframe tbody tr th {\n",
              "        vertical-align: top;\n",
              "    }\n",
              "\n",
              "    .dataframe thead th {\n",
              "        text-align: right;\n",
              "    }\n",
              "</style>\n",
              "<table border=\"1\" class=\"dataframe\">\n",
              "  <thead>\n",
              "    <tr style=\"text-align: right;\">\n",
              "      <th></th>\n",
              "      <th>longitude</th>\n",
              "      <th>latitude</th>\n",
              "      <th>housing_median_age</th>\n",
              "      <th>total_rooms</th>\n",
              "      <th>total_bedrooms</th>\n",
              "      <th>population</th>\n",
              "      <th>households</th>\n",
              "      <th>median_income</th>\n",
              "      <th>median_house_value</th>\n",
              "    </tr>\n",
              "  </thead>\n",
              "  <tbody>\n",
              "    <tr>\n",
              "      <th>0</th>\n",
              "      <td>-122.05</td>\n",
              "      <td>37.37</td>\n",
              "      <td>27.0</td>\n",
              "      <td>3885.0</td>\n",
              "      <td>661.0</td>\n",
              "      <td>1537.0</td>\n",
              "      <td>606.0</td>\n",
              "      <td>6.6085</td>\n",
              "      <td>344700.0</td>\n",
              "    </tr>\n",
              "    <tr>\n",
              "      <th>1</th>\n",
              "      <td>-118.30</td>\n",
              "      <td>34.26</td>\n",
              "      <td>43.0</td>\n",
              "      <td>1510.0</td>\n",
              "      <td>310.0</td>\n",
              "      <td>809.0</td>\n",
              "      <td>277.0</td>\n",
              "      <td>3.5990</td>\n",
              "      <td>176500.0</td>\n",
              "    </tr>\n",
              "    <tr>\n",
              "      <th>2</th>\n",
              "      <td>-117.81</td>\n",
              "      <td>33.78</td>\n",
              "      <td>27.0</td>\n",
              "      <td>3589.0</td>\n",
              "      <td>507.0</td>\n",
              "      <td>1484.0</td>\n",
              "      <td>495.0</td>\n",
              "      <td>5.7934</td>\n",
              "      <td>270500.0</td>\n",
              "    </tr>\n",
              "    <tr>\n",
              "      <th>3</th>\n",
              "      <td>-118.36</td>\n",
              "      <td>33.82</td>\n",
              "      <td>28.0</td>\n",
              "      <td>67.0</td>\n",
              "      <td>15.0</td>\n",
              "      <td>49.0</td>\n",
              "      <td>11.0</td>\n",
              "      <td>6.1359</td>\n",
              "      <td>330000.0</td>\n",
              "    </tr>\n",
              "    <tr>\n",
              "      <th>4</th>\n",
              "      <td>-119.67</td>\n",
              "      <td>36.33</td>\n",
              "      <td>19.0</td>\n",
              "      <td>1241.0</td>\n",
              "      <td>244.0</td>\n",
              "      <td>850.0</td>\n",
              "      <td>237.0</td>\n",
              "      <td>2.9375</td>\n",
              "      <td>81700.0</td>\n",
              "    </tr>\n",
              "    <tr>\n",
              "      <th>...</th>\n",
              "      <td>...</td>\n",
              "      <td>...</td>\n",
              "      <td>...</td>\n",
              "      <td>...</td>\n",
              "      <td>...</td>\n",
              "      <td>...</td>\n",
              "      <td>...</td>\n",
              "      <td>...</td>\n",
              "      <td>...</td>\n",
              "    </tr>\n",
              "    <tr>\n",
              "      <th>2995</th>\n",
              "      <td>-119.86</td>\n",
              "      <td>34.42</td>\n",
              "      <td>23.0</td>\n",
              "      <td>1450.0</td>\n",
              "      <td>642.0</td>\n",
              "      <td>1258.0</td>\n",
              "      <td>607.0</td>\n",
              "      <td>1.1790</td>\n",
              "      <td>225000.0</td>\n",
              "    </tr>\n",
              "    <tr>\n",
              "      <th>2996</th>\n",
              "      <td>-118.14</td>\n",
              "      <td>34.06</td>\n",
              "      <td>27.0</td>\n",
              "      <td>5257.0</td>\n",
              "      <td>1082.0</td>\n",
              "      <td>3496.0</td>\n",
              "      <td>1036.0</td>\n",
              "      <td>3.3906</td>\n",
              "      <td>237200.0</td>\n",
              "    </tr>\n",
              "    <tr>\n",
              "      <th>2997</th>\n",
              "      <td>-119.70</td>\n",
              "      <td>36.30</td>\n",
              "      <td>10.0</td>\n",
              "      <td>956.0</td>\n",
              "      <td>201.0</td>\n",
              "      <td>693.0</td>\n",
              "      <td>220.0</td>\n",
              "      <td>2.2895</td>\n",
              "      <td>62000.0</td>\n",
              "    </tr>\n",
              "    <tr>\n",
              "      <th>2998</th>\n",
              "      <td>-117.12</td>\n",
              "      <td>34.10</td>\n",
              "      <td>40.0</td>\n",
              "      <td>96.0</td>\n",
              "      <td>14.0</td>\n",
              "      <td>46.0</td>\n",
              "      <td>14.0</td>\n",
              "      <td>3.2708</td>\n",
              "      <td>162500.0</td>\n",
              "    </tr>\n",
              "    <tr>\n",
              "      <th>2999</th>\n",
              "      <td>-119.63</td>\n",
              "      <td>34.42</td>\n",
              "      <td>42.0</td>\n",
              "      <td>1765.0</td>\n",
              "      <td>263.0</td>\n",
              "      <td>753.0</td>\n",
              "      <td>260.0</td>\n",
              "      <td>8.5608</td>\n",
              "      <td>500001.0</td>\n",
              "    </tr>\n",
              "  </tbody>\n",
              "</table>\n",
              "<p>3000 rows × 9 columns</p>\n",
              "</div>\n",
              "    <div class=\"colab-df-buttons\">\n",
              "\n",
              "  <div class=\"colab-df-container\">\n",
              "    <button class=\"colab-df-convert\" onclick=\"convertToInteractive('df-6ea158f1-8f67-4913-9854-fe0417345902')\"\n",
              "            title=\"Convert this dataframe to an interactive table.\"\n",
              "            style=\"display:none;\">\n",
              "\n",
              "  <svg xmlns=\"http://www.w3.org/2000/svg\" height=\"24px\" viewBox=\"0 -960 960 960\">\n",
              "    <path d=\"M120-120v-720h720v720H120Zm60-500h600v-160H180v160Zm220 220h160v-160H400v160Zm0 220h160v-160H400v160ZM180-400h160v-160H180v160Zm440 0h160v-160H620v160ZM180-180h160v-160H180v160Zm440 0h160v-160H620v160Z\"/>\n",
              "  </svg>\n",
              "    </button>\n",
              "\n",
              "  <style>\n",
              "    .colab-df-container {\n",
              "      display:flex;\n",
              "      gap: 12px;\n",
              "    }\n",
              "\n",
              "    .colab-df-convert {\n",
              "      background-color: #E8F0FE;\n",
              "      border: none;\n",
              "      border-radius: 50%;\n",
              "      cursor: pointer;\n",
              "      display: none;\n",
              "      fill: #1967D2;\n",
              "      height: 32px;\n",
              "      padding: 0 0 0 0;\n",
              "      width: 32px;\n",
              "    }\n",
              "\n",
              "    .colab-df-convert:hover {\n",
              "      background-color: #E2EBFA;\n",
              "      box-shadow: 0px 1px 2px rgba(60, 64, 67, 0.3), 0px 1px 3px 1px rgba(60, 64, 67, 0.15);\n",
              "      fill: #174EA6;\n",
              "    }\n",
              "\n",
              "    .colab-df-buttons div {\n",
              "      margin-bottom: 4px;\n",
              "    }\n",
              "\n",
              "    [theme=dark] .colab-df-convert {\n",
              "      background-color: #3B4455;\n",
              "      fill: #D2E3FC;\n",
              "    }\n",
              "\n",
              "    [theme=dark] .colab-df-convert:hover {\n",
              "      background-color: #434B5C;\n",
              "      box-shadow: 0px 1px 3px 1px rgba(0, 0, 0, 0.15);\n",
              "      filter: drop-shadow(0px 1px 2px rgba(0, 0, 0, 0.3));\n",
              "      fill: #FFFFFF;\n",
              "    }\n",
              "  </style>\n",
              "\n",
              "    <script>\n",
              "      const buttonEl =\n",
              "        document.querySelector('#df-6ea158f1-8f67-4913-9854-fe0417345902 button.colab-df-convert');\n",
              "      buttonEl.style.display =\n",
              "        google.colab.kernel.accessAllowed ? 'block' : 'none';\n",
              "\n",
              "      async function convertToInteractive(key) {\n",
              "        const element = document.querySelector('#df-6ea158f1-8f67-4913-9854-fe0417345902');\n",
              "        const dataTable =\n",
              "          await google.colab.kernel.invokeFunction('convertToInteractive',\n",
              "                                                    [key], {});\n",
              "        if (!dataTable) return;\n",
              "\n",
              "        const docLinkHtml = 'Like what you see? Visit the ' +\n",
              "          '<a target=\"_blank\" href=https://colab.research.google.com/notebooks/data_table.ipynb>data table notebook</a>'\n",
              "          + ' to learn more about interactive tables.';\n",
              "        element.innerHTML = '';\n",
              "        dataTable['output_type'] = 'display_data';\n",
              "        await google.colab.output.renderOutput(dataTable, element);\n",
              "        const docLink = document.createElement('div');\n",
              "        docLink.innerHTML = docLinkHtml;\n",
              "        element.appendChild(docLink);\n",
              "      }\n",
              "    </script>\n",
              "  </div>\n",
              "\n",
              "\n",
              "<div id=\"df-b1adee84-5eaa-4846-b53d-0553badfbe4f\">\n",
              "  <button class=\"colab-df-quickchart\" onclick=\"quickchart('df-b1adee84-5eaa-4846-b53d-0553badfbe4f')\"\n",
              "            title=\"Suggest charts\"\n",
              "            style=\"display:none;\">\n",
              "\n",
              "<svg xmlns=\"http://www.w3.org/2000/svg\" height=\"24px\"viewBox=\"0 0 24 24\"\n",
              "     width=\"24px\">\n",
              "    <g>\n",
              "        <path d=\"M19 3H5c-1.1 0-2 .9-2 2v14c0 1.1.9 2 2 2h14c1.1 0 2-.9 2-2V5c0-1.1-.9-2-2-2zM9 17H7v-7h2v7zm4 0h-2V7h2v10zm4 0h-2v-4h2v4z\"/>\n",
              "    </g>\n",
              "</svg>\n",
              "  </button>\n",
              "\n",
              "<style>\n",
              "  .colab-df-quickchart {\n",
              "      --bg-color: #E8F0FE;\n",
              "      --fill-color: #1967D2;\n",
              "      --hover-bg-color: #E2EBFA;\n",
              "      --hover-fill-color: #174EA6;\n",
              "      --disabled-fill-color: #AAA;\n",
              "      --disabled-bg-color: #DDD;\n",
              "  }\n",
              "\n",
              "  [theme=dark] .colab-df-quickchart {\n",
              "      --bg-color: #3B4455;\n",
              "      --fill-color: #D2E3FC;\n",
              "      --hover-bg-color: #434B5C;\n",
              "      --hover-fill-color: #FFFFFF;\n",
              "      --disabled-bg-color: #3B4455;\n",
              "      --disabled-fill-color: #666;\n",
              "  }\n",
              "\n",
              "  .colab-df-quickchart {\n",
              "    background-color: var(--bg-color);\n",
              "    border: none;\n",
              "    border-radius: 50%;\n",
              "    cursor: pointer;\n",
              "    display: none;\n",
              "    fill: var(--fill-color);\n",
              "    height: 32px;\n",
              "    padding: 0;\n",
              "    width: 32px;\n",
              "  }\n",
              "\n",
              "  .colab-df-quickchart:hover {\n",
              "    background-color: var(--hover-bg-color);\n",
              "    box-shadow: 0 1px 2px rgba(60, 64, 67, 0.3), 0 1px 3px 1px rgba(60, 64, 67, 0.15);\n",
              "    fill: var(--button-hover-fill-color);\n",
              "  }\n",
              "\n",
              "  .colab-df-quickchart-complete:disabled,\n",
              "  .colab-df-quickchart-complete:disabled:hover {\n",
              "    background-color: var(--disabled-bg-color);\n",
              "    fill: var(--disabled-fill-color);\n",
              "    box-shadow: none;\n",
              "  }\n",
              "\n",
              "  .colab-df-spinner {\n",
              "    border: 2px solid var(--fill-color);\n",
              "    border-color: transparent;\n",
              "    border-bottom-color: var(--fill-color);\n",
              "    animation:\n",
              "      spin 1s steps(1) infinite;\n",
              "  }\n",
              "\n",
              "  @keyframes spin {\n",
              "    0% {\n",
              "      border-color: transparent;\n",
              "      border-bottom-color: var(--fill-color);\n",
              "      border-left-color: var(--fill-color);\n",
              "    }\n",
              "    20% {\n",
              "      border-color: transparent;\n",
              "      border-left-color: var(--fill-color);\n",
              "      border-top-color: var(--fill-color);\n",
              "    }\n",
              "    30% {\n",
              "      border-color: transparent;\n",
              "      border-left-color: var(--fill-color);\n",
              "      border-top-color: var(--fill-color);\n",
              "      border-right-color: var(--fill-color);\n",
              "    }\n",
              "    40% {\n",
              "      border-color: transparent;\n",
              "      border-right-color: var(--fill-color);\n",
              "      border-top-color: var(--fill-color);\n",
              "    }\n",
              "    60% {\n",
              "      border-color: transparent;\n",
              "      border-right-color: var(--fill-color);\n",
              "    }\n",
              "    80% {\n",
              "      border-color: transparent;\n",
              "      border-right-color: var(--fill-color);\n",
              "      border-bottom-color: var(--fill-color);\n",
              "    }\n",
              "    90% {\n",
              "      border-color: transparent;\n",
              "      border-bottom-color: var(--fill-color);\n",
              "    }\n",
              "  }\n",
              "</style>\n",
              "\n",
              "  <script>\n",
              "    async function quickchart(key) {\n",
              "      const quickchartButtonEl =\n",
              "        document.querySelector('#' + key + ' button');\n",
              "      quickchartButtonEl.disabled = true;  // To prevent multiple clicks.\n",
              "      quickchartButtonEl.classList.add('colab-df-spinner');\n",
              "      try {\n",
              "        const charts = await google.colab.kernel.invokeFunction(\n",
              "            'suggestCharts', [key], {});\n",
              "      } catch (error) {\n",
              "        console.error('Error during call to suggestCharts:', error);\n",
              "      }\n",
              "      quickchartButtonEl.classList.remove('colab-df-spinner');\n",
              "      quickchartButtonEl.classList.add('colab-df-quickchart-complete');\n",
              "    }\n",
              "    (() => {\n",
              "      let quickchartButtonEl =\n",
              "        document.querySelector('#df-b1adee84-5eaa-4846-b53d-0553badfbe4f button');\n",
              "      quickchartButtonEl.style.display =\n",
              "        google.colab.kernel.accessAllowed ? 'block' : 'none';\n",
              "    })();\n",
              "  </script>\n",
              "</div>\n",
              "\n",
              "  <div id=\"id_5c7d39e6-c56e-4ece-bc37-b3296c6a5984\">\n",
              "    <style>\n",
              "      .colab-df-generate {\n",
              "        background-color: #E8F0FE;\n",
              "        border: none;\n",
              "        border-radius: 50%;\n",
              "        cursor: pointer;\n",
              "        display: none;\n",
              "        fill: #1967D2;\n",
              "        height: 32px;\n",
              "        padding: 0 0 0 0;\n",
              "        width: 32px;\n",
              "      }\n",
              "\n",
              "      .colab-df-generate:hover {\n",
              "        background-color: #E2EBFA;\n",
              "        box-shadow: 0px 1px 2px rgba(60, 64, 67, 0.3), 0px 1px 3px 1px rgba(60, 64, 67, 0.15);\n",
              "        fill: #174EA6;\n",
              "      }\n",
              "\n",
              "      [theme=dark] .colab-df-generate {\n",
              "        background-color: #3B4455;\n",
              "        fill: #D2E3FC;\n",
              "      }\n",
              "\n",
              "      [theme=dark] .colab-df-generate:hover {\n",
              "        background-color: #434B5C;\n",
              "        box-shadow: 0px 1px 3px 1px rgba(0, 0, 0, 0.15);\n",
              "        filter: drop-shadow(0px 1px 2px rgba(0, 0, 0, 0.3));\n",
              "        fill: #FFFFFF;\n",
              "      }\n",
              "    </style>\n",
              "    <button class=\"colab-df-generate\" onclick=\"generateWithVariable('data_df')\"\n",
              "            title=\"Generate code using this dataframe.\"\n",
              "            style=\"display:none;\">\n",
              "\n",
              "  <svg xmlns=\"http://www.w3.org/2000/svg\" height=\"24px\"viewBox=\"0 0 24 24\"\n",
              "       width=\"24px\">\n",
              "    <path d=\"M7,19H8.4L18.45,9,17,7.55,7,17.6ZM5,21V16.75L18.45,3.32a2,2,0,0,1,2.83,0l1.4,1.43a1.91,1.91,0,0,1,.58,1.4,1.91,1.91,0,0,1-.58,1.4L9.25,21ZM18.45,9,17,7.55Zm-12,3A5.31,5.31,0,0,0,4.9,8.1,5.31,5.31,0,0,0,1,6.5,5.31,5.31,0,0,0,4.9,4.9,5.31,5.31,0,0,0,6.5,1,5.31,5.31,0,0,0,8.1,4.9,5.31,5.31,0,0,0,12,6.5,5.46,5.46,0,0,0,6.5,12Z\"/>\n",
              "  </svg>\n",
              "    </button>\n",
              "    <script>\n",
              "      (() => {\n",
              "      const buttonEl =\n",
              "        document.querySelector('#id_5c7d39e6-c56e-4ece-bc37-b3296c6a5984 button.colab-df-generate');\n",
              "      buttonEl.style.display =\n",
              "        google.colab.kernel.accessAllowed ? 'block' : 'none';\n",
              "\n",
              "      buttonEl.onclick = () => {\n",
              "        google.colab.notebook.generateWithVariable('data_df');\n",
              "      }\n",
              "      })();\n",
              "    </script>\n",
              "  </div>\n",
              "\n",
              "    </div>\n",
              "  </div>\n"
            ],
            "application/vnd.google.colaboratory.intrinsic+json": {
              "type": "dataframe",
              "variable_name": "data_df",
              "summary": "{\n  \"name\": \"data_df\",\n  \"rows\": 3000,\n  \"fields\": [\n    {\n      \"column\": \"longitude\",\n      \"properties\": {\n        \"dtype\": \"number\",\n        \"std\": 1.9949362939550175,\n        \"min\": -124.18,\n        \"max\": -114.49,\n        \"num_unique_values\": 607,\n        \"samples\": [\n          -121.15,\n          -121.46,\n          -121.02\n        ],\n        \"semantic_type\": \"\",\n        \"description\": \"\"\n      }\n    },\n    {\n      \"column\": \"latitude\",\n      \"properties\": {\n        \"dtype\": \"number\",\n        \"std\": 2.129669523343834,\n        \"min\": 32.56,\n        \"max\": 41.92,\n        \"num_unique_values\": 587,\n        \"samples\": [\n          40.17,\n          33.69,\n          39.61\n        ],\n        \"semantic_type\": \"\",\n        \"description\": \"\"\n      }\n    },\n    {\n      \"column\": \"housing_median_age\",\n      \"properties\": {\n        \"dtype\": \"number\",\n        \"std\": 12.555395554955753,\n        \"min\": 1.0,\n        \"max\": 52.0,\n        \"num_unique_values\": 52,\n        \"samples\": [\n          14.0,\n          49.0,\n          7.0\n        ],\n        \"semantic_type\": \"\",\n        \"description\": \"\"\n      }\n    },\n    {\n      \"column\": \"total_rooms\",\n      \"properties\": {\n        \"dtype\": \"number\",\n        \"std\": 2155.593331625581,\n        \"min\": 6.0,\n        \"max\": 30450.0,\n        \"num_unique_values\": 2215,\n        \"samples\": [\n          1961.0,\n          1807.0,\n          680.0\n        ],\n        \"semantic_type\": \"\",\n        \"description\": \"\"\n      }\n    },\n    {\n      \"column\": \"total_bedrooms\",\n      \"properties\": {\n        \"dtype\": \"number\",\n        \"std\": 415.6543681363229,\n        \"min\": 2.0,\n        \"max\": 5419.0,\n        \"num_unique_values\": 1055,\n        \"samples\": [\n          532.0,\n          764.0,\n          2162.0\n        ],\n        \"semantic_type\": \"\",\n        \"description\": \"\"\n      }\n    },\n    {\n      \"column\": \"population\",\n      \"properties\": {\n        \"dtype\": \"number\",\n        \"std\": 1030.5430124122424,\n        \"min\": 5.0,\n        \"max\": 11935.0,\n        \"num_unique_values\": 1802,\n        \"samples\": [\n          947.0,\n          1140.0,\n          2019.0\n        ],\n        \"semantic_type\": \"\",\n        \"description\": \"\"\n      }\n    },\n    {\n      \"column\": \"households\",\n      \"properties\": {\n        \"dtype\": \"number\",\n        \"std\": 365.42270980552627,\n        \"min\": 2.0,\n        \"max\": 4930.0,\n        \"num_unique_values\": 1026,\n        \"samples\": [\n          646.0,\n          629.0,\n          504.0\n        ],\n        \"semantic_type\": \"\",\n        \"description\": \"\"\n      }\n    },\n    {\n      \"column\": \"median_income\",\n      \"properties\": {\n        \"dtype\": \"number\",\n        \"std\": 1.854511729691479,\n        \"min\": 0.4999,\n        \"max\": 15.0001,\n        \"num_unique_values\": 2578,\n        \"samples\": [\n          1.725,\n          0.7403,\n          2.6964\n        ],\n        \"semantic_type\": \"\",\n        \"description\": \"\"\n      }\n    },\n    {\n      \"column\": \"median_house_value\",\n      \"properties\": {\n        \"dtype\": \"number\",\n        \"std\": 113119.68746964628,\n        \"min\": 22500.0,\n        \"max\": 500001.0,\n        \"num_unique_values\": 1784,\n        \"samples\": [\n          71900.0,\n          63000.0,\n          115800.0\n        ],\n        \"semantic_type\": \"\",\n        \"description\": \"\"\n      }\n    }\n  ]\n}"
            }
          },
          "metadata": {},
          "execution_count": 10
        }
      ]
    },
    {
      "cell_type": "code",
      "source": [
        "list_b = ['pizza', list_a,9]\n",
        "list_b"
      ],
      "metadata": {
        "colab": {
          "base_uri": "https://localhost:8080/"
        },
        "id": "1E4da4AvxTsA",
        "outputId": "8d6d7821-66f2-4081-eeae-9335e6dc61b2"
      },
      "execution_count": null,
      "outputs": [
        {
          "output_type": "execute_result",
          "data": {
            "text/plain": [
              "['pizza',\n",
              " [1,\n",
              "  2,\n",
              "  3,\n",
              "  0.9,\n",
              "  'aaz',\n",
              "        longitude  latitude  housing_median_age  total_rooms  total_bedrooms  \\\n",
              "  0       -122.05     37.37                27.0       3885.0           661.0   \n",
              "  1       -118.30     34.26                43.0       1510.0           310.0   \n",
              "  2       -117.81     33.78                27.0       3589.0           507.0   \n",
              "  3       -118.36     33.82                28.0         67.0            15.0   \n",
              "  4       -119.67     36.33                19.0       1241.0           244.0   \n",
              "  ...         ...       ...                 ...          ...             ...   \n",
              "  2995    -119.86     34.42                23.0       1450.0           642.0   \n",
              "  2996    -118.14     34.06                27.0       5257.0          1082.0   \n",
              "  2997    -119.70     36.30                10.0        956.0           201.0   \n",
              "  2998    -117.12     34.10                40.0         96.0            14.0   \n",
              "  2999    -119.63     34.42                42.0       1765.0           263.0   \n",
              "  \n",
              "        population  households  median_income  median_house_value  \n",
              "  0         1537.0       606.0         6.6085            344700.0  \n",
              "  1          809.0       277.0         3.5990            176500.0  \n",
              "  2         1484.0       495.0         5.7934            270500.0  \n",
              "  3           49.0        11.0         6.1359            330000.0  \n",
              "  4          850.0       237.0         2.9375             81700.0  \n",
              "  ...          ...         ...            ...                 ...  \n",
              "  2995      1258.0       607.0         1.1790            225000.0  \n",
              "  2996      3496.0      1036.0         3.3906            237200.0  \n",
              "  2997       693.0       220.0         2.2895             62000.0  \n",
              "  2998        46.0        14.0         3.2708            162500.0  \n",
              "  2999       753.0       260.0         8.5608            500001.0  \n",
              "  \n",
              "  [3000 rows x 9 columns]],\n",
              " 9]"
            ]
          },
          "metadata": {},
          "execution_count": 11
        }
      ]
    },
    {
      "cell_type": "markdown",
      "source": [
        "#### Double index"
      ],
      "metadata": {
        "id": "ZlfLl8I-_ZYq"
      }
    },
    {
      "cell_type": "code",
      "source": [
        "list_b[1][0] #เรียก list_a จากนั้นเลือกสมาชิกลำดับที่ 0 ของ list_a"
      ],
      "metadata": {
        "colab": {
          "base_uri": "https://localhost:8080/"
        },
        "id": "rLR_o8D2xxmv",
        "outputId": "89df7d36-45c6-4e15-bf9e-ab79abd05840"
      },
      "execution_count": null,
      "outputs": [
        {
          "output_type": "execute_result",
          "data": {
            "text/plain": [
              "1"
            ]
          },
          "metadata": {},
          "execution_count": 12
        }
      ]
    },
    {
      "cell_type": "markdown",
      "source": [
        "#### String คือ list ของตัวอักษร (String is a charecter of list)\n"
      ],
      "metadata": {
        "id": "DrIMeu6YyQIt"
      }
    },
    {
      "cell_type": "code",
      "source": [
        "x = 'shabu'\n",
        "x[-2] ##ชี้ไปที่ตัว  b"
      ],
      "metadata": {
        "colab": {
          "base_uri": "https://localhost:8080/",
          "height": 56
        },
        "id": "AMjTkySpyFFF",
        "outputId": "7b41a9f5-40d7-4b81-efb0-36294bfd4a45"
      },
      "execution_count": null,
      "outputs": [
        {
          "output_type": "execute_result",
          "data": {
            "text/plain": [
              "'b'"
            ],
            "application/vnd.google.colaboratory.intrinsic+json": {
              "type": "string"
            }
          },
          "metadata": {},
          "execution_count": 13
        }
      ]
    },
    {
      "cell_type": "code",
      "source": [
        "print(list_a)\n",
        "print(list_b)"
      ],
      "metadata": {
        "colab": {
          "base_uri": "https://localhost:8080/"
        },
        "id": "Xp4IXlh4yfRL",
        "outputId": "44a1a267-c918-474d-82d7-302e6b969b96"
      },
      "execution_count": null,
      "outputs": [
        {
          "output_type": "stream",
          "name": "stdout",
          "text": [
            "[1, 2, 3, 0.9, 'aaz',       longitude  latitude  housing_median_age  total_rooms  total_bedrooms  \\\n",
            "0       -122.05     37.37                27.0       3885.0           661.0   \n",
            "1       -118.30     34.26                43.0       1510.0           310.0   \n",
            "2       -117.81     33.78                27.0       3589.0           507.0   \n",
            "3       -118.36     33.82                28.0         67.0            15.0   \n",
            "4       -119.67     36.33                19.0       1241.0           244.0   \n",
            "...         ...       ...                 ...          ...             ...   \n",
            "2995    -119.86     34.42                23.0       1450.0           642.0   \n",
            "2996    -118.14     34.06                27.0       5257.0          1082.0   \n",
            "2997    -119.70     36.30                10.0        956.0           201.0   \n",
            "2998    -117.12     34.10                40.0         96.0            14.0   \n",
            "2999    -119.63     34.42                42.0       1765.0           263.0   \n",
            "\n",
            "      population  households  median_income  median_house_value  \n",
            "0         1537.0       606.0         6.6085            344700.0  \n",
            "1          809.0       277.0         3.5990            176500.0  \n",
            "2         1484.0       495.0         5.7934            270500.0  \n",
            "3           49.0        11.0         6.1359            330000.0  \n",
            "4          850.0       237.0         2.9375             81700.0  \n",
            "...          ...         ...            ...                 ...  \n",
            "2995      1258.0       607.0         1.1790            225000.0  \n",
            "2996      3496.0      1036.0         3.3906            237200.0  \n",
            "2997       693.0       220.0         2.2895             62000.0  \n",
            "2998        46.0        14.0         3.2708            162500.0  \n",
            "2999       753.0       260.0         8.5608            500001.0  \n",
            "\n",
            "[3000 rows x 9 columns]]\n",
            "['pizza', [1, 2, 3, 0.9, 'aaz',       longitude  latitude  housing_median_age  total_rooms  total_bedrooms  \\\n",
            "0       -122.05     37.37                27.0       3885.0           661.0   \n",
            "1       -118.30     34.26                43.0       1510.0           310.0   \n",
            "2       -117.81     33.78                27.0       3589.0           507.0   \n",
            "3       -118.36     33.82                28.0         67.0            15.0   \n",
            "4       -119.67     36.33                19.0       1241.0           244.0   \n",
            "...         ...       ...                 ...          ...             ...   \n",
            "2995    -119.86     34.42                23.0       1450.0           642.0   \n",
            "2996    -118.14     34.06                27.0       5257.0          1082.0   \n",
            "2997    -119.70     36.30                10.0        956.0           201.0   \n",
            "2998    -117.12     34.10                40.0         96.0            14.0   \n",
            "2999    -119.63     34.42                42.0       1765.0           263.0   \n",
            "\n",
            "      population  households  median_income  median_house_value  \n",
            "0         1537.0       606.0         6.6085            344700.0  \n",
            "1          809.0       277.0         3.5990            176500.0  \n",
            "2         1484.0       495.0         5.7934            270500.0  \n",
            "3           49.0        11.0         6.1359            330000.0  \n",
            "4          850.0       237.0         2.9375             81700.0  \n",
            "...          ...         ...            ...                 ...  \n",
            "2995      1258.0       607.0         1.1790            225000.0  \n",
            "2996      3496.0      1036.0         3.3906            237200.0  \n",
            "2997       693.0       220.0         2.2895             62000.0  \n",
            "2998        46.0        14.0         3.2708            162500.0  \n",
            "2999       753.0       260.0         8.5608            500001.0  \n",
            "\n",
            "[3000 rows x 9 columns]], 9]\n"
          ]
        }
      ]
    },
    {
      "cell_type": "code",
      "source": [
        "list_c = list_a + list_b"
      ],
      "metadata": {
        "id": "1k574bndy5ha"
      },
      "execution_count": null,
      "outputs": []
    },
    {
      "cell_type": "code",
      "source": [
        "# prompt: print lenght of list_a list_b and list_c in one print command and indicate the list name\n",
        "\n",
        "print(f\"Length of list_a is {len(list_a)}, length of list_b is {len(list_b)}, and length of list_c is {len(list_c)}\")\n"
      ],
      "metadata": {
        "colab": {
          "base_uri": "https://localhost:8080/"
        },
        "id": "zQjKhD5PhpbP",
        "outputId": "d25e3db2-c8c5-4d7c-f939-9ae753ee381e"
      },
      "execution_count": null,
      "outputs": [
        {
          "output_type": "stream",
          "name": "stdout",
          "text": [
            "Length of list_a is 6, length of list_b is 3, and length of list_c is 9\n"
          ]
        }
      ]
    },
    {
      "cell_type": "markdown",
      "source": [
        "### การสร้าง list (Create a list)\n",
        "1. สร้าง list ว่าง (Create an empty list)\n",
        "2. เพิ่มสมาชิกเข้าไปใน list (add member to the list)"
      ],
      "metadata": {
        "id": "UcFKAHg_zO8T"
      }
    },
    {
      "cell_type": "markdown",
      "source": [
        "1. การสร้าง list ว่าง (Create an empty list)"
      ],
      "metadata": {
        "id": "ZCOJSLDrzjlN"
      }
    },
    {
      "cell_type": "code",
      "source": [
        "list_aa = []\n",
        "list_aa"
      ],
      "metadata": {
        "colab": {
          "base_uri": "https://localhost:8080/"
        },
        "id": "GxWGhI_Xy-I3",
        "outputId": "a61b89d9-738d-4158-8203-245446250887"
      },
      "execution_count": 5,
      "outputs": [
        {
          "output_type": "execute_result",
          "data": {
            "text/plain": [
              "[]"
            ]
          },
          "metadata": {},
          "execution_count": 5
        }
      ]
    },
    {
      "cell_type": "code",
      "source": [
        "list_bb = list()\n",
        "print(list_bb)"
      ],
      "metadata": {
        "colab": {
          "base_uri": "https://localhost:8080/"
        },
        "id": "O4raTGkgzsT_",
        "outputId": "cb3eae37-0e37-49cd-c454-a54240aca15d"
      },
      "execution_count": null,
      "outputs": [
        {
          "output_type": "stream",
          "name": "stdout",
          "text": [
            "[]\n"
          ]
        }
      ]
    },
    {
      "cell_type": "markdown",
      "source": [
        "2. การเพิ่มสมาชิกลงไปใน list (.append()) | adding a member to the list"
      ],
      "metadata": {
        "id": "CvepsE9yz6On"
      }
    },
    {
      "cell_type": "code",
      "source": [
        "list_aa.append('chiken')\n",
        "list_aa.append('water')\n",
        "list_aa.append('vegetable')"
      ],
      "metadata": {
        "id": "3x-su_mEzw71"
      },
      "execution_count": 6,
      "outputs": []
    },
    {
      "cell_type": "code",
      "source": [
        "list_aa.append('rice')"
      ],
      "metadata": {
        "id": "TFDAOWwnBk3M"
      },
      "execution_count": 7,
      "outputs": []
    },
    {
      "cell_type": "code",
      "source": [
        "list_aa"
      ],
      "metadata": {
        "colab": {
          "base_uri": "https://localhost:8080/"
        },
        "id": "lNp675Tu0Sg9",
        "outputId": "b7abddc6-02c9-4134-d07f-bb75a9497164"
      },
      "execution_count": 8,
      "outputs": [
        {
          "output_type": "execute_result",
          "data": {
            "text/plain": [
              "['chiken', 'water', 'vegetable', 'rice']"
            ]
          },
          "metadata": {},
          "execution_count": 8
        }
      ]
    },
    {
      "cell_type": "code",
      "source": [
        "list_aa[-1] ##ชี้จากข้างหลัง  (indexing)"
      ],
      "metadata": {
        "colab": {
          "base_uri": "https://localhost:8080/",
          "height": 56
        },
        "id": "k9F6B33U0Szp",
        "outputId": "81253f21-6d85-44f9-9607-64507135d8a7"
      },
      "execution_count": 9,
      "outputs": [
        {
          "output_type": "execute_result",
          "data": {
            "text/plain": [
              "'rice'"
            ],
            "application/vnd.google.colaboratory.intrinsic+json": {
              "type": "string"
            }
          },
          "metadata": {},
          "execution_count": 9
        }
      ]
    },
    {
      "cell_type": "code",
      "source": [
        "list_aa[2] ##ชี้แบบปกติ"
      ],
      "metadata": {
        "colab": {
          "base_uri": "https://localhost:8080/",
          "height": 56
        },
        "id": "1lTqBJTg0S1p",
        "outputId": "9539215a-6827-4fea-f5ea-1dac3e828551"
      },
      "execution_count": 10,
      "outputs": [
        {
          "output_type": "execute_result",
          "data": {
            "text/plain": [
              "'vegetable'"
            ],
            "application/vnd.google.colaboratory.intrinsic+json": {
              "type": "string"
            }
          },
          "metadata": {},
          "execution_count": 10
        }
      ]
    },
    {
      "cell_type": "code",
      "source": [
        "list_aa.append('plate')\n",
        "#list_aa\n",
        "list_aa[-2]"
      ],
      "metadata": {
        "colab": {
          "base_uri": "https://localhost:8080/",
          "height": 56
        },
        "id": "RfP5dvO_0S3V",
        "outputId": "576fdab9-bada-4535-f8f9-d9076e43334c"
      },
      "execution_count": 11,
      "outputs": [
        {
          "output_type": "execute_result",
          "data": {
            "text/plain": [
              "'rice'"
            ],
            "application/vnd.google.colaboratory.intrinsic+json": {
              "type": "string"
            }
          },
          "metadata": {},
          "execution_count": 11
        }
      ]
    },
    {
      "cell_type": "code",
      "source": [
        "list_aa.append('spoon')\n",
        "list_aa.append('fork')\n",
        "list_aa.append('knife')\n",
        "list_aa.append('apple')"
      ],
      "metadata": {
        "id": "smjqXzzcHDfO"
      },
      "execution_count": 12,
      "outputs": []
    },
    {
      "cell_type": "code",
      "source": [
        "list_aa"
      ],
      "metadata": {
        "colab": {
          "base_uri": "https://localhost:8080/"
        },
        "id": "Vc6blJb6jFS4",
        "outputId": "4c7d6d36-4700-4210-ed4c-2dd31b7b8766"
      },
      "execution_count": 13,
      "outputs": [
        {
          "output_type": "execute_result",
          "data": {
            "text/plain": [
              "['chiken',\n",
              " 'water',\n",
              " 'vegetable',\n",
              " 'rice',\n",
              " 'plate',\n",
              " 'spoon',\n",
              " 'fork',\n",
              " 'knife',\n",
              " 'apple']"
            ]
          },
          "metadata": {},
          "execution_count": 13
        }
      ]
    },
    {
      "cell_type": "code",
      "source": [
        "len(list_aa)"
      ],
      "metadata": {
        "colab": {
          "base_uri": "https://localhost:8080/"
        },
        "id": "Cb28pKpijI6n",
        "outputId": "a26edd36-a6ee-43e8-964f-2af1f0d38194"
      },
      "execution_count": null,
      "outputs": [
        {
          "output_type": "execute_result",
          "data": {
            "text/plain": [
              "9"
            ]
          },
          "metadata": {},
          "execution_count": 28
        }
      ]
    },
    {
      "cell_type": "markdown",
      "source": [
        "### list slicing"
      ],
      "metadata": {
        "id": "8tBehfkD1OiT"
      }
    },
    {
      "cell_type": "markdown",
      "source": [
        "\n",
        "\n",
        "```\n",
        ": (colon)\n",
        "```\n",
        "\n",
        "\n",
        "`list_name [start:end:step]`\n",
        "\n",
        "`list_name [start:end]`\n",
        "\n",
        "ถ้าเป็นสัญลักษณ์ทางคณิตศาสตร์ [ตัวหน้า:ตัวหลัง] -> [ตัวหน้า,ตัวหลัง)\n",
        "\n",
        "- เหมือนสัญลักษณ์ของเส้นจำนวน ตัวหน้าคือวงกลมทึบ, ตัวหลังคือวงกลมโป่ง\n",
        "\n",
        "![361456224_711416044125101_5900183021463628208_n.jpg](data:image/jpeg;base64,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)\n"
      ],
      "metadata": {
        "id": "n7vzT_DY3gGH"
      }
    },
    {
      "cell_type": "code",
      "source": [
        "list_aa"
      ],
      "metadata": {
        "colab": {
          "base_uri": "https://localhost:8080/",
          "height": 158
        },
        "id": "U0gOr_wx0S5E",
        "outputId": "d6313c1e-f417-4c62-c1fe-10b3df00c912"
      },
      "execution_count": 3,
      "outputs": [
        {
          "output_type": "error",
          "ename": "NameError",
          "evalue": "name 'list_aa' is not defined",
          "traceback": [
            "\u001b[0;31m---------------------------------------------------------------------------\u001b[0m",
            "\u001b[0;31mNameError\u001b[0m                                 Traceback (most recent call last)",
            "\u001b[0;32m<ipython-input-3-33310cfc6d93>\u001b[0m in \u001b[0;36m<cell line: 1>\u001b[0;34m()\u001b[0m\n\u001b[0;32m----> 1\u001b[0;31m \u001b[0mlist_aa\u001b[0m\u001b[0;34m\u001b[0m\u001b[0;34m\u001b[0m\u001b[0m\n\u001b[0m",
            "\u001b[0;31mNameError\u001b[0m: name 'list_aa' is not defined"
          ]
        }
      ]
    },
    {
      "cell_type": "code",
      "source": [
        "list_aa[2:7:1]"
      ],
      "metadata": {
        "colab": {
          "base_uri": "https://localhost:8080/"
        },
        "id": "vPS24W-A0S6z",
        "outputId": "804b9334-dad9-4213-c025-ef61a24d03c9"
      },
      "execution_count": null,
      "outputs": [
        {
          "output_type": "execute_result",
          "data": {
            "text/plain": [
              "['vegetable', 'rice', 'plate', 'spoon', 'fork']"
            ]
          },
          "metadata": {},
          "execution_count": 30
        }
      ]
    },
    {
      "cell_type": "code",
      "source": [
        "list_aa[2:7]"
      ],
      "metadata": {
        "id": "sPiJ4ljiHsBH",
        "outputId": "2fdd9c1c-ae11-4c91-9857-e809cc2a1777",
        "colab": {
          "base_uri": "https://localhost:8080/"
        }
      },
      "execution_count": null,
      "outputs": [
        {
          "output_type": "execute_result",
          "data": {
            "text/plain": [
              "['vegetable', 'rice', 'plate', 'spoon', 'fork']"
            ]
          },
          "metadata": {},
          "execution_count": 31
        }
      ]
    },
    {
      "cell_type": "code",
      "source": [
        "list_aa[2:]"
      ],
      "metadata": {
        "id": "n4x3W6VfH4hx",
        "outputId": "0ef4c7ba-6dd8-439f-84bf-b991ab22a44f",
        "colab": {
          "base_uri": "https://localhost:8080/"
        }
      },
      "execution_count": null,
      "outputs": [
        {
          "output_type": "execute_result",
          "data": {
            "text/plain": [
              "['vegetable', 'rice', 'plate', 'spoon', 'fork', 'knife', 'apple']"
            ]
          },
          "metadata": {},
          "execution_count": 32
        }
      ]
    },
    {
      "cell_type": "code",
      "source": [
        "list_aa[:5]"
      ],
      "metadata": {
        "id": "b_rz5gCdISbt",
        "outputId": "0d15e59c-bea5-4fa8-ead9-57173fca3e73",
        "colab": {
          "base_uri": "https://localhost:8080/"
        }
      },
      "execution_count": null,
      "outputs": [
        {
          "output_type": "execute_result",
          "data": {
            "text/plain": [
              "['chiken', 'water', 'vegetable', 'rice', 'plate']"
            ]
          },
          "metadata": {},
          "execution_count": 33
        }
      ]
    },
    {
      "cell_type": "code",
      "source": [
        "list_aa[:5:2]"
      ],
      "metadata": {
        "id": "2u4E7SRzIVm4",
        "outputId": "f6ddc7f8-4ce4-40bf-9004-f6ca16796b3e",
        "colab": {
          "base_uri": "https://localhost:8080/"
        }
      },
      "execution_count": null,
      "outputs": [
        {
          "output_type": "execute_result",
          "data": {
            "text/plain": [
              "['chiken', 'vegetable', 'plate']"
            ]
          },
          "metadata": {},
          "execution_count": 34
        }
      ]
    },
    {
      "cell_type": "code",
      "source": [
        "list_aa[::-1]"
      ],
      "metadata": {
        "id": "loS1O_kDImaX",
        "outputId": "5a196ac8-95d4-4822-8178-f58c044e81b1",
        "colab": {
          "base_uri": "https://localhost:8080/"
        }
      },
      "execution_count": null,
      "outputs": [
        {
          "output_type": "execute_result",
          "data": {
            "text/plain": [
              "['apple',\n",
              " 'knife',\n",
              " 'fork',\n",
              " 'spoon',\n",
              " 'plate',\n",
              " 'rice',\n",
              " 'vegetable',\n",
              " 'water',\n",
              " 'chiken']"
            ]
          },
          "metadata": {},
          "execution_count": 35
        }
      ]
    },
    {
      "cell_type": "markdown",
      "source": [
        "## Examples\n",
        "\n",
        "ตัด ส่วนของ list เหล่านี้มาจาก list_aa (cut the following parts og list from list_aa)\n",
        "\n",
        "1. 'iken'\n",
        "2. 'get'\n",
        "3. 'tab'"
      ],
      "metadata": {
        "id": "3T20wygw328b"
      }
    },
    {
      "cell_type": "code",
      "source": [
        "list_aa[0][2:]"
      ],
      "metadata": {
        "colab": {
          "base_uri": "https://localhost:8080/",
          "height": 36
        },
        "id": "5yKm3nFl0S8u",
        "outputId": "43ab4eba-d101-460a-a15b-a8be241e4578"
      },
      "execution_count": null,
      "outputs": [
        {
          "output_type": "execute_result",
          "data": {
            "text/plain": [
              "'iken'"
            ],
            "application/vnd.google.colaboratory.intrinsic+json": {
              "type": "string"
            }
          },
          "metadata": {},
          "execution_count": 34
        }
      ]
    },
    {
      "cell_type": "code",
      "source": [
        "list_aa[2][2:5]"
      ],
      "metadata": {
        "colab": {
          "base_uri": "https://localhost:8080/",
          "height": 36
        },
        "id": "GlB_nfVM0S-X",
        "outputId": "ff4a980e-006c-4ad4-9624-9cf1ba887582"
      },
      "execution_count": null,
      "outputs": [
        {
          "output_type": "execute_result",
          "data": {
            "text/plain": [
              "'get'"
            ],
            "application/vnd.google.colaboratory.intrinsic+json": {
              "type": "string"
            }
          },
          "metadata": {},
          "execution_count": 35
        }
      ]
    },
    {
      "cell_type": "code",
      "source": [
        "list_aa[2][4:7]"
      ],
      "metadata": {
        "colab": {
          "base_uri": "https://localhost:8080/",
          "height": 36
        },
        "id": "JFsFIoxQ4ts1",
        "outputId": "2f09d7d5-4568-459a-a001-67fec5b8451a"
      },
      "execution_count": null,
      "outputs": [
        {
          "output_type": "execute_result",
          "data": {
            "text/plain": [
              "'tab'"
            ],
            "application/vnd.google.colaboratory.intrinsic+json": {
              "type": "string"
            }
          },
          "metadata": {},
          "execution_count": 36
        }
      ]
    },
    {
      "cell_type": "code",
      "source": [
        "list_aa[-1][1:]"
      ],
      "metadata": {
        "colab": {
          "base_uri": "https://localhost:8080/",
          "height": 36
        },
        "id": "xtKZVaRj4z_v",
        "outputId": "6ba07fee-7ad0-422b-e352-a47ef9173b3d"
      },
      "execution_count": null,
      "outputs": [
        {
          "output_type": "execute_result",
          "data": {
            "text/plain": [
              "'pple'"
            ],
            "application/vnd.google.colaboratory.intrinsic+json": {
              "type": "string"
            }
          },
          "metadata": {},
          "execution_count": 37
        }
      ]
    },
    {
      "cell_type": "code",
      "source": [
        "list_aa[1][:3]"
      ],
      "metadata": {
        "colab": {
          "base_uri": "https://localhost:8080/",
          "height": 36
        },
        "id": "YUIwe4zp_gaj",
        "outputId": "25022591-ce11-4ebe-966e-d64aa98f0d42"
      },
      "execution_count": null,
      "outputs": [
        {
          "output_type": "execute_result",
          "data": {
            "text/plain": [
              "'wat'"
            ],
            "application/vnd.google.colaboratory.intrinsic+json": {
              "type": "string"
            }
          },
          "metadata": {},
          "execution_count": 38
        }
      ]
    },
    {
      "cell_type": "markdown",
      "source": [
        "##### **Quiz 4**  สร้างคำต่อไปนี้จาก list_aa\n",
        "\n",
        "1. nice\n",
        "2. spork\n",
        "3. warick"
      ],
      "metadata": {
        "id": "LA35e8ffliHv"
      }
    },
    {
      "cell_type": "code",
      "source": [
        "# prompt: print list_aa. create 'nice' from part of string in list_aa\n",
        "\n",
        "# Assuming list_aa is defined\n",
        "print(list_aa)\n",
        "\n",
        "# Create 'nice'\n",
        "word = list_aa[0][1:] + list_aa[2][0]\n",
        "print(word)\n"
      ],
      "metadata": {
        "id": "jOQWW90opQsx",
        "outputId": "c2189ef1-4e39-4ee0-caac-48f66f2e67ce",
        "colab": {
          "base_uri": "https://localhost:8080/"
        }
      },
      "execution_count": null,
      "outputs": [
        {
          "output_type": "stream",
          "name": "stdout",
          "text": [
            "['chiken', 'water', 'vegetable', 'rice', 'plate', 'spoon', 'fork', 'knife', 'apple']\n",
            "hikenv\n"
          ]
        }
      ]
    },
    {
      "cell_type": "markdown",
      "source": [
        "## Loop\n",
        "การให้ com ทำงานที่ซ้ำๆกัน หรือทำงานที่คล้ายๆกันหลายๆรอบ (to make the code to repetitive works)\n",
        "\n",
        "indent แสดงถึงขอบเขตของ program\n",
        "\n",
        "``` python\n",
        "for a ตัวแปรที่เราจะรับค่าจาก _list_ in _list_ ที่ต้องการจะวนลูป :\n",
        "    do something with_ a\n",
        "    do another thing\n",
        "\n",
        "this is outside the loop\n",
        "************************************************\n",
        "for each_member_of_the_list in the_list_we_want_to_loop :\n",
        "    do something\n",
        "    do another thing\n",
        "\n",
        "this is outside the loop\n",
        "```"
      ],
      "metadata": {
        "id": "Z84Udu7EbVu9"
      }
    },
    {
      "cell_type": "code",
      "source": [
        "list_aa"
      ],
      "metadata": {
        "colab": {
          "base_uri": "https://localhost:8080/"
        },
        "id": "6H4HGubWdt6N",
        "outputId": "2d56b07f-6049-43ad-ac6f-9158d8205237"
      },
      "execution_count": null,
      "outputs": [
        {
          "output_type": "execute_result",
          "data": {
            "text/plain": [
              "['chiken',\n",
              " 'water',\n",
              " 'vegetable',\n",
              " 'rice',\n",
              " 'plate',\n",
              " 'spoon',\n",
              " 'fork',\n",
              " 'knife',\n",
              " 'apple']"
            ]
          },
          "metadata": {},
          "execution_count": 38
        }
      ]
    },
    {
      "cell_type": "code",
      "source": [
        "for each in list_aa:\n",
        "  print(each,end='+')"
      ],
      "metadata": {
        "id": "2yl2ApUFKWFl",
        "outputId": "9ace5328-6a16-4add-e8df-e75e07e57ce4",
        "colab": {
          "base_uri": "https://localhost:8080/"
        }
      },
      "execution_count": null,
      "outputs": [
        {
          "output_type": "stream",
          "name": "stdout",
          "text": [
            "chiken+water+vegetable+rice+plate+spoon+fork+knife+apple+"
          ]
        }
      ]
    },
    {
      "cell_type": "code",
      "source": [
        "for i in [1,2,3]:\n",
        "  print(i,end='')\n",
        "  print('xx')"
      ],
      "metadata": {
        "id": "iJGWmwlrKuhr",
        "outputId": "b2b71b75-353f-4ac8-dd84-43f936000722",
        "colab": {
          "base_uri": "https://localhost:8080/"
        }
      },
      "execution_count": null,
      "outputs": [
        {
          "output_type": "stream",
          "name": "stdout",
          "text": [
            "1xx\n",
            "2xx\n",
            "3xx\n"
          ]
        }
      ]
    },
    {
      "cell_type": "code",
      "source": [
        "for i in list_aa:\n",
        "    print(f'now i is {i}')\n",
        "    print(f'I like to eat {i} \\n/////////////')"
      ],
      "metadata": {
        "colab": {
          "base_uri": "https://localhost:8080/"
        },
        "id": "irdJEaYuVw4i",
        "outputId": "c3c9ac7c-ef3e-4aad-c138-eb10969ed897"
      },
      "execution_count": null,
      "outputs": [
        {
          "output_type": "stream",
          "name": "stdout",
          "text": [
            "now i is chiken\n",
            "I like to eat chiken \n",
            "/////////////\n",
            "now i is water\n",
            "I like to eat water \n",
            "/////////////\n",
            "now i is vegetable\n",
            "I like to eat vegetable \n",
            "/////////////\n",
            "now i is rice\n",
            "I like to eat rice \n",
            "/////////////\n",
            "now i is plate\n",
            "I like to eat plate \n",
            "/////////////\n",
            "now i is spoon\n",
            "I like to eat spoon \n",
            "/////////////\n",
            "now i is fork\n",
            "I like to eat fork \n",
            "/////////////\n",
            "now i is knife\n",
            "I like to eat knife \n",
            "/////////////\n",
            "now i is apple\n",
            "I like to eat apple \n",
            "/////////////\n"
          ]
        }
      ]
    },
    {
      "cell_type": "code",
      "source": [
        "range(10)"
      ],
      "metadata": {
        "id": "D_t2hHiwr9ZV",
        "outputId": "af3c955b-ffc3-4491-fcb4-2bbb4d68d213",
        "colab": {
          "base_uri": "https://localhost:8080/"
        }
      },
      "execution_count": null,
      "outputs": [
        {
          "output_type": "execute_result",
          "data": {
            "text/plain": [
              "range(0, 10)"
            ]
          },
          "metadata": {},
          "execution_count": 43
        }
      ]
    },
    {
      "cell_type": "code",
      "source": [
        "list(range(10))"
      ],
      "metadata": {
        "colab": {
          "base_uri": "https://localhost:8080/"
        },
        "id": "v5Jr_-aNekUU",
        "outputId": "34642c85-1c81-43a7-ec45-e94f490cefc3"
      },
      "execution_count": null,
      "outputs": [
        {
          "output_type": "execute_result",
          "data": {
            "text/plain": [
              "[0, 1, 2, 3, 4, 5, 6, 7, 8, 9]"
            ]
          },
          "metadata": {},
          "execution_count": 42
        }
      ]
    },
    {
      "cell_type": "code",
      "source": [
        "for i in range(100):\n",
        "    print(f'Ha{i}',end='')"
      ],
      "metadata": {
        "colab": {
          "base_uri": "https://localhost:8080/"
        },
        "id": "w9vFW9r8e51q",
        "outputId": "07db1461-f9a5-4fa7-88d6-37070e8a2a0d"
      },
      "execution_count": null,
      "outputs": [
        {
          "output_type": "stream",
          "name": "stdout",
          "text": [
            "Ha0Ha1Ha2Ha3Ha4Ha5Ha6Ha7Ha8Ha9Ha10Ha11Ha12Ha13Ha14Ha15Ha16Ha17Ha18Ha19Ha20Ha21Ha22Ha23Ha24Ha25Ha26Ha27Ha28Ha29Ha30Ha31Ha32Ha33Ha34Ha35Ha36Ha37Ha38Ha39Ha40Ha41Ha42Ha43Ha44Ha45Ha46Ha47Ha48Ha49Ha50Ha51Ha52Ha53Ha54Ha55Ha56Ha57Ha58Ha59Ha60Ha61Ha62Ha63Ha64Ha65Ha66Ha67Ha68Ha69Ha70Ha71Ha72Ha73Ha74Ha75Ha76Ha77Ha78Ha79Ha80Ha81Ha82Ha83Ha84Ha85Ha86Ha87Ha88Ha89Ha90Ha91Ha92Ha93Ha94Ha95Ha96Ha97Ha98Ha99"
          ]
        }
      ]
    },
    {
      "cell_type": "code",
      "source": [
        "list(range(10,20,2))"
      ],
      "metadata": {
        "id": "RrTzZ4KNMxV9",
        "outputId": "6fa5ca01-4268-4005-e987-bc5c71db7cb0",
        "colab": {
          "base_uri": "https://localhost:8080/"
        }
      },
      "execution_count": null,
      "outputs": [
        {
          "output_type": "execute_result",
          "data": {
            "text/plain": [
              "[10, 12, 14, 16, 18]"
            ]
          },
          "metadata": {},
          "execution_count": 44
        }
      ]
    },
    {
      "cell_type": "markdown",
      "source": [
        "### Nested loop\n",
        "\n",
        "- loop ซ้อน loop (a loop in a loop)"
      ],
      "metadata": {
        "id": "F06dTcuCglVT"
      }
    },
    {
      "cell_type": "code",
      "source": [
        "for i in range(3):\n",
        "    print(f'i = {i} (Outer loop)')\n",
        "    for j in range(2):\n",
        "      print(f'i = {i}, j = {j}, i+j = {i+j} (Inner loop)')"
      ],
      "metadata": {
        "colab": {
          "base_uri": "https://localhost:8080/"
        },
        "id": "TABEsQi2gKrf",
        "outputId": "ec40147c-edb5-48a2-8e15-fc2c420da0cb"
      },
      "execution_count": null,
      "outputs": [
        {
          "output_type": "stream",
          "name": "stdout",
          "text": [
            "i = 0 (Outer loop)\n",
            "i = 0, j = 0, i+j = 0 (Inner loop)\n",
            "i = 0, j = 1, i+j = 1 (Inner loop)\n",
            "i = 1 (Outer loop)\n",
            "i = 1, j = 0, i+j = 1 (Inner loop)\n",
            "i = 1, j = 1, i+j = 2 (Inner loop)\n",
            "i = 2 (Outer loop)\n",
            "i = 2, j = 0, i+j = 2 (Inner loop)\n",
            "i = 2, j = 1, i+j = 3 (Inner loop)\n"
          ]
        }
      ]
    },
    {
      "cell_type": "markdown",
      "source": [
        "Example of looping 1\n",
        "\n",
        "Create a list [[1],[1,1], [1,1,1],...,[1,1,1,1,1,1,1,1,1,1] with for loop\n",
        "\n",
        "สร้าง list\n",
        "[[1],[1,1], [1,1,1],...,[1,1,1,1,1,1,1,1,1,1] โดยใช้ for loop"
      ],
      "metadata": {
        "id": "zguRGD_Fh5wO"
      }
    },
    {
      "cell_type": "code",
      "source": [
        "list_A = []\n",
        "for i in range(10):\n",
        "   AA = []\n",
        "   for j in range(i+1):\n",
        "      A=1\n",
        "      AA.append(A)\n",
        "   list_A.append(AA)"
      ],
      "metadata": {
        "id": "0YcF-3LPp2Fx"
      },
      "execution_count": null,
      "outputs": []
    },
    {
      "cell_type": "code",
      "source": [
        "list_A"
      ],
      "metadata": {
        "colab": {
          "base_uri": "https://localhost:8080/"
        },
        "id": "1rlHhMphp7EI",
        "outputId": "f877027c-fb58-43d3-e0bc-6e83268f8743"
      },
      "execution_count": null,
      "outputs": [
        {
          "output_type": "execute_result",
          "data": {
            "text/plain": [
              "[[1],\n",
              " [1, 1],\n",
              " [1, 1, 1],\n",
              " [1, 1, 1, 1],\n",
              " [1, 1, 1, 1, 1],\n",
              " [1, 1, 1, 1, 1, 1],\n",
              " [1, 1, 1, 1, 1, 1, 1],\n",
              " [1, 1, 1, 1, 1, 1, 1, 1],\n",
              " [1, 1, 1, 1, 1, 1, 1, 1, 1],\n",
              " [1, 1, 1, 1, 1, 1, 1, 1, 1, 1]]"
            ]
          },
          "metadata": {},
          "execution_count": 46
        }
      ]
    },
    {
      "cell_type": "code",
      "source": [
        "##answer\n",
        "list_ans = []\n",
        "print(f'list_ans = {list_ans}')\n",
        "for i in range(1, 11):\n",
        "    temp = []\n",
        "    #print(f'temp = {temp}')\n",
        "    for j in range(i):\n",
        "        temp.append(1)\n",
        "    print(f'i = {i} j = {j} : temp = {temp}')\n",
        "    list_ans.append(temp)\n",
        "    print(f'list_ans = {list_ans} \\n ---------')\n",
        "\n",
        "print(list_ans)"
      ],
      "metadata": {
        "colab": {
          "base_uri": "https://localhost:8080/"
        },
        "id": "3HI9rlhoqCTO",
        "outputId": "f3afd032-f8e7-45c6-9e10-1212331d9a7d"
      },
      "execution_count": null,
      "outputs": [
        {
          "output_type": "stream",
          "name": "stdout",
          "text": [
            "list_ans = []\n",
            "i = 1 j = 0 : temp = [1]\n",
            "list_ans = [[1]] \n",
            " ---------\n",
            "i = 2 j = 1 : temp = [1, 1]\n",
            "list_ans = [[1], [1, 1]] \n",
            " ---------\n",
            "i = 3 j = 2 : temp = [1, 1, 1]\n",
            "list_ans = [[1], [1, 1], [1, 1, 1]] \n",
            " ---------\n",
            "i = 4 j = 3 : temp = [1, 1, 1, 1]\n",
            "list_ans = [[1], [1, 1], [1, 1, 1], [1, 1, 1, 1]] \n",
            " ---------\n",
            "i = 5 j = 4 : temp = [1, 1, 1, 1, 1]\n",
            "list_ans = [[1], [1, 1], [1, 1, 1], [1, 1, 1, 1], [1, 1, 1, 1, 1]] \n",
            " ---------\n",
            "i = 6 j = 5 : temp = [1, 1, 1, 1, 1, 1]\n",
            "list_ans = [[1], [1, 1], [1, 1, 1], [1, 1, 1, 1], [1, 1, 1, 1, 1], [1, 1, 1, 1, 1, 1]] \n",
            " ---------\n",
            "i = 7 j = 6 : temp = [1, 1, 1, 1, 1, 1, 1]\n",
            "list_ans = [[1], [1, 1], [1, 1, 1], [1, 1, 1, 1], [1, 1, 1, 1, 1], [1, 1, 1, 1, 1, 1], [1, 1, 1, 1, 1, 1, 1]] \n",
            " ---------\n",
            "i = 8 j = 7 : temp = [1, 1, 1, 1, 1, 1, 1, 1]\n",
            "list_ans = [[1], [1, 1], [1, 1, 1], [1, 1, 1, 1], [1, 1, 1, 1, 1], [1, 1, 1, 1, 1, 1], [1, 1, 1, 1, 1, 1, 1], [1, 1, 1, 1, 1, 1, 1, 1]] \n",
            " ---------\n",
            "i = 9 j = 8 : temp = [1, 1, 1, 1, 1, 1, 1, 1, 1]\n",
            "list_ans = [[1], [1, 1], [1, 1, 1], [1, 1, 1, 1], [1, 1, 1, 1, 1], [1, 1, 1, 1, 1, 1], [1, 1, 1, 1, 1, 1, 1], [1, 1, 1, 1, 1, 1, 1, 1], [1, 1, 1, 1, 1, 1, 1, 1, 1]] \n",
            " ---------\n",
            "i = 10 j = 9 : temp = [1, 1, 1, 1, 1, 1, 1, 1, 1, 1]\n",
            "list_ans = [[1], [1, 1], [1, 1, 1], [1, 1, 1, 1], [1, 1, 1, 1, 1], [1, 1, 1, 1, 1, 1], [1, 1, 1, 1, 1, 1, 1], [1, 1, 1, 1, 1, 1, 1, 1], [1, 1, 1, 1, 1, 1, 1, 1, 1], [1, 1, 1, 1, 1, 1, 1, 1, 1, 1]] \n",
            " ---------\n",
            "[[1], [1, 1], [1, 1, 1], [1, 1, 1, 1], [1, 1, 1, 1, 1], [1, 1, 1, 1, 1, 1], [1, 1, 1, 1, 1, 1, 1], [1, 1, 1, 1, 1, 1, 1, 1], [1, 1, 1, 1, 1, 1, 1, 1, 1], [1, 1, 1, 1, 1, 1, 1, 1, 1, 1]]\n"
          ]
        }
      ]
    },
    {
      "cell_type": "markdown",
      "source": [
        "## Quiz 5\n",
        "\n",
        "สร้าง list\n",
        "[[1],[1,-1], [1,-1,1],...,[1,-1,1,-1,1,-1,1,-1,1,-1] โดยใช้ for loop"
      ],
      "metadata": {
        "id": "3sWLBkgBuGPs"
      }
    },
    {
      "cell_type": "code",
      "source": [
        "# prompt: สร้าง list\n",
        "# [[1],[1,-1], [1,-1,1],...,[1,-1,1,-1,1,-1,1,-1,1,-1] โดยใช้ for loop ห้ามใช้ if\n",
        "\n",
        "list_A = []\n",
        "for i in range(10):\n",
        "  AA = []\n",
        "  for j in range(i+1):\n",
        "    A = (-1) ** j # ใช้เลขยกกำลังเพื่อสลับระหว่าง 1 กับ -1\n",
        "    AA.append(A)\n",
        "  list_A.append(AA)\n",
        "print(list_A)\n"
      ],
      "metadata": {
        "id": "PQOS0fSyuOjw",
        "outputId": "f87ccc1e-9232-4829-b75c-ae3f0548f779",
        "colab": {
          "base_uri": "https://localhost:8080/"
        }
      },
      "execution_count": null,
      "outputs": [
        {
          "output_type": "stream",
          "name": "stdout",
          "text": [
            "[[1], [1, -1], [1, -1, 1], [1, -1, 1, -1], [1, -1, 1, -1, 1], [1, -1, 1, -1, 1, -1], [1, -1, 1, -1, 1, -1, 1], [1, -1, 1, -1, 1, -1, 1, -1], [1, -1, 1, -1, 1, -1, 1, -1, 1], [1, -1, 1, -1, 1, -1, 1, -1, 1, -1]]\n"
          ]
        }
      ]
    },
    {
      "cell_type": "code",
      "source": [
        "B = [1,-1,1,-1,1,-1,1,-1,1,-1]\n",
        "\n",
        "list_A = []\n",
        "for i in range(10):\n",
        "  AA = []\n",
        "  for j in B[:i+1]:\n",
        "    AA.append(j)\n",
        "  list_A.append(AA)\n",
        "print(list_A)"
      ],
      "metadata": {
        "id": "MpJssKr9uOgJ",
        "outputId": "5bda0e46-559d-44c7-ae5b-481fabce2e65",
        "colab": {
          "base_uri": "https://localhost:8080/"
        }
      },
      "execution_count": null,
      "outputs": [
        {
          "output_type": "stream",
          "name": "stdout",
          "text": [
            "[[1], [1, -1], [1, -1, 1], [1, -1, 1, -1], [1, -1, 1, -1, 1], [1, -1, 1, -1, 1, -1], [1, -1, 1, -1, 1, -1, 1], [1, -1, 1, -1, 1, -1, 1, -1], [1, -1, 1, -1, 1, -1, 1, -1, 1], [1, -1, 1, -1, 1, -1, 1, -1, 1, -1]]\n"
          ]
        }
      ]
    },
    {
      "cell_type": "code",
      "source": [
        "B = [1,-1,1,-1,1,-1,1,-1,1,-1]\n",
        "\n",
        "list_A = []\n",
        "for i in range(10):\n",
        "  list_A.append(B[:i+1])\n",
        "print(list_A)"
      ],
      "metadata": {
        "id": "HI9POjfWuOcv",
        "outputId": "ccc3d571-3c27-405e-dfda-32667ae14b87",
        "colab": {
          "base_uri": "https://localhost:8080/"
        }
      },
      "execution_count": null,
      "outputs": [
        {
          "output_type": "stream",
          "name": "stdout",
          "text": [
            "[[1], [1, -1], [1, -1, 1], [1, -1, 1, -1], [1, -1, 1, -1, 1], [1, -1, 1, -1, 1, -1], [1, -1, 1, -1, 1, -1, 1], [1, -1, 1, -1, 1, -1, 1, -1], [1, -1, 1, -1, 1, -1, 1, -1, 1], [1, -1, 1, -1, 1, -1, 1, -1, 1, -1]]\n"
          ]
        }
      ]
    },
    {
      "cell_type": "markdown",
      "source": [
        "Example\n",
        "create a list\n",
        "\n",
        "[[a],[a,b], [a,b,c],...,[a,b,c,d,e,f,g,h,i,j] with a loop"
      ],
      "metadata": {
        "id": "jvFPY0ngwKBo"
      }
    },
    {
      "cell_type": "code",
      "source": [
        "list_ex = ['a','b','c','d','e','f','g','h','i','j']\n",
        "for i in range(10):\n",
        "  AA = []\n",
        "  for j in range(i+1):\n",
        "      A= list_ex[j]\n",
        "      AA.append(A)\n",
        "  list_ex.append(AA)"
      ],
      "metadata": {
        "id": "KMjrkl_8xA1m"
      },
      "execution_count": null,
      "outputs": []
    },
    {
      "cell_type": "code",
      "source": [
        "list_ex"
      ],
      "metadata": {
        "colab": {
          "base_uri": "https://localhost:8080/"
        },
        "id": "Wka6xDR1x3ZQ",
        "outputId": "51720315-8bcb-41a7-d0f1-553f47cf3808"
      },
      "execution_count": null,
      "outputs": [
        {
          "output_type": "execute_result",
          "data": {
            "text/plain": [
              "['a',\n",
              " 'b',\n",
              " 'c',\n",
              " 'd',\n",
              " 'e',\n",
              " 'f',\n",
              " 'g',\n",
              " 'h',\n",
              " 'i',\n",
              " 'j',\n",
              " ['a'],\n",
              " ['a', 'b'],\n",
              " ['a', 'b', 'c'],\n",
              " ['a', 'b', 'c', 'd'],\n",
              " ['a', 'b', 'c', 'd', 'e'],\n",
              " ['a', 'b', 'c', 'd', 'e', 'f'],\n",
              " ['a', 'b', 'c', 'd', 'e', 'f', 'g'],\n",
              " ['a', 'b', 'c', 'd', 'e', 'f', 'g', 'h'],\n",
              " ['a', 'b', 'c', 'd', 'e', 'f', 'g', 'h', 'i'],\n",
              " ['a', 'b', 'c', 'd', 'e', 'f', 'g', 'h', 'i', 'j']]"
            ]
          },
          "metadata": {},
          "execution_count": 51
        }
      ]
    },
    {
      "cell_type": "markdown",
      "source": [
        "---\n",
        "\n",
        "เฉลย"
      ],
      "metadata": {
        "id": "2UU4jtATzpIU"
      }
    },
    {
      "cell_type": "code",
      "source": [
        "listofletter = ['a','b','c','d','e','f','g','h','i','j']"
      ],
      "metadata": {
        "id": "GOJpXAof14eD"
      },
      "execution_count": null,
      "outputs": []
    },
    {
      "cell_type": "code",
      "source": [
        "list_ans2 = []\n",
        "for i in range(10):\n",
        "  list_ans2.append(listofletter[:i])"
      ],
      "metadata": {
        "id": "d3Ti5Xef2EqL"
      },
      "execution_count": null,
      "outputs": []
    },
    {
      "cell_type": "code",
      "source": [
        "list_ans2"
      ],
      "metadata": {
        "id": "YrLOJsQ32bum",
        "outputId": "c98b769d-d1b9-42aa-8639-1badc7989229",
        "colab": {
          "base_uri": "https://localhost:8080/"
        }
      },
      "execution_count": null,
      "outputs": [
        {
          "output_type": "execute_result",
          "data": {
            "text/plain": [
              "[[],\n",
              " ['a'],\n",
              " ['a', 'b'],\n",
              " ['a', 'b', 'c'],\n",
              " ['a', 'b', 'c', 'd'],\n",
              " ['a', 'b', 'c', 'd', 'e'],\n",
              " ['a', 'b', 'c', 'd', 'e', 'f'],\n",
              " ['a', 'b', 'c', 'd', 'e', 'f', 'g'],\n",
              " ['a', 'b', 'c', 'd', 'e', 'f', 'g', 'h'],\n",
              " ['a', 'b', 'c', 'd', 'e', 'f', 'g', 'h', 'i']]"
            ]
          },
          "metadata": {},
          "execution_count": 54
        }
      ]
    },
    {
      "cell_type": "markdown",
      "source": [
        "Example of looping 2\n",
        "\n",
        "\n",
        "สร้าง list\n",
        "[[1],[1,2], [1,2,3],...,[1,2,3,4,5,6,7,8,9,10] โดยใช้ for loop"
      ],
      "metadata": {
        "id": "ddUjpzektyPy"
      }
    },
    {
      "cell_type": "code",
      "source": [
        "list_A = []\n",
        "for i in range(10):\n",
        "   AA = []\n",
        "   for j in range(i+1):\n",
        "      AA.append(j+1)\n",
        "   list_A.append(AA)"
      ],
      "metadata": {
        "id": "rB9gwVShxNJD"
      },
      "execution_count": null,
      "outputs": []
    },
    {
      "cell_type": "code",
      "source": [
        "print(list_A)"
      ],
      "metadata": {
        "colab": {
          "base_uri": "https://localhost:8080/"
        },
        "id": "P8UJeeZ40ilE",
        "outputId": "4894645c-65b9-4c9d-c2d5-db80162b2051"
      },
      "execution_count": null,
      "outputs": [
        {
          "output_type": "stream",
          "name": "stdout",
          "text": [
            "[[1], [1, 2], [1, 2, 3], [1, 2, 3, 4], [1, 2, 3, 4, 5], [1, 2, 3, 4, 5, 6], [1, 2, 3, 4, 5, 6, 7], [1, 2, 3, 4, 5, 6, 7, 8], [1, 2, 3, 4, 5, 6, 7, 8, 9], [1, 2, 3, 4, 5, 6, 7, 8, 9, 10]]\n"
          ]
        }
      ]
    },
    {
      "cell_type": "markdown",
      "source": [
        "### Conditional Statement (if statement)\n",
        "\n",
        "\n",
        "``` python\n",
        "if เงื่อนไขที่เราจะตรวจสอบ (โดยอาศัยสัญลักษณ์เหล่านี้ ==, !=, <, >, <=, >=, in, is_null(), and, or,&,|) :\n",
        "    ถ้าเงื่อนไขเป็นจริง ทำ\n",
        "    ถ้าเงื่อนไขเป็นจริง ทำ\n",
        "```\n",
        "\n",
        "``` python\n",
        "if condition (with these symbols: ==, !=, <, >, <=, >=, in, is_null(), and, or,&,|) :\n",
        "    Do this when the condition is true #1\n",
        "    Do this when the condition is true #2\n",
        "```"
      ],
      "metadata": {
        "id": "jH9Rpcva2oya"
      }
    },
    {
      "cell_type": "code",
      "source": [
        "if 1<5:\n",
        "   print('yes')"
      ],
      "metadata": {
        "colab": {
          "base_uri": "https://localhost:8080/"
        },
        "id": "nCCl4CUz0j8Q",
        "outputId": "5e1338df-11f6-45d7-bdb7-e3a553d4b390"
      },
      "execution_count": null,
      "outputs": [
        {
          "output_type": "stream",
          "name": "stdout",
          "text": [
            "yes\n"
          ]
        }
      ]
    },
    {
      "cell_type": "markdown",
      "source": [
        "### Many Conditional Statement (if statement)\n",
        "\n",
        "\n",
        "``` python\n",
        "if เงื่อนไขที่เราจะตรวจสอบ (โดยอาศัยสัญลักษณ์เหล่านี้ ==, !=, <, >, <=, >=, in, is_null(), and, or,&,|) :\n",
        "    ถ้าเงื่อนไขเป็นจริง ทำงานที่ 1\n",
        "    ถ้าเงื่อนไขเป็นจริง ทำงานที่ 2\n",
        "elif เงื่อนไขที่เราจะตรวจสอบต่อไปนี้ถ้าเงื่อนไขข้างบนไม่เป็นจริง:\n",
        "    ถ้าเงื่อนไขเป็นจริง ทำงานที่ a1\n",
        "    ถ้าเงื่อนไขเป็นจริง ทำงานที่ a2\n",
        "elif เงื่อนไขที่เราจะตรวจสอบต่อไปนี้ถ้าเงื่อนไขข้างบนไม่เป็นจริง:\n",
        "    ถ้าเงื่อนไขเป็นจริง ทำงานที่ b1\n",
        "    ถ้าเงื่อนไขเป็นจริง ทำงานที่ b2\n",
        "else: # ตรวจสอบเงื่อนไขข้างบนแล้วไม่เป็นจริง\n",
        "    ทำงานที่ x\n",
        "```\n",
        "``` python\n",
        "if condition 1 (with these symbols: ==, !=, <, >, <=, >=, in, is_null(), and, or,&,|) :\n",
        "    Do this when the condition is true #1\n",
        "    Do this when the condition is true #2\n",
        "elif condition 2:\n",
        "    Do this when condition 1 is False and the condition is true #1\n",
        "    Do this when condition 1 is False and the condition is true #2\n",
        "elif condition 3:\n",
        "    Do this when condition 1 and 2 are False and the condition is true #1\n",
        "else: # if all above conditions are false\n",
        "    Do this when all conditions are false\n",
        "```"
      ],
      "metadata": {
        "id": "Evx4Mue73tnJ"
      }
    },
    {
      "cell_type": "code",
      "source": [
        "x = 12\n",
        "\n",
        "if x<5:\n",
        "   print('yes')\n",
        "else:\n",
        "   print('no')"
      ],
      "metadata": {
        "colab": {
          "base_uri": "https://localhost:8080/"
        },
        "id": "UW02LWTV3ft7",
        "outputId": "8b9141ac-2f38-4e01-9a77-effbb3461ace"
      },
      "execution_count": null,
      "outputs": [
        {
          "output_type": "stream",
          "name": "stdout",
          "text": [
            "no\n"
          ]
        }
      ]
    },
    {
      "cell_type": "markdown",
      "source": [
        "Example\n",
        "list_ex = [1,5,9,-19,-2,0] #หาค่าน้อยที่สุดใน list_ex โดยไม่ใช่ function min (ใช้ for กับ if)\n",
        "\n",
        "find the smallest number in list_ex without using min(0)"
      ],
      "metadata": {
        "id": "ABuzI29C4--_"
      }
    },
    {
      "cell_type": "code",
      "source": [
        "list_ex = [1,5,9,-19,-2,0]"
      ],
      "metadata": {
        "id": "8h0MEiIm5HS0"
      },
      "execution_count": null,
      "outputs": []
    },
    {
      "cell_type": "code",
      "source": [
        "minimum = list_ex[0]\n",
        "for number in list_ex:\n",
        "    if minimum > number:\n",
        "       minimum = number\n",
        "print(minimum)"
      ],
      "metadata": {
        "colab": {
          "base_uri": "https://localhost:8080/"
        },
        "id": "ujtCBITl6GEg",
        "outputId": "9ba96c6e-216d-41f9-db55-5e82cb1f0123"
      },
      "execution_count": null,
      "outputs": [
        {
          "output_type": "stream",
          "name": "stdout",
          "text": [
            "-19\n"
          ]
        }
      ]
    },
    {
      "cell_type": "code",
      "source": [
        "## commented answer\n",
        "min = 100000000\n",
        "print(list_ex)\n",
        "for i in list_ex:\n",
        "    print(f'now i = {i}, min = {min}')\n",
        "    print('start condition')\n",
        "    if i < min:\n",
        "        print(f'i < min, update min -> {i}')\n",
        "        min = i\n",
        "    else:\n",
        "        print('i >= min, not update')\n",
        "    print('end condition, go to next i \\n -------')\n",
        "\n",
        "print(min)"
      ],
      "metadata": {
        "colab": {
          "base_uri": "https://localhost:8080/"
        },
        "id": "q2VQV9n56Go-",
        "outputId": "02eecbc2-25c9-4ecc-8a07-e28f8b27372c"
      },
      "execution_count": null,
      "outputs": [
        {
          "output_type": "stream",
          "name": "stdout",
          "text": [
            "[1, 5, 9, -19, -2, 0]\n",
            "now i = 1, min = 100000000\n",
            "start condition\n",
            "i < min, update min -> 1\n",
            "end condition, go to next i \n",
            " -------\n",
            "now i = 5, min = 1\n",
            "start condition\n",
            "i >= min, not update\n",
            "end condition, go to next i \n",
            " -------\n",
            "now i = 9, min = 1\n",
            "start condition\n",
            "i >= min, not update\n",
            "end condition, go to next i \n",
            " -------\n",
            "now i = -19, min = 1\n",
            "start condition\n",
            "i < min, update min -> -19\n",
            "end condition, go to next i \n",
            " -------\n",
            "now i = -2, min = -19\n",
            "start condition\n",
            "i >= min, not update\n",
            "end condition, go to next i \n",
            " -------\n",
            "now i = 0, min = -19\n",
            "start condition\n",
            "i >= min, not update\n",
            "end condition, go to next i \n",
            " -------\n",
            "-19\n"
          ]
        }
      ]
    },
    {
      "cell_type": "markdown",
      "source": [
        "Example\n",
        "\n",
        "list_ex = [1,5,9,-19,-2,0]\n",
        "\n",
        "*หาค่ามากที่สุดใน list_ex โดยไม่ใช้ function max (ใช้ for กับ if)*\n",
        "\n",
        "find the maximum number in list_ex without using max () function(you can use only for and if)"
      ],
      "metadata": {
        "id": "t3NoB79B8gzQ"
      }
    },
    {
      "cell_type": "code",
      "source": [
        "maximum = list_ex[0]\n",
        "for number in list_ex:\n",
        "    if maximum < number:\n",
        "       maximum = number\n",
        "print(maximum)"
      ],
      "metadata": {
        "colab": {
          "base_uri": "https://localhost:8080/"
        },
        "id": "8Teb3jr18iwd",
        "outputId": "75f9d172-1d36-4767-fa1f-51511ad9aeae"
      },
      "execution_count": null,
      "outputs": [
        {
          "output_type": "stream",
          "name": "stdout",
          "text": [
            "9\n"
          ]
        }
      ]
    },
    {
      "cell_type": "markdown",
      "source": [
        "### an example\n",
        "\n",
        "sort the number in list_ex without using sorting function (you can use only for and if)"
      ],
      "metadata": {
        "id": "43-SwlFp8Cjy"
      }
    },
    {
      "cell_type": "code",
      "source": [
        "list_ex = [1, 5, 9, -19, -2, 0]\n",
        "n = len(list_ex)\n",
        "\n",
        "for i in range(n - 1): #เริ่ม list ตัวแรก (Start First list in First loop)\n",
        "    for j in range(0, n - i - 1): #เริ่ม list ตัวที่ 2 (Start First list in second loop)\n",
        "        if list_ex[j] > list_ex[j + 1]: # เทียบตัวปัจจุบันกับตัวถัดไป (Compare between this now list and next list)\n",
        "            list_ex[j], list_ex[j + 1] = list_ex[j + 1], list_ex[j] #ถ้าถูกต้องมันจะจัดใหม่เป็นเรียงจากน้อยไปมาก(if the top is true sort lower to upper)\n",
        "\n",
        "print(list_ex)"
      ],
      "metadata": {
        "id": "ZxDR6E3_gNbj",
        "outputId": "14ad70fb-f90c-461d-d037-9231ce53f23e",
        "colab": {
          "base_uri": "https://localhost:8080/"
        }
      },
      "execution_count": null,
      "outputs": [
        {
          "output_type": "stream",
          "name": "stdout",
          "text": [
            "[-19, -2, 0, 1, 5, 9]\n"
          ]
        }
      ]
    },
    {
      "cell_type": "code",
      "source": [
        "list_ex = [1, 5, 9, -19, -2, 0]\n",
        "n = len(list_ex)\n",
        "\n",
        "for i in range(n - 1): #เริ่ม list ตัวแรก (Start First list in First loop)\n",
        "    for j in range(0, n - i - 1): #เริ่ม list ตัวที่ 2 (Start First list in second loop)\n",
        "        if list_ex[j] < list_ex[j + 1]: # เทียบตัวปัจจุบันกับตัวถัดไป (Compare between this now list and next list)\n",
        "            list_ex[j], list_ex[j + 1] = list_ex[j + 1], list_ex[j] #ถ้าถูกต้องมันจะจัดใหม่เป็นเรียงจากมากไปน้อย(if the top is true sort upper to lower)\n",
        "\n",
        "print(list_ex)"
      ],
      "metadata": {
        "id": "Hb0oqMKgrRmp",
        "outputId": "f3dd82af-2d94-40fd-b515-e9c9ddc56563",
        "colab": {
          "base_uri": "https://localhost:8080/"
        }
      },
      "execution_count": null,
      "outputs": [
        {
          "output_type": "stream",
          "name": "stdout",
          "text": [
            "[9, 5, 1, 0, -2, -19]\n"
          ]
        }
      ]
    },
    {
      "cell_type": "markdown",
      "source": [
        "# HW1\n",
        "\n",
        "สร้างคำต่อไปนี้จาก list_aa\n",
        "\n",
        "1. nice\n",
        "2. spork\n",
        "3. warick\n",
        "\n",
        "โดยการวนลูปหาส่วนของคำ ที่ต้องการแบบอัตโนมัติ (ไม่หาด้วยตาแบบ manual)"
      ],
      "metadata": {
        "id": "bni6MtevoWYy"
      }
    },
    {
      "cell_type": "markdown",
      "source": [
        "**Python infinity**\n",
        "\n",
        "Representing infinity as an Integer in python"
      ],
      "metadata": {
        "id": "YdKGgiDz_lza"
      }
    },
    {
      "cell_type": "markdown",
      "source": [
        "1. Using float(‘inf’) and float(‘-inf’):"
      ],
      "metadata": {
        "id": "AIgHFp5ZACT3"
      }
    },
    {
      "cell_type": "code",
      "source": [
        "float('inf')"
      ],
      "metadata": {
        "colab": {
          "base_uri": "https://localhost:8080/"
        },
        "id": "5ty81pRf_UxE",
        "outputId": "390e4390-b38f-41a3-c6a0-ac7b68bffe4c"
      },
      "execution_count": null,
      "outputs": [
        {
          "output_type": "execute_result",
          "data": {
            "text/plain": [
              "inf"
            ]
          },
          "metadata": {},
          "execution_count": 54
        }
      ]
    },
    {
      "cell_type": "code",
      "source": [
        "float('-inf')"
      ],
      "metadata": {
        "colab": {
          "base_uri": "https://localhost:8080/"
        },
        "id": "lf2Pw-Tm_UzJ",
        "outputId": "f63f1ddc-e977-4e44-8814-4f98cd20251f"
      },
      "execution_count": null,
      "outputs": [
        {
          "output_type": "execute_result",
          "data": {
            "text/plain": [
              "-inf"
            ]
          },
          "metadata": {},
          "execution_count": 55
        }
      ]
    },
    {
      "cell_type": "markdown",
      "source": [
        "2. using Python’s math module:"
      ],
      "metadata": {
        "id": "JIlUgMp2AFXh"
      }
    },
    {
      "cell_type": "code",
      "source": [
        "import math"
      ],
      "metadata": {
        "id": "YgGpJzQYAH8h"
      },
      "execution_count": null,
      "outputs": []
    },
    {
      "cell_type": "code",
      "source": [
        "math.inf"
      ],
      "metadata": {
        "colab": {
          "base_uri": "https://localhost:8080/"
        },
        "id": "4Q5W1CqoALI6",
        "outputId": "56547232-4640-4154-c1ba-d700536e4662"
      },
      "execution_count": null,
      "outputs": [
        {
          "output_type": "execute_result",
          "data": {
            "text/plain": [
              "inf"
            ]
          },
          "metadata": {},
          "execution_count": 57
        }
      ]
    },
    {
      "cell_type": "code",
      "source": [
        "-math.inf"
      ],
      "metadata": {
        "colab": {
          "base_uri": "https://localhost:8080/"
        },
        "id": "mFHmi0goALLb",
        "outputId": "4fb5b008-9c2b-423c-c48d-a5fbca290c9a"
      },
      "execution_count": null,
      "outputs": [
        {
          "output_type": "execute_result",
          "data": {
            "text/plain": [
              "-inf"
            ]
          },
          "metadata": {},
          "execution_count": 58
        }
      ]
    },
    {
      "cell_type": "markdown",
      "source": [
        "##Function\n",
        "\n",
        "``` python\n",
        "def ชื่อฟังก์ชั่น(input1,input2,....):\n",
        "    งานxxx\n",
        "    งานyyy\n",
        "    return output\n",
        "```\n",
        "``` python\n",
        "def function name(input1,input2,....):\n",
        "    process #1\n",
        "    process #2\n",
        "    return output\n",
        "```\n",
        "![image.png](data:image/png;base64,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)"
      ],
      "metadata": {
        "id": "z0XA6K9689c3"
      }
    },
    {
      "cell_type": "markdown",
      "source": [
        "**ส่วนประกอบสำคัญ (four important parts of a function)**\n",
        "\n",
        "- function name (ไม่มีไม่ได้ (needed))\n",
        "\n",
        "- input\n",
        "\n",
        "- process (ไม่มีไม่ได้ (needed))\n",
        "\n",
        "- output"
      ],
      "metadata": {
        "id": "s_-k3as89hux"
      }
    },
    {
      "cell_type": "markdown",
      "source": [
        "#### Example 1"
      ],
      "metadata": {
        "id": "0NvBFenB9noM"
      }
    },
    {
      "cell_type": "code",
      "source": [
        "def find_min(list_ex):\n",
        "    min = 100000000\n",
        "    for x in list_ex:\n",
        "        if x < min:\n",
        "            min = x\n",
        "\n",
        "    return min"
      ],
      "metadata": {
        "id": "vIeTjJGN8yT2"
      },
      "execution_count": null,
      "outputs": []
    },
    {
      "cell_type": "code",
      "source": [
        "list_A = [1,5,9,-19,-2,0]\n",
        "XXX = find_min(list_A)"
      ],
      "metadata": {
        "id": "jLLmqxZkFJmr"
      },
      "execution_count": null,
      "outputs": []
    },
    {
      "cell_type": "code",
      "source": [
        "print(XXX)"
      ],
      "metadata": {
        "id": "B_I-2-T33U2M",
        "outputId": "f6da4942-ace4-49b3-d6db-3a60715a0491",
        "colab": {
          "base_uri": "https://localhost:8080/"
        }
      },
      "execution_count": null,
      "outputs": [
        {
          "output_type": "stream",
          "name": "stdout",
          "text": [
            "-19\n"
          ]
        }
      ]
    },
    {
      "cell_type": "code",
      "source": [
        "find_min([-9,99,0,-34])"
      ],
      "metadata": {
        "id": "kvvqU0_7_buk",
        "outputId": "6a5572fe-6ac0-4f42-abcb-86697b696717",
        "colab": {
          "base_uri": "https://localhost:8080/"
        }
      },
      "execution_count": null,
      "outputs": [
        {
          "output_type": "execute_result",
          "data": {
            "text/plain": [
              "-34"
            ]
          },
          "metadata": {},
          "execution_count": 62
        }
      ]
    },
    {
      "cell_type": "markdown",
      "source": [
        "#### Example 2\n",
        "Function ที่ไม่มี Output (Function without Output)\n",
        "- ไม่มีตัวแปรเก็บค่า แต่ให้แสดงค่าออกมาเลย (cannot set a value to variable)"
      ],
      "metadata": {
        "id": "cjeW_EF7F3S_"
      }
    },
    {
      "cell_type": "code",
      "source": [
        "def find_min2(list_ex): ## ไม่มีเก็บค่าในตัวแปร ให้ return\n",
        "    min = 100000000\n",
        "    for x in list_ex:\n",
        "        if x < min:\n",
        "            min = x\n",
        "    print(min)"
      ],
      "metadata": {
        "id": "V27kYR2IFJox"
      },
      "execution_count": null,
      "outputs": []
    },
    {
      "cell_type": "code",
      "source": [
        "find_min2(list_A)"
      ],
      "metadata": {
        "colab": {
          "base_uri": "https://localhost:8080/"
        },
        "id": "3bBeJbDXFJqk",
        "outputId": "e00450ea-11c1-4949-a18c-705361be802c"
      },
      "execution_count": null,
      "outputs": [
        {
          "output_type": "stream",
          "name": "stdout",
          "text": [
            "-19\n"
          ]
        }
      ]
    },
    {
      "cell_type": "code",
      "source": [
        "YYY  = find_min2(list_A) ## ไม่เก็บค่า แต่ print ออกมาเลย"
      ],
      "metadata": {
        "colab": {
          "base_uri": "https://localhost:8080/"
        },
        "id": "mghtm72aFJud",
        "outputId": "7a99a280-ba2d-45d0-a852-599eb52e192d"
      },
      "execution_count": null,
      "outputs": [
        {
          "output_type": "stream",
          "name": "stdout",
          "text": [
            "-19\n"
          ]
        }
      ]
    },
    {
      "cell_type": "code",
      "source": [
        "YYY"
      ],
      "metadata": {
        "id": "-sh3bimZFJyR"
      },
      "execution_count": null,
      "outputs": []
    },
    {
      "cell_type": "markdown",
      "source": [
        "#### Example 3\n",
        "Function แบบไม่มี Input (Function without Input)\n"
      ],
      "metadata": {
        "id": "-mtf3vNoGjPI"
      }
    },
    {
      "cell_type": "code",
      "source": [
        "def Pi_val():\n",
        "    return 3.1416"
      ],
      "metadata": {
        "id": "RYz81zVwFJ0d"
      },
      "execution_count": null,
      "outputs": []
    },
    {
      "cell_type": "code",
      "source": [
        "r = 10\n",
        "print(f'พื้นที่วงกลมที่มีเส้นผ่านศูนย์กลางเท่ากับ {r} คือ {Pi_val()*r*r}')"
      ],
      "metadata": {
        "colab": {
          "base_uri": "https://localhost:8080/"
        },
        "id": "sY6pMHYHFJ2j",
        "outputId": "038ef1f3-22df-4bbb-ab5f-9d8b519be236"
      },
      "execution_count": null,
      "outputs": [
        {
          "output_type": "stream",
          "name": "stdout",
          "text": [
            "พื้นที่วงกลมที่มีเส้นผ่านศูนย์กลางเท่ากับ 10 คือ 314.16\n"
          ]
        }
      ]
    },
    {
      "cell_type": "markdown",
      "source": [
        "#### Example 4\n",
        "Function ที่มีแต่ Process อย่างเดียว (Function has only the Process part)\n"
      ],
      "metadata": {
        "id": "wPA5Fn0sGwJA"
      }
    },
    {
      "cell_type": "code",
      "source": [
        "def draw_rectangle():\n",
        "    print('======')\n",
        "    print('|    |')\n",
        "    print('======')"
      ],
      "metadata": {
        "id": "e_TMBYadFJ4t"
      },
      "execution_count": null,
      "outputs": []
    },
    {
      "cell_type": "code",
      "source": [
        "draw_rectangle()"
      ],
      "metadata": {
        "colab": {
          "base_uri": "https://localhost:8080/"
        },
        "id": "1sG6krZrFJ6q",
        "outputId": "f2a2893f-ecb7-489b-f56f-2701b51bda54"
      },
      "execution_count": null,
      "outputs": [
        {
          "output_type": "stream",
          "name": "stdout",
          "text": [
            "======\n",
            "|    |\n",
            "======\n"
          ]
        }
      ]
    },
    {
      "cell_type": "code",
      "source": [
        "def draw_hello():\n",
        "    print('============')\n",
        "    print('|  Hello  |')\n",
        "    print('============')"
      ],
      "metadata": {
        "id": "ytdqGpMMG_7q"
      },
      "execution_count": null,
      "outputs": []
    },
    {
      "cell_type": "code",
      "source": [
        "draw_hello()"
      ],
      "metadata": {
        "colab": {
          "base_uri": "https://localhost:8080/"
        },
        "id": "oDj_j5_yG_9l",
        "outputId": "a60696a0-5882-4176-ba70-565557faa9c1"
      },
      "execution_count": null,
      "outputs": [
        {
          "output_type": "stream",
          "name": "stdout",
          "text": [
            "============\n",
            "|  Hello  |\n",
            "============\n"
          ]
        }
      ]
    },
    {
      "cell_type": "markdown",
      "source": [
        "Function ที่ไม่มี Process จะ Run ไม่ได้ (Function without a process means error)\n",
        "\n",
        "\n",
        "\n"
      ],
      "metadata": {
        "id": "5PLJBzYuIpJh"
      }
    },
    {
      "cell_type": "code",
      "source": [
        "def draw_rectangle():"
      ],
      "metadata": {
        "colab": {
          "base_uri": "https://localhost:8080/",
          "height": 140
        },
        "id": "tIRiWXbAInZ3",
        "outputId": "98ef8210-5748-4206-e1cb-b40cac58f7d3"
      },
      "execution_count": null,
      "outputs": [
        {
          "output_type": "error",
          "ename": "SyntaxError",
          "evalue": "ignored",
          "traceback": [
            "\u001b[0;36m  File \u001b[0;32m\"<ipython-input-83-96ff03789653>\"\u001b[0;36m, line \u001b[0;32m1\u001b[0m\n\u001b[0;31m    def draw_rectangle():\u001b[0m\n\u001b[0m                         ^\u001b[0m\n\u001b[0;31mSyntaxError\u001b[0m\u001b[0;31m:\u001b[0m incomplete input\n"
          ]
        }
      ]
    },
    {
      "cell_type": "markdown",
      "source": [
        "**ลักษณะของ (input type of inputs or paremeter,argument)**\n",
        "\n",
        "- จำเป็นต้องใส่ (non-default argument: you need to give an input this argument)\n",
        "\n",
        "- ไม่จำเป็นต้องใส่เพราะมี default อยู่แล้ว (default argument: you can ignore it because it has a default value)"
      ],
      "metadata": {
        "id": "D_MTZ9oQIOW4"
      }
    },
    {
      "cell_type": "code",
      "source": [
        "def draw_rectangle(dbbound=True): ## ค่า default คือ True เป็น input ที่ใส่ หรือไม่่ใส่ก็ได้ (this is exmaple of default argument)\n",
        "    if dbbound:\n",
        "        print('========')\n",
        "        print('||    ||')\n",
        "        print('========')\n",
        "    else:\n",
        "        print('________')\n",
        "        print('|      |')\n",
        "        print('--------')"
      ],
      "metadata": {
        "id": "9Wq68Wl7G__i"
      },
      "execution_count": null,
      "outputs": []
    },
    {
      "cell_type": "code",
      "source": [
        "draw_rectangle()"
      ],
      "metadata": {
        "colab": {
          "base_uri": "https://localhost:8080/"
        },
        "id": "pKz39jeEHABY",
        "outputId": "5d42e68a-fed8-4549-a147-7e5cd92cf8ab"
      },
      "execution_count": null,
      "outputs": [
        {
          "output_type": "stream",
          "name": "stdout",
          "text": [
            "========\n",
            "||    ||\n",
            "========\n"
          ]
        }
      ]
    },
    {
      "cell_type": "code",
      "source": [
        "draw_rectangle(True)"
      ],
      "metadata": {
        "colab": {
          "base_uri": "https://localhost:8080/"
        },
        "id": "YBqjCua6HADn",
        "outputId": "0c53a1db-6bed-4a2a-acf0-992d5edc5926"
      },
      "execution_count": null,
      "outputs": [
        {
          "output_type": "stream",
          "name": "stdout",
          "text": [
            "========\n",
            "||    ||\n",
            "========\n"
          ]
        }
      ]
    },
    {
      "cell_type": "code",
      "source": [
        "draw_rectangle(False)"
      ],
      "metadata": {
        "colab": {
          "base_uri": "https://localhost:8080/"
        },
        "id": "7pWMWF7aHAFk",
        "outputId": "8ce4e3a4-ef0c-492d-f692-832a20b4b364"
      },
      "execution_count": null,
      "outputs": [
        {
          "output_type": "stream",
          "name": "stdout",
          "text": [
            "________\n",
            "|      |\n",
            "--------\n"
          ]
        }
      ]
    },
    {
      "cell_type": "markdown",
      "source": [
        " ไม่มี input ที่เป็นค่า default (when you call a function that require non-default argument without input, it will return error)"
      ],
      "metadata": {
        "id": "qg0f8BiVLK4i"
      }
    },
    {
      "cell_type": "code",
      "source": [
        "find_min2() ## ไม่มี input ที่เป็นค่า default"
      ],
      "metadata": {
        "colab": {
          "base_uri": "https://localhost:8080/",
          "height": 158
        },
        "id": "TOu7PQp0HAH3",
        "outputId": "0441f48c-8bd9-4b64-c3f9-b03614b95ebb"
      },
      "execution_count": null,
      "outputs": [
        {
          "output_type": "error",
          "ename": "TypeError",
          "evalue": "find_min2() missing 1 required positional argument: 'list_ex'",
          "traceback": [
            "\u001b[0;31m---------------------------------------------------------------------------\u001b[0m",
            "\u001b[0;31mTypeError\u001b[0m                                 Traceback (most recent call last)",
            "\u001b[0;32m<ipython-input-74-ef006b8c722f>\u001b[0m in \u001b[0;36m<cell line: 1>\u001b[0;34m()\u001b[0m\n\u001b[0;32m----> 1\u001b[0;31m \u001b[0mfind_min2\u001b[0m\u001b[0;34m(\u001b[0m\u001b[0;34m)\u001b[0m \u001b[0;31m## ไม่มี input ที่เป็นค่า default\u001b[0m\u001b[0;34m\u001b[0m\u001b[0;34m\u001b[0m\u001b[0m\n\u001b[0m",
            "\u001b[0;31mTypeError\u001b[0m: find_min2() missing 1 required positional argument: 'list_ex'"
          ]
        }
      ]
    },
    {
      "cell_type": "markdown",
      "source": [
        "นำ input ที่จำเป็นต้องใส่มาไว้ด้านหน้าก่อน (when define a function, you have to put non-default argument first)"
      ],
      "metadata": {
        "id": "MnjtEFbTECfi"
      }
    },
    {
      "cell_type": "code",
      "source": [
        "#''' นำ input ที่จำเป็นต้องใส่มาไว้ด้านหน้าก่อน (when define a function, you have to put non-default argument first)\n",
        "def draw_rectangle(size,dbbound=True): ## size เป็น input ที่ต้องใส่ (size in non-default argument)\n",
        "    if dbbound:\n",
        "        up = '='\n",
        "        space = ' '\n",
        "        print(f'{(size+4)*up}')\n",
        "        print(f'||{size*space}||')\n",
        "        print(f'{(size+4)*up}')\n",
        "    else:\n",
        "        up = '-'\n",
        "        space = ' '\n",
        "        print(f'{(size+4)*up}')\n",
        "        print(f'|{size*space}|')\n",
        "        print(f'{(size+4)*up}')"
      ],
      "metadata": {
        "id": "74FU11PfHAKQ"
      },
      "execution_count": null,
      "outputs": []
    },
    {
      "cell_type": "code",
      "source": [
        "draw_rectangle() ## ถ้าไม่ใส่ input ที่จำเป็นต้องใส่ จะ Errors"
      ],
      "metadata": {
        "colab": {
          "base_uri": "https://localhost:8080/",
          "height": 158
        },
        "id": "bVhWEmeRLMiS",
        "outputId": "bcb3c966-58bd-4923-dc95-701b29d76540"
      },
      "execution_count": null,
      "outputs": [
        {
          "output_type": "error",
          "ename": "TypeError",
          "evalue": "draw_rectangle() missing 1 required positional argument: 'size'",
          "traceback": [
            "\u001b[0;31m---------------------------------------------------------------------------\u001b[0m",
            "\u001b[0;31mTypeError\u001b[0m                                 Traceback (most recent call last)",
            "\u001b[0;32m<ipython-input-76-88c3012a2a69>\u001b[0m in \u001b[0;36m<cell line: 1>\u001b[0;34m()\u001b[0m\n\u001b[0;32m----> 1\u001b[0;31m \u001b[0mdraw_rectangle\u001b[0m\u001b[0;34m(\u001b[0m\u001b[0;34m)\u001b[0m \u001b[0;31m## ถ้าไม่ใส่ input ที่จำเป็นต้องใส่ จะ Errors\u001b[0m\u001b[0;34m\u001b[0m\u001b[0;34m\u001b[0m\u001b[0m\n\u001b[0m",
            "\u001b[0;31mTypeError\u001b[0m: draw_rectangle() missing 1 required positional argument: 'size'"
          ]
        }
      ]
    },
    {
      "cell_type": "code",
      "source": [
        "draw_rectangle(10,False)"
      ],
      "metadata": {
        "id": "4t78l-umLMke",
        "colab": {
          "base_uri": "https://localhost:8080/"
        },
        "outputId": "305442d6-af34-4223-c882-5a26b7f23cd7"
      },
      "execution_count": null,
      "outputs": [
        {
          "output_type": "stream",
          "name": "stdout",
          "text": [
            "--------------\n",
            "|          |\n",
            "--------------\n"
          ]
        }
      ]
    },
    {
      "cell_type": "markdown",
      "source": [
        "ไม่ได้ใส่ parameter ตามลำดับ แต่ใส่ parameter ที่จำเป็นต้องใส่ก็สามารถ run ได้ ถ้าใส่ชื่อของ parameter ด้วย\n",
        "\n",
        "you don't have to follow the order of the arguments if you specify what arguments are what"
      ],
      "metadata": {
        "id": "thCwfG15Os44"
      }
    },
    {
      "cell_type": "code",
      "source": [
        "draw_rectangle(dbbound=False,size=7)"
      ],
      "metadata": {
        "colab": {
          "base_uri": "https://localhost:8080/"
        },
        "id": "MTgWDArFLMoY",
        "outputId": "d6a9223a-01bd-407e-e44c-c71cc02e9cdb"
      },
      "execution_count": null,
      "outputs": [
        {
          "output_type": "stream",
          "name": "stdout",
          "text": [
            "-----------\n",
            "|       |\n",
            "-----------\n"
          ]
        }
      ]
    },
    {
      "cell_type": "code",
      "source": [
        "draw_rectangle(size=7)"
      ],
      "metadata": {
        "colab": {
          "base_uri": "https://localhost:8080/"
        },
        "id": "31veZ_AFLMqS",
        "outputId": "304e562a-8f78-4b29-86db-82e9b2455c15"
      },
      "execution_count": null,
      "outputs": [
        {
          "output_type": "stream",
          "name": "stdout",
          "text": [
            "===========\n",
            "||       ||\n",
            "===========\n"
          ]
        }
      ]
    },
    {
      "cell_type": "markdown",
      "source": [
        "#### Example 5\n",
        "\n",
        "สร้าง function\n",
        "\n",
        "- วาด 4 เหลี่ยม ให้สามารถกำหนด ความยาว เเละ ความกว้าง ได้\n",
        "- เเต่ถ้าใส่ parameter ตัวเดียวก็ให้วาด 4 เหลี่ยม จัสตุรัส ที่มี ความยาว เเละ ความกว้าง เท่ากับ parameter ที่ใส่\n",
        "\n",
        "ให้ปริ้น ความกว้างxความยาวของสี่เหลี่ยม\n",
        "\n",
        "\n",
        "(ให้ปริ้น ความกว้าง x ความยาวของ สี่เหลี่ยม)\n",
        "\n",
        "create a function that:\n",
        "\n",
        "- draw a rectangle that you can specify width and height of it\n",
        "- but when user input only one argument draw square\n",
        "\n",
        "\n",
        "**ตัวอย่าง**\n",
        "\n",
        "rext(3,5)\n",
        "> 3 x 5\n",
        "\n",
        "rext(7)\n",
        "\n",
        "> 7 x 7"
      ],
      "metadata": {
        "id": "cEyhZt0RPS_2"
      }
    },
    {
      "cell_type": "code",
      "source": [
        "def draw_rectagle(W, H): #เติมค่่า ตัวหนึ่งได้เเต่ใช้สองตัว\n",
        "    print(f'{W} x {H}')\n",
        "draw_rectagle(3, 5)"
      ],
      "metadata": {
        "colab": {
          "base_uri": "https://localhost:8080/"
        },
        "id": "T1KTiMxLQDiH",
        "outputId": "baf1ca82-59b6-461e-a369-f5bc6986ee4a"
      },
      "execution_count": null,
      "outputs": [
        {
          "output_type": "stream",
          "name": "stdout",
          "text": [
            "3 x 5\n"
          ]
        }
      ]
    },
    {
      "cell_type": "code",
      "source": [
        "def draw_rectagle(W, H=True): #เติมค่่า ตัวหนึ่งได้เเต่ใช้สองตัว\n",
        "    if H == True: #เช็ค if parameter 1 ตัว\n",
        "        H=W\n",
        "    print(f'{W} x {H}')"
      ],
      "metadata": {
        "id": "elAK0DNZLMsI"
      },
      "execution_count": null,
      "outputs": []
    },
    {
      "cell_type": "code",
      "source": [
        "draw_rectagle(3)"
      ],
      "metadata": {
        "colab": {
          "base_uri": "https://localhost:8080/"
        },
        "id": "ZaNOCaLgLMt1",
        "outputId": "09f21a69-3361-44fa-9099-5cab3a211f0d"
      },
      "execution_count": null,
      "outputs": [
        {
          "output_type": "stream",
          "name": "stdout",
          "text": [
            "3 x 3\n"
          ]
        }
      ]
    },
    {
      "cell_type": "code",
      "source": [
        "draw_rectagle(3,5)"
      ],
      "metadata": {
        "colab": {
          "base_uri": "https://localhost:8080/"
        },
        "id": "2Ue0GG88LMv0",
        "outputId": "b44f9fa3-e1a6-4fbf-e877-1799cfdaed4c"
      },
      "execution_count": null,
      "outputs": [
        {
          "output_type": "stream",
          "name": "stdout",
          "text": [
            "3 x 5\n"
          ]
        }
      ]
    },
    {
      "cell_type": "code",
      "source": [
        "def draw_rectagle(W, H=True):\n",
        "    if H ==True:\n",
        "       up = '-'\n",
        "       side = '|'\n",
        "       space = W-1\n",
        "       print(f'{W*up}')\n",
        "       for i in range(W):\n",
        "           print(f'{side}{space*\" \"}{side}')\n",
        "       print(f'{W*up}')\n",
        "       print((f'{W} x {W}'))\n",
        "    else:\n",
        "        up = '-'\n",
        "        side = '|'\n",
        "        space = W-1\n",
        "        print(f'{W*up}')\n",
        "        for i in range(H):\n",
        "            print(f'{side}{space*\" \"}{side}')\n",
        "        print(f'{W*up}')\n",
        "        print((f'{W} x {H}'))"
      ],
      "metadata": {
        "id": "6wxUxwXeQOzE"
      },
      "execution_count": null,
      "outputs": []
    },
    {
      "cell_type": "code",
      "source": [
        "draw_rectagle(W=5)"
      ],
      "metadata": {
        "colab": {
          "base_uri": "https://localhost:8080/"
        },
        "id": "q-uOrsaRVGY4",
        "outputId": "0c69c408-9e93-45c3-c3c0-3eda4b3604dc"
      },
      "execution_count": null,
      "outputs": [
        {
          "output_type": "stream",
          "name": "stdout",
          "text": [
            "-----\n",
            "|    |\n",
            "|    |\n",
            "|    |\n",
            "|    |\n",
            "|    |\n",
            "-----\n",
            "5 x 5\n"
          ]
        }
      ]
    },
    {
      "cell_type": "code",
      "source": [
        "draw_rectagle(W=5,H=10)"
      ],
      "metadata": {
        "colab": {
          "base_uri": "https://localhost:8080/"
        },
        "id": "AGkFnyTNVGb9",
        "outputId": "d7260415-cba3-4a85-d05d-cc0f25af534e"
      },
      "execution_count": null,
      "outputs": [
        {
          "output_type": "stream",
          "name": "stdout",
          "text": [
            "-----\n",
            "|    |\n",
            "|    |\n",
            "|    |\n",
            "|    |\n",
            "|    |\n",
            "|    |\n",
            "|    |\n",
            "|    |\n",
            "|    |\n",
            "|    |\n",
            "-----\n",
            "5 x 10\n"
          ]
        }
      ]
    },
    {
      "cell_type": "code",
      "source": [
        "draw_rectagle(W=10,H=10)"
      ],
      "metadata": {
        "colab": {
          "base_uri": "https://localhost:8080/"
        },
        "id": "V-Y0PPceWaQY",
        "outputId": "fb0f02fc-568d-4d10-f6f1-fdba2592392e"
      },
      "execution_count": null,
      "outputs": [
        {
          "output_type": "stream",
          "name": "stdout",
          "text": [
            "----------\n",
            "|         |\n",
            "|         |\n",
            "|         |\n",
            "|         |\n",
            "|         |\n",
            "|         |\n",
            "|         |\n",
            "|         |\n",
            "|         |\n",
            "|         |\n",
            "----------\n",
            "10 x 10\n"
          ]
        }
      ]
    },
    {
      "cell_type": "code",
      "source": [
        "draw_rectagle(W=5,H=5)"
      ],
      "metadata": {
        "colab": {
          "base_uri": "https://localhost:8080/"
        },
        "id": "8910x70wW9OZ",
        "outputId": "537bc063-39d0-4ec9-e8cf-ef1f0f737eb2"
      },
      "execution_count": null,
      "outputs": [
        {
          "output_type": "stream",
          "name": "stdout",
          "text": [
            "-----\n",
            "|    |\n",
            "|    |\n",
            "|    |\n",
            "|    |\n",
            "|    |\n",
            "-----\n",
            "5 x 5\n"
          ]
        }
      ]
    },
    {
      "cell_type": "markdown",
      "source": [
        "****"
      ],
      "metadata": {
        "id": "6U1pWV0CXWJh"
      }
    },
    {
      "cell_type": "markdown",
      "source": [
        "### Example\n",
        "\n",
        "create a function that\n",
        "1. sort a list\n",
        "2. you can specify to the function that to sort it ascending or descending  with ascending as default\n",
        "3. have 2 argument one default and one non-default"
      ],
      "metadata": {
        "id": "53v2pvZEGRD9"
      }
    },
    {
      "cell_type": "code",
      "source": [
        "list_ex = [1, 5, 9, -19, -2, 0]\n",
        "\n",
        "def sort(list, descending=False):\n",
        "# sort คือจัดเรียง ถ้าเราใส่ list จะเรียง list ให้โดย descending=False เรียงจากน้อยไปมากเป็นค่าเริ่มต้น\n",
        " #(sort is sorted. If we enter a list, the list will be sorted by descending=False . Sort ascending is default.)\n",
        "  return sorted(list, reverse=descending)"
      ],
      "metadata": {
        "id": "UmU8BtNFf4iS"
      },
      "execution_count": null,
      "outputs": []
    },
    {
      "cell_type": "code",
      "source": [
        "sort(list_ex)"
      ],
      "metadata": {
        "id": "P4MeM2Xlg2ab",
        "outputId": "f42bcb4e-2db5-4a6a-a6a7-addff199eaa4",
        "colab": {
          "base_uri": "https://localhost:8080/"
        }
      },
      "execution_count": null,
      "outputs": [
        {
          "output_type": "execute_result",
          "data": {
            "text/plain": [
              "[-19, -2, 0, 1, 5, 9]"
            ]
          },
          "metadata": {},
          "execution_count": 103
        }
      ]
    },
    {
      "cell_type": "code",
      "source": [
        "sort(list_ex,True)"
      ],
      "metadata": {
        "id": "51DEnROhg33P",
        "outputId": "d72b1ff7-8876-416b-dbe4-c2a25dd501b5",
        "colab": {
          "base_uri": "https://localhost:8080/"
        }
      },
      "execution_count": null,
      "outputs": [
        {
          "output_type": "execute_result",
          "data": {
            "text/plain": [
              "[9, 5, 1, 0, -2, -19]"
            ]
          },
          "metadata": {},
          "execution_count": 104
        }
      ]
    },
    {
      "cell_type": "markdown",
      "source": [
        "คำตอบที่ถูกต้องที่สุด\n",
        "\n",
        "The most correct answer"
      ],
      "metadata": {
        "id": "aaGj0CFhEBew"
      }
    },
    {
      "cell_type": "code",
      "source": [
        "def sorting(input_number,type=True):\n",
        "  n = len(input_number)\n",
        "  if type == True:\n",
        "    for i in range(n):\n",
        "      for j in range(0,n-i-1):\n",
        "        if input_number[j] > input_number[j+1]:\n",
        "          input_number[j], input_number[j+1] = input_number[j+1], input_number[j]\n",
        "  else:\n",
        "    for i in range(n):\n",
        "      for j in range(0,n-i-1):\n",
        "        if input_number[j+1] > input_number[j]:\n",
        "          input_number[j], input_number[j+1] = input_number[j+1],input_number[j]\n",
        "  return input_number"
      ],
      "metadata": {
        "id": "C460rjxEEDKI"
      },
      "execution_count": null,
      "outputs": []
    },
    {
      "cell_type": "code",
      "source": [
        "sorting(list_ex)"
      ],
      "metadata": {
        "id": "UAJNnmGyEM6I",
        "outputId": "3b8866bd-4358-49ac-d1ec-6865566b9025",
        "colab": {
          "base_uri": "https://localhost:8080/"
        }
      },
      "execution_count": null,
      "outputs": [
        {
          "output_type": "execute_result",
          "data": {
            "text/plain": [
              "[-19, -2, 0, 1, 5, 9]"
            ]
          },
          "metadata": {},
          "execution_count": 4
        }
      ]
    },
    {
      "cell_type": "code",
      "source": [
        "sorting(list_ex,False)"
      ],
      "metadata": {
        "id": "MjYCq6XpEQcb",
        "outputId": "a2fb5001-514b-47ae-fdc4-d22a247db1d4",
        "colab": {
          "base_uri": "https://localhost:8080/"
        }
      },
      "execution_count": null,
      "outputs": [
        {
          "output_type": "execute_result",
          "data": {
            "text/plain": [
              "[9, 5, 1, 0, -2, -19]"
            ]
          },
          "metadata": {},
          "execution_count": 5
        }
      ]
    },
    {
      "cell_type": "markdown",
      "source": [
        "#HW 1.5 เขียน function ของ HW 1"
      ],
      "metadata": {
        "id": "yzLjw-e15Puu"
      }
    },
    {
      "cell_type": "code",
      "source": [
        "list_aa"
      ],
      "metadata": {
        "colab": {
          "base_uri": "https://localhost:8080/"
        },
        "id": "uG_Ku1txtN-6",
        "outputId": "646dac02-2be8-4dc5-c641-c525c602f34b"
      },
      "execution_count": 34,
      "outputs": [
        {
          "output_type": "execute_result",
          "data": {
            "text/plain": [
              "['chiken',\n",
              " 'water',\n",
              " 'vegetable',\n",
              " 'rice',\n",
              " 'plate',\n",
              " 'spoon',\n",
              " 'fork',\n",
              " 'knife',\n",
              " 'apple']"
            ]
          },
          "metadata": {},
          "execution_count": 34
        }
      ]
    },
    {
      "cell_type": "code",
      "source": [
        "words = ['nice','nzice','spork','warick']"
      ],
      "metadata": {
        "id": "vyk62r12tea9"
      },
      "execution_count": 35,
      "outputs": []
    },
    {
      "cell_type": "markdown",
      "source": [
        "## สร้างจาก 1 ตัวอักษร"
      ],
      "metadata": {
        "id": "85qFppyCwLju"
      }
    },
    {
      "cell_type": "code",
      "source": [
        "def find_substrings_for_word(list_of_template_words, word):\n",
        "    dict_found = {}\n",
        "    for char in word:\n",
        "        found = False #Tracks Status, Avoids Redundant Prints, Ensures Complete Check\n",
        "        for t_word in list_of_template_words:\n",
        "            if char in t_word:\n",
        "                print(f'The letter {char} can be found in the word {t_word} of template words')\n",
        "                dict_found[char] = t_word\n",
        "                found = True\n",
        "                break # ถ้าเจอใน 1 คำของ list_aa แล้วออกจากลูป  #break statement in the inner loop to exit once the letter is found in list_aa.\n",
        "        if not found:\n",
        "            print(f'The letter {char} not in template word. Could not make {word} from the template words')\n",
        "            return {}\n",
        "    return dict_found"
      ],
      "metadata": {
        "id": "DHYsu2gUsBYW"
      },
      "execution_count": 30,
      "outputs": []
    },
    {
      "cell_type": "code",
      "source": [
        "find_substrings_for_word(list_aa,words[0])"
      ],
      "metadata": {
        "colab": {
          "base_uri": "https://localhost:8080/"
        },
        "id": "kT_is9gvuhg3",
        "outputId": "4017b655-d521-4462-8086-2053c4dc3106"
      },
      "execution_count": 29,
      "outputs": [
        {
          "output_type": "stream",
          "name": "stdout",
          "text": [
            "The letter n can be found in the word chiken of template words\n",
            "The letter z not in template word. Could not make nzice from the template words\n",
            "The letter i can be found in the word chiken of template words\n",
            "The letter c can be found in the word chiken of template words\n",
            "The letter e can be found in the word chiken of template words\n"
          ]
        },
        {
          "output_type": "execute_result",
          "data": {
            "text/plain": [
              "{'n': 'chiken', 'i': 'chiken', 'c': 'chiken', 'e': 'chiken'}"
            ]
          },
          "metadata": {},
          "execution_count": 29
        }
      ]
    },
    {
      "cell_type": "markdown",
      "source": [
        "## สร้างจากมากกว่า 1 ตัว"
      ],
      "metadata": {
        "id": "4tXIvDrezuxm"
      }
    },
    {
      "cell_type": "code",
      "source": [
        "def find_substrings_for_word2(list_of_template_words, word):\n",
        "    ans_list = []\n",
        "    for each_set in find_all_substring_partitions(word):\n",
        "        dict_found = {}\n",
        "        for char in each_set:\n",
        "            found = False\n",
        "            for t_word in list_of_template_words:\n",
        "                if char in t_word:\n",
        "                    print(f'The letter {char} can be found in the word {t_word} of template words')\n",
        "                    dict_found[char] = t_word\n",
        "                    found = True\n",
        "                    break\n",
        "            if not found:\n",
        "                print(f'The letter {char} not in template word. Could not make {word} from the template words')\n",
        "                dict_found = {}\n",
        "                break\n",
        "\n",
        "        ans_list.append(dict_found)\n",
        "        print(each_set)\n",
        "    print(ans_list)\n",
        "    # for char in word:\n",
        "    #     if char not in ''.join(list_of_template_words):\n",
        "    #         return {}\n",
        "    return return_dict_with_more_members(ans_list)"
      ],
      "metadata": {
        "id": "5ltZsxWgun_x"
      },
      "execution_count": 86,
      "outputs": []
    },
    {
      "cell_type": "code",
      "source": [
        "# prompt: make a list that consists of all possible lists of substring from an input string that can join back to the input string\n",
        "\n",
        "def find_all_substring_partitions(s):\n",
        "  result = []\n",
        "\n",
        "  def backtrack(index, current_partition):\n",
        "    if index == len(s):\n",
        "      result.append(current_partition.copy())\n",
        "      return\n",
        "\n",
        "    for i in range(index + 1, len(s) + 1):\n",
        "      substring = s[index:i]\n",
        "      current_partition.append(substring)\n",
        "      backtrack(i, current_partition)\n",
        "      current_partition.pop()\n",
        "\n",
        "  backtrack(0, [])\n",
        "  return result\n",
        "\n",
        "# Example usage\n",
        "input_string = \"hello\"\n",
        "all_partitions = find_all_substring_partitions(input_string)\n",
        "print(all_partitions)\n"
      ],
      "metadata": {
        "colab": {
          "base_uri": "https://localhost:8080/"
        },
        "id": "2lVs4r4h5_xS",
        "outputId": "dfc0b317-4d79-41e0-bd0d-8d84694b0e5b"
      },
      "execution_count": 52,
      "outputs": [
        {
          "output_type": "stream",
          "name": "stdout",
          "text": [
            "[['h', 'e', 'l', 'l', 'o'], ['h', 'e', 'l', 'lo'], ['h', 'e', 'll', 'o'], ['h', 'e', 'llo'], ['h', 'el', 'l', 'o'], ['h', 'el', 'lo'], ['h', 'ell', 'o'], ['h', 'ello'], ['he', 'l', 'l', 'o'], ['he', 'l', 'lo'], ['he', 'll', 'o'], ['he', 'llo'], ['hel', 'l', 'o'], ['hel', 'lo'], ['hell', 'o'], ['hello']]\n"
          ]
        }
      ]
    },
    {
      "cell_type": "code",
      "source": [
        "# prompt: return dict that has the least members from a list of dict that is not empty dict\n",
        "\n",
        "def return_dict_with_more_members(list_of_dict):\n",
        "  min_length = float('inf')\n",
        "  smallest_dict = {}\n",
        "  for dict_ in list_of_dict:\n",
        "    if len(dict_) < min_length and len(dict_) > 0:\n",
        "      min_length = len(dict_)\n",
        "      smallest_dict = dict_\n",
        "  return smallest_dict\n"
      ],
      "metadata": {
        "id": "z4rM5Ee14Vnu"
      },
      "execution_count": 55,
      "outputs": []
    },
    {
      "cell_type": "code",
      "source": [],
      "metadata": {
        "id": "2MEK8IEx8J7v"
      },
      "execution_count": null,
      "outputs": []
    },
    {
      "cell_type": "code",
      "source": [
        "find_substrings_for_word2(list_aa,words[0])"
      ],
      "metadata": {
        "colab": {
          "base_uri": "https://localhost:8080/"
        },
        "id": "iFixwcps2W5D",
        "outputId": "aa464134-3fd4-4cc4-a05a-5480010c94e0"
      },
      "execution_count": 87,
      "outputs": [
        {
          "output_type": "stream",
          "name": "stdout",
          "text": [
            "The letter n can be found in the word chiken of template words\n",
            "The letter i can be found in the word chiken of template words\n",
            "The letter c can be found in the word chiken of template words\n",
            "The letter e can be found in the word chiken of template words\n",
            "['n', 'i', 'c', 'e']\n",
            "The letter n can be found in the word chiken of template words\n",
            "The letter i can be found in the word chiken of template words\n",
            "The letter ce can be found in the word rice of template words\n",
            "['n', 'i', 'ce']\n",
            "The letter n can be found in the word chiken of template words\n",
            "The letter ic can be found in the word rice of template words\n",
            "The letter e can be found in the word chiken of template words\n",
            "['n', 'ic', 'e']\n",
            "The letter n can be found in the word chiken of template words\n",
            "The letter ice can be found in the word rice of template words\n",
            "['n', 'ice']\n",
            "The letter ni can be found in the word knife of template words\n",
            "The letter c can be found in the word chiken of template words\n",
            "The letter e can be found in the word chiken of template words\n",
            "['ni', 'c', 'e']\n",
            "The letter ni can be found in the word knife of template words\n",
            "The letter ce can be found in the word rice of template words\n",
            "['ni', 'ce']\n",
            "The letter nic not in template word. Could not make nice from the template words\n",
            "['nic', 'e']\n",
            "The letter nice not in template word. Could not make nice from the template words\n",
            "['nice']\n",
            "[{'n': 'chiken', 'i': 'chiken', 'c': 'chiken', 'e': 'chiken'}, {'n': 'chiken', 'i': 'chiken', 'ce': 'rice'}, {'n': 'chiken', 'ic': 'rice', 'e': 'chiken'}, {'n': 'chiken', 'ice': 'rice'}, {'ni': 'knife', 'c': 'chiken', 'e': 'chiken'}, {'ni': 'knife', 'ce': 'rice'}, {}, {}]\n"
          ]
        },
        {
          "output_type": "execute_result",
          "data": {
            "text/plain": [
              "{'n': 'chiken', 'ice': 'rice'}"
            ]
          },
          "metadata": {},
          "execution_count": 87
        }
      ]
    },
    {
      "cell_type": "code",
      "source": [
        "find_substrings_for_word2(list_aa,words[1])"
      ],
      "metadata": {
        "colab": {
          "base_uri": "https://localhost:8080/"
        },
        "id": "ikRXBWcD2uCE",
        "outputId": "36b45126-13d0-415d-8461-54b726f4b8c8"
      },
      "execution_count": 88,
      "outputs": [
        {
          "output_type": "stream",
          "name": "stdout",
          "text": [
            "The letter n can be found in the word chiken of template words\n",
            "The letter z not in template word. Could not make nzice from the template words\n",
            "['n', 'z', 'i', 'c', 'e']\n",
            "The letter n can be found in the word chiken of template words\n",
            "The letter z not in template word. Could not make nzice from the template words\n",
            "['n', 'z', 'i', 'ce']\n",
            "The letter n can be found in the word chiken of template words\n",
            "The letter z not in template word. Could not make nzice from the template words\n",
            "['n', 'z', 'ic', 'e']\n",
            "The letter n can be found in the word chiken of template words\n",
            "The letter z not in template word. Could not make nzice from the template words\n",
            "['n', 'z', 'ice']\n",
            "The letter n can be found in the word chiken of template words\n",
            "The letter zi not in template word. Could not make nzice from the template words\n",
            "['n', 'zi', 'c', 'e']\n",
            "The letter n can be found in the word chiken of template words\n",
            "The letter zi not in template word. Could not make nzice from the template words\n",
            "['n', 'zi', 'ce']\n",
            "The letter n can be found in the word chiken of template words\n",
            "The letter zic not in template word. Could not make nzice from the template words\n",
            "['n', 'zic', 'e']\n",
            "The letter n can be found in the word chiken of template words\n",
            "The letter zice not in template word. Could not make nzice from the template words\n",
            "['n', 'zice']\n",
            "The letter nz not in template word. Could not make nzice from the template words\n",
            "['nz', 'i', 'c', 'e']\n",
            "The letter nz not in template word. Could not make nzice from the template words\n",
            "['nz', 'i', 'ce']\n",
            "The letter nz not in template word. Could not make nzice from the template words\n",
            "['nz', 'ic', 'e']\n",
            "The letter nz not in template word. Could not make nzice from the template words\n",
            "['nz', 'ice']\n",
            "The letter nzi not in template word. Could not make nzice from the template words\n",
            "['nzi', 'c', 'e']\n",
            "The letter nzi not in template word. Could not make nzice from the template words\n",
            "['nzi', 'ce']\n",
            "The letter nzic not in template word. Could not make nzice from the template words\n",
            "['nzic', 'e']\n",
            "The letter nzice not in template word. Could not make nzice from the template words\n",
            "['nzice']\n",
            "[{}, {}, {}, {}, {}, {}, {}, {}, {}, {}, {}, {}, {}, {}, {}, {}]\n"
          ]
        },
        {
          "output_type": "execute_result",
          "data": {
            "text/plain": [
              "{}"
            ]
          },
          "metadata": {},
          "execution_count": 88
        }
      ]
    },
    {
      "cell_type": "code",
      "source": [
        "find_substrings_for_word2(list_aa,words[2])"
      ],
      "metadata": {
        "colab": {
          "base_uri": "https://localhost:8080/"
        },
        "id": "fBnWK79W9QDW",
        "outputId": "9a796a4d-b45b-4764-a05c-09da79b963fc"
      },
      "execution_count": 83,
      "outputs": [
        {
          "output_type": "stream",
          "name": "stdout",
          "text": [
            "The letter s can be found in the word spoon of template words\n",
            "The letter p can be found in the word plate of template words\n",
            "The letter o can be found in the word spoon of template words\n",
            "The letter r can be found in the word water of template words\n",
            "The letter k can be found in the word chiken of template words\n",
            "['s', 'p', 'o', 'r', 'k']\n",
            "The letter s can be found in the word spoon of template words\n",
            "The letter p can be found in the word plate of template words\n",
            "The letter o can be found in the word spoon of template words\n",
            "The letter rk can be found in the word fork of template words\n",
            "['s', 'p', 'o', 'rk']\n",
            "The letter s can be found in the word spoon of template words\n",
            "The letter p can be found in the word plate of template words\n",
            "The letter or can be found in the word fork of template words\n",
            "The letter k can be found in the word chiken of template words\n",
            "['s', 'p', 'or', 'k']\n",
            "The letter s can be found in the word spoon of template words\n",
            "The letter p can be found in the word plate of template words\n",
            "The letter ork can be found in the word fork of template words\n",
            "['s', 'p', 'ork']\n",
            "The letter s can be found in the word spoon of template words\n",
            "The letter po can be found in the word spoon of template words\n",
            "The letter r can be found in the word water of template words\n",
            "The letter k can be found in the word chiken of template words\n",
            "['s', 'po', 'r', 'k']\n",
            "The letter s can be found in the word spoon of template words\n",
            "The letter po can be found in the word spoon of template words\n",
            "The letter rk can be found in the word fork of template words\n",
            "['s', 'po', 'rk']\n",
            "The letter s can be found in the word spoon of template words\n",
            "The letter por not in template word. Could not make spork from the template words\n",
            "['s', 'por', 'k']\n",
            "The letter s can be found in the word spoon of template words\n",
            "The letter pork not in template word. Could not make spork from the template words\n",
            "['s', 'pork']\n",
            "The letter sp can be found in the word spoon of template words\n",
            "The letter o can be found in the word spoon of template words\n",
            "The letter r can be found in the word water of template words\n",
            "The letter k can be found in the word chiken of template words\n",
            "['sp', 'o', 'r', 'k']\n",
            "The letter sp can be found in the word spoon of template words\n",
            "The letter o can be found in the word spoon of template words\n",
            "The letter rk can be found in the word fork of template words\n",
            "['sp', 'o', 'rk']\n",
            "The letter sp can be found in the word spoon of template words\n",
            "The letter or can be found in the word fork of template words\n",
            "The letter k can be found in the word chiken of template words\n",
            "['sp', 'or', 'k']\n",
            "The letter sp can be found in the word spoon of template words\n",
            "The letter ork can be found in the word fork of template words\n",
            "['sp', 'ork']\n",
            "The letter spo can be found in the word spoon of template words\n",
            "The letter r can be found in the word water of template words\n",
            "The letter k can be found in the word chiken of template words\n",
            "['spo', 'r', 'k']\n",
            "The letter spo can be found in the word spoon of template words\n",
            "The letter rk can be found in the word fork of template words\n",
            "['spo', 'rk']\n",
            "The letter spor not in template word. Could not make spork from the template words\n",
            "['spor', 'k']\n",
            "The letter spork not in template word. Could not make spork from the template words\n",
            "['spork']\n",
            "[{'s': 'spoon', 'p': 'plate', 'o': 'spoon', 'r': 'water', 'k': 'chiken'}, {'s': 'spoon', 'p': 'plate', 'o': 'spoon', 'rk': 'fork'}, {'s': 'spoon', 'p': 'plate', 'or': 'fork', 'k': 'chiken'}, {'s': 'spoon', 'p': 'plate', 'ork': 'fork'}, {'s': 'spoon', 'po': 'spoon', 'r': 'water', 'k': 'chiken'}, {'s': 'spoon', 'po': 'spoon', 'rk': 'fork'}, {}, {}, {'sp': 'spoon', 'o': 'spoon', 'r': 'water', 'k': 'chiken'}, {'sp': 'spoon', 'o': 'spoon', 'rk': 'fork'}, {'sp': 'spoon', 'or': 'fork', 'k': 'chiken'}, {'sp': 'spoon', 'ork': 'fork'}, {'spo': 'spoon', 'r': 'water', 'k': 'chiken'}, {'spo': 'spoon', 'rk': 'fork'}, {}, {}]\n"
          ]
        },
        {
          "output_type": "execute_result",
          "data": {
            "text/plain": [
              "{'sp': 'spoon', 'ork': 'fork'}"
            ]
          },
          "metadata": {},
          "execution_count": 83
        }
      ]
    },
    {
      "cell_type": "code",
      "source": [
        "find_substrings_for_word2(list_aa,words[3])"
      ],
      "metadata": {
        "colab": {
          "base_uri": "https://localhost:8080/"
        },
        "id": "2Zosr7eR-esn",
        "outputId": "f79c1424-b927-4dc8-acb5-7b65a7662152"
      },
      "execution_count": 84,
      "outputs": [
        {
          "output_type": "stream",
          "name": "stdout",
          "text": [
            "The letter w can be found in the word water of template words\n",
            "The letter a can be found in the word water of template words\n",
            "The letter r can be found in the word water of template words\n",
            "The letter i can be found in the word chiken of template words\n",
            "The letter c can be found in the word chiken of template words\n",
            "The letter k can be found in the word chiken of template words\n",
            "['w', 'a', 'r', 'i', 'c', 'k']\n",
            "The letter w can be found in the word water of template words\n",
            "The letter a can be found in the word water of template words\n",
            "The letter r can be found in the word water of template words\n",
            "The letter i can be found in the word chiken of template words\n",
            "The letter ck not in template word. Could not make warick from the template words\n",
            "['w', 'a', 'r', 'i', 'ck']\n",
            "The letter w can be found in the word water of template words\n",
            "The letter a can be found in the word water of template words\n",
            "The letter r can be found in the word water of template words\n",
            "The letter ic can be found in the word rice of template words\n",
            "The letter k can be found in the word chiken of template words\n",
            "['w', 'a', 'r', 'ic', 'k']\n",
            "The letter w can be found in the word water of template words\n",
            "The letter a can be found in the word water of template words\n",
            "The letter r can be found in the word water of template words\n",
            "The letter ick not in template word. Could not make warick from the template words\n",
            "['w', 'a', 'r', 'ick']\n",
            "The letter w can be found in the word water of template words\n",
            "The letter a can be found in the word water of template words\n",
            "The letter ri can be found in the word rice of template words\n",
            "The letter c can be found in the word chiken of template words\n",
            "The letter k can be found in the word chiken of template words\n",
            "['w', 'a', 'ri', 'c', 'k']\n",
            "The letter w can be found in the word water of template words\n",
            "The letter a can be found in the word water of template words\n",
            "The letter ri can be found in the word rice of template words\n",
            "The letter ck not in template word. Could not make warick from the template words\n",
            "['w', 'a', 'ri', 'ck']\n",
            "The letter w can be found in the word water of template words\n",
            "The letter a can be found in the word water of template words\n",
            "The letter ric can be found in the word rice of template words\n",
            "The letter k can be found in the word chiken of template words\n",
            "['w', 'a', 'ric', 'k']\n",
            "The letter w can be found in the word water of template words\n",
            "The letter a can be found in the word water of template words\n",
            "The letter rick not in template word. Could not make warick from the template words\n",
            "['w', 'a', 'rick']\n",
            "The letter w can be found in the word water of template words\n",
            "The letter ar not in template word. Could not make warick from the template words\n",
            "['w', 'ar', 'i', 'c', 'k']\n",
            "The letter w can be found in the word water of template words\n",
            "The letter ar not in template word. Could not make warick from the template words\n",
            "['w', 'ar', 'i', 'ck']\n",
            "The letter w can be found in the word water of template words\n",
            "The letter ar not in template word. Could not make warick from the template words\n",
            "['w', 'ar', 'ic', 'k']\n",
            "The letter w can be found in the word water of template words\n",
            "The letter ar not in template word. Could not make warick from the template words\n",
            "['w', 'ar', 'ick']\n",
            "The letter w can be found in the word water of template words\n",
            "The letter ari not in template word. Could not make warick from the template words\n",
            "['w', 'ari', 'c', 'k']\n",
            "The letter w can be found in the word water of template words\n",
            "The letter ari not in template word. Could not make warick from the template words\n",
            "['w', 'ari', 'ck']\n",
            "The letter w can be found in the word water of template words\n",
            "The letter aric not in template word. Could not make warick from the template words\n",
            "['w', 'aric', 'k']\n",
            "The letter w can be found in the word water of template words\n",
            "The letter arick not in template word. Could not make warick from the template words\n",
            "['w', 'arick']\n",
            "The letter wa can be found in the word water of template words\n",
            "The letter r can be found in the word water of template words\n",
            "The letter i can be found in the word chiken of template words\n",
            "The letter c can be found in the word chiken of template words\n",
            "The letter k can be found in the word chiken of template words\n",
            "['wa', 'r', 'i', 'c', 'k']\n",
            "The letter wa can be found in the word water of template words\n",
            "The letter r can be found in the word water of template words\n",
            "The letter i can be found in the word chiken of template words\n",
            "The letter ck not in template word. Could not make warick from the template words\n",
            "['wa', 'r', 'i', 'ck']\n",
            "The letter wa can be found in the word water of template words\n",
            "The letter r can be found in the word water of template words\n",
            "The letter ic can be found in the word rice of template words\n",
            "The letter k can be found in the word chiken of template words\n",
            "['wa', 'r', 'ic', 'k']\n",
            "The letter wa can be found in the word water of template words\n",
            "The letter r can be found in the word water of template words\n",
            "The letter ick not in template word. Could not make warick from the template words\n",
            "['wa', 'r', 'ick']\n",
            "The letter wa can be found in the word water of template words\n",
            "The letter ri can be found in the word rice of template words\n",
            "The letter c can be found in the word chiken of template words\n",
            "The letter k can be found in the word chiken of template words\n",
            "['wa', 'ri', 'c', 'k']\n",
            "The letter wa can be found in the word water of template words\n",
            "The letter ri can be found in the word rice of template words\n",
            "The letter ck not in template word. Could not make warick from the template words\n",
            "['wa', 'ri', 'ck']\n",
            "The letter wa can be found in the word water of template words\n",
            "The letter ric can be found in the word rice of template words\n",
            "The letter k can be found in the word chiken of template words\n",
            "['wa', 'ric', 'k']\n",
            "The letter wa can be found in the word water of template words\n",
            "The letter rick not in template word. Could not make warick from the template words\n",
            "['wa', 'rick']\n",
            "The letter war not in template word. Could not make warick from the template words\n",
            "['war', 'i', 'c', 'k']\n",
            "The letter war not in template word. Could not make warick from the template words\n",
            "['war', 'i', 'ck']\n",
            "The letter war not in template word. Could not make warick from the template words\n",
            "['war', 'ic', 'k']\n",
            "The letter war not in template word. Could not make warick from the template words\n",
            "['war', 'ick']\n",
            "The letter wari not in template word. Could not make warick from the template words\n",
            "['wari', 'c', 'k']\n",
            "The letter wari not in template word. Could not make warick from the template words\n",
            "['wari', 'ck']\n",
            "The letter waric not in template word. Could not make warick from the template words\n",
            "['waric', 'k']\n",
            "The letter warick not in template word. Could not make warick from the template words\n",
            "['warick']\n",
            "[{'w': 'water', 'a': 'water', 'r': 'water', 'i': 'chiken', 'c': 'chiken', 'k': 'chiken'}, {}, {'w': 'water', 'a': 'water', 'r': 'water', 'ic': 'rice', 'k': 'chiken'}, {}, {'w': 'water', 'a': 'water', 'ri': 'rice', 'c': 'chiken', 'k': 'chiken'}, {}, {'w': 'water', 'a': 'water', 'ric': 'rice', 'k': 'chiken'}, {}, {}, {}, {}, {}, {}, {}, {}, {}, {'wa': 'water', 'r': 'water', 'i': 'chiken', 'c': 'chiken', 'k': 'chiken'}, {}, {'wa': 'water', 'r': 'water', 'ic': 'rice', 'k': 'chiken'}, {}, {'wa': 'water', 'ri': 'rice', 'c': 'chiken', 'k': 'chiken'}, {}, {'wa': 'water', 'ric': 'rice', 'k': 'chiken'}, {}, {}, {}, {}, {}, {}, {}, {}, {}]\n"
          ]
        },
        {
          "output_type": "execute_result",
          "data": {
            "text/plain": [
              "{'wa': 'water', 'ric': 'rice', 'k': 'chiken'}"
            ]
          },
          "metadata": {},
          "execution_count": 84
        }
      ]
    },
    {
      "cell_type": "code",
      "source": [],
      "metadata": {
        "id": "WwqjFntq_h_9"
      },
      "execution_count": null,
      "outputs": []
    }
  ]
}